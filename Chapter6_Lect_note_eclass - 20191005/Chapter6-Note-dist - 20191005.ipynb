{
 "cells": [
  {
   "cell_type": "markdown",
   "metadata": {},
   "source": [
    "# Chapter 6. 지도학습: 분류 - 배포용"
   ]
  },
  {
   "cell_type": "markdown",
   "metadata": {},
   "source": [
    "지도학습 : 회귀, 분류\n",
    "  - 회귀(regression) : target : continuous value  --> chapter 5\n",
    "  - 분류(classification) : target : class(label, category)  --> this chapter"
   ]
  },
  {
   "cell_type": "markdown",
   "metadata": {},
   "source": [
    "**실습문제**: 아래의 파이썬/넘파이 스크립트에서 None과 pass로 표시된 곳을 찾아서 적절한 코드로 대체하시오."
   ]
  },
  {
   "cell_type": "markdown",
   "metadata": {},
   "source": [
    "## 6.1 1차원 입력 2 클래스 분류(Binary classification) 109강의 꼭 보기"
   ]
  },
  {
   "cell_type": "markdown",
   "metadata": {},
   "source": [
    "### 6.2.1 문제 설정"
   ]
  },
  {
   "cell_type": "markdown",
   "metadata": {},
   "source": [
    "![대체 텍스트](식6-1.JPG)\n",
    "- $x_n$ - 입력변수, \n",
    "- $t_n$ - 목표변수(target variable) : 클래스 0 또는 1\n",
    "- $\\textbf{x}$ - 입력 데이터, $\\textbf{t}$ - 목표 데이터"
   ]
  },
  {
   "cell_type": "markdown",
   "metadata": {},
   "source": [
    "예) 곤충 N 마리 데이터\n",
    "- $x_n$ : 무게\n",
    "- $t_n$ : 성별 (0 - 암컷, 1 - 수컷)\n",
    "- 목적 :데이터에 기초한 무게를 통한 성별 예측"
   ]
  },
  {
   "cell_type": "markdown",
   "metadata": {},
   "source": [
    "인공 데이터 생성:"
   ]
  },
  {
   "cell_type": "code",
   "execution_count": null,
   "metadata": {
    "scrolled": false
   },
   "outputs": [],
   "source": [
    "# 리스트 6-1-(1)\n",
    "import numpy as np\n",
    "import matplotlib.pyplot as plt\n",
    "%matplotlib inline\n",
    "# 데이터 생성 --------------------------------\n",
    "np.random.seed(seed=0) # 난수를 고정\n",
    "X_min = 0\n",
    "X_max = 2.5\n",
    "X_n = 30\n",
    "X_col = ['cornflowerblue', 'gray']\n",
    "X = np.zeros(X_n) # 입력 데이터\n",
    "T = np.zeros(X_n, dtype=np.uint8) # 목표 데이터\n",
    "Dist_s = [0.4, 0.8] # 분포의 시작 지점\n",
    "Dist_w = [0.8, 1.6] # 분포의 폭\n",
    "Pi = 0.5 # 클래스 0의 비율\n",
    "for n in range(X_n):\n",
    "    wk = np.random.rand()\n",
    "    T[n] = 0 * (wk < Pi) + 1 * (wk >= Pi) # (A)\n",
    "    X[n] = np.random.rand() * Dist_w[T[n]] + Dist_s[T[n]] # (B)\n",
    "# 데이터 표시 --------------------------------\n",
    "print('X=' + str(np.round(X, 2)))\n",
    "print('T=' + str(T))"
   ]
  },
  {
   "cell_type": "markdown",
   "metadata": {},
   "source": [
    "![대체 텍스트](그림6-1.JPG)"
   ]
  },
  {
   "cell_type": "code",
   "execution_count": null,
   "metadata": {
    "scrolled": true
   },
   "outputs": [],
   "source": [
    "# 리스트 6-1-(2)\n",
    "# 데이터 분포 표시 ----------------------------\n",
    "def show_data1(x, t):\n",
    "    K = np.max(t) + 1\n",
    "    for k in range(K): # (A)\n",
    "        plt.plot(x[t == k], t[t == k], X_col[k], linestyle='none', alpha=0.5, marker='o') # (B)\n",
    "        # k는 0 또는 1 0일때 암컷 파란색, 1일때 수컷 회색\n",
    "        # x[t == k] : 입력 데이터 중에 동일한 인덱스에서 t 값이 k인 것만 선택함 (불리언 인덱싱)\n",
    "        # t[t == k] : 목표 데이터에서 값이 k인 것만 선택 (첫번째 루프에서는 0인 값만 선택, \n",
    "        #                                                 두번째 루프에서는 1인 값만 선택)\n",
    "        print(t==k) #for test\n",
    "        print(x[t==k]) #for test\n",
    "        print(t[t==k]) #for test\n",
    "        plt.grid(True)\n",
    "        plt.ylim(-.5, 1.5)\n",
    "        plt.xlim(X_min, X_max)\n",
    "        plt.yticks([0, 1])\n",
    "\n",
    "\n",
    "# 메인 ------------------------------------\n",
    "fig = plt.figure(figsize=(3, 3))\n",
    "show_data1(X, T)\n",
    "plt.show()"
   ]
  },
  {
   "cell_type": "markdown",
   "metadata": {},
   "source": [
    "![대체 텍스트](p230.JPG)"
   ]
  },
  {
   "cell_type": "markdown",
   "metadata": {},
   "source": [
    "![대체 텍스트](그림6-2.JPG)"
   ]
  },
  {
   "cell_type": "markdown",
   "metadata": {},
   "source": [
    "단순히 선형 회귀 모델로 결정 경계를 정하는 것은 좋은 방법이 아니다. 즉 단순 선형 회귀 모델 별로임!!!!!!!!!!!!\n",
    "\n",
    "![대체 텍스트](그림6-3.JPG)"
   ]
  },
  {
   "cell_type": "markdown",
   "metadata": {},
   "source": [
    "### 6.1.2 확률로 나타내는 클래스 분류"
   ]
  },
  {
   "cell_type": "markdown",
   "metadata": {},
   "source": [
    "![대체 텍스트](그림6-4.JPG)"
   ]
  },
  {
   "cell_type": "markdown",
   "metadata": {},
   "source": [
    "![대체 텍스트](식6-2.JPG)"
   ]
  },
  {
   "cell_type": "markdown",
   "metadata": {},
   "source": [
    "### 6.1.4 로지스틱 회귀 모델  by used 시그모이드 함수!"
   ]
  },
  {
   "cell_type": "markdown",
   "metadata": {},
   "source": [
    "![대체 텍스트](식6-9.JPG)"
   ]
  },
  {
   "cell_type": "markdown",
   "metadata": {},
   "source": [
    "![대체 텍스트](그림6-6.JPG)"
   ]
  },
  {
   "cell_type": "code",
   "execution_count": null,
   "metadata": {},
   "outputs": [],
   "source": [
    "# 리스트 6-1-(3) : 로지스틱 회귀 모델\n",
    "def logistic(x, w):\n",
    "    y = 1 / (1 + np.exp(-(w[0]*x+w[1])))    # 여기에 None 대신에 적절한 코드를 입력하시오.\n",
    "    return y"
   ]
  },
  {
   "cell_type": "code",
   "execution_count": null,
   "metadata": {
    "scrolled": false
   },
   "outputs": [],
   "source": [
    "# 리스트 6-1-(4) : 로지스틱 회귀 모델을 결정 경계와 함께 표시\n",
    "def show_logistic(w):\n",
    "    xb = np.linspace(X_min, X_max, 100)\n",
    "    y = logistic(xb, w)\n",
    "    plt.plot(xb, y, color='gray', linewidth=4)\n",
    "    # 결정 경계\n",
    "    i = np.min(np.where(y > 0.5)) # (A)  np.where(y>0.5)는 y>0.5를 만족하는 요소번호를 모두 반환\n",
    "    B = (xb[i - 1] + xb[i]) / 2 # (B)   B = y가 0.5를 넘은 직후의 xb[i]와, 그 직전의 xb[i-1]의 평균\n",
    "    plt.plot([B, B], [-.5, 1.5], color='k', linestyle='--')\n",
    "    plt.grid(True)\n",
    "    return B\n",
    "\n",
    "# test\n",
    "W = [8, -10]\n",
    "show_logistic(W)"
   ]
  },
  {
   "cell_type": "markdown",
   "metadata": {},
   "source": [
    "### 6.1.5 교차 엔트로피 오차 (Cross Entropy Error, CEE)"
   ]
  },
  {
   "cell_type": "markdown",
   "metadata": {},
   "source": [
    "![대체 텍스트](식6-11.JPG)\n",
    "![대체 텍스트](식6-12.JPG)\n",
    "![대체 텍스트](식6-16.JPG)"
   ]
  },
  {
   "cell_type": "code",
   "execution_count": null,
   "metadata": {},
   "outputs": [],
   "source": [
    "# 리스트 6-1-(5)\n",
    "# 평균 교차 엔트로피 오차 ---------------------\n",
    "def cee_logistic(w, x, t):\n",
    "    y = logistic(x,w)    # 여기에 None 대신에 적절한 코드를 입력하시오.\n",
    "    '''\n",
    "    cee = 0\n",
    "    for n in range(len(y)):\n",
    "        cee = cee - (t[n] * np.log(y[n]) + (1 - t[n]) * np.log(1 - y[n]))\n",
    "    cee = cee / X_n\n",
    "    return cee\n",
    "    '''\n",
    "    return -np.mean(t*np.log(y)+(1-t)*np.log(1-y))    # 여기에 None 대신에 적절한 코드를 입력하시오.\n",
    "\n",
    "# test\n",
    "W=[1,1]\n",
    "cee_logistic(W, X, T)"
   ]
  },
  {
   "cell_type": "markdown",
   "metadata": {},
   "source": [
    "평균 교차 엔트로피 함수의 모양:\n",
    "\n",
    "![대체 텍스트](그림6-7.JPG)"
   ]
  },
  {
   "cell_type": "code",
   "execution_count": null,
   "metadata": {
    "scrolled": true
   },
   "outputs": [],
   "source": [
    "# 리스트 6-1-(6)\n",
    "from mpl_toolkits.mplot3d import Axes3D\n",
    "\n",
    "# 계산 --------------------------------------\n",
    "wn = 80 # 등고선 표시 해상도\n",
    "w_range = np.array([[0, 15], [-15, 0]])\n",
    "w0 = np.linspace(w_range[0, 0], w_range[0, 1], wn)\n",
    "w1 = np.linspace(w_range[1, 0], w_range[1, 1], wn)\n",
    "ww0, ww1 = np.meshgrid(w0, w1)\n",
    "C = np.zeros((len(w1), len(w0)))\n",
    "w = np.zeros(2)\n",
    "for i0 in range(wn):\n",
    "    for i1 in range(wn):\n",
    "        w[0] = w0[i0]\n",
    "        w[1] = w1[i1]\n",
    "        C[i1, i0] = cee_logistic(w, X, T)\n",
    "\n",
    "# 표시 --------------------------------------\n",
    "plt.figure(figsize=(12, 5))\n",
    "#plt.figure(figsize=(9.5, 4))\n",
    "plt.subplots_adjust(wspace=0.5)\n",
    "ax = plt.subplot(1, 2, 1, projection='3d')\n",
    "ax.plot_surface(ww0, ww1, C, color='blue', edgecolor='black',\n",
    "                rstride=10, cstride=10, alpha=0.3)\n",
    "ax.set_xlabel('$w_0$', fontsize=14)\n",
    "ax.set_ylabel('$w_1$', fontsize=14)\n",
    "ax.set_xlim(0, 15)\n",
    "ax.set_ylim(-15, 0)\n",
    "ax.set_zlim(0, 8)\n",
    "ax.view_init(30, -105)\n",
    "\n",
    "plt.subplot(1, 2, 2)\n",
    "cont = plt.contour(ww0, ww1, C, 20, colors='black'\n",
    "                   , levels=[0.26, 0.4, 0.8, 1.6, 3.2, 6.4])\n",
    "cont.clabel(fmt='%1.1f', fontsize=8)\n",
    "plt.xlabel('$w_0$', fontsize=14)\n",
    "plt.ylabel('$w_1$', fontsize=14)\n",
    "plt.grid(True)\n",
    "plt.show()"
   ]
  },
  {
   "cell_type": "markdown",
   "metadata": {},
   "source": [
    "위의 평균 교차 엔트로피 에러 그래프에서 최소치는 $w_0=9, w_1=-9$ 근처에 있음"
   ]
  },
  {
   "cell_type": "markdown",
   "metadata": {},
   "source": [
    "#### CEE 대신에 MSE(x 이거 쓰면 안됌)를 적용하면 @@@@이거 한번 봐라!@@@@\n",
    "<span style=\"color:red\">\n",
    "(Sung Kim 교수의 유튜브 동영상 '모두의 딥러닝 강좌: ML lec 5-2 Logistic Regression의 cost 함수 설명' 참조 ) \n",
    "</span> \n",
    "\n",
    "https://www.youtube.com/watch?v=6vzchGYEJBc&list=PLlMkM4tgfjnLSOjrEJN31gZATbcj_MpUm&index=12"
   ]
  },
  {
   "cell_type": "code",
   "execution_count": null,
   "metadata": {},
   "outputs": [],
   "source": [
    "# 리스트 6-1-(5)-1\n",
    "# 로지스틱 함수에 만약 MSE 오차를 적용하면 ---------------------\n",
    "def mse_logistic(w, x, t): #MSE보단 Cross entropie error function쓰는게 낫다. 왜? 평면에서 멈춰버릴 수 있음 영상참고~\n",
    "    y = logistic(x,w)    # 여기에 None 대신에 적절한 코드를 입력하시오.\n",
    "    return np.mean((y-t)**2)    # 여기에 None 대신에 적절한 코드를 입력하시오.\n",
    "\n",
    "# test\n",
    "\n",
    "W=[1,1]\n",
    "mse_logistic(W, X, T)"
   ]
  },
  {
   "cell_type": "code",
   "execution_count": null,
   "metadata": {
    "scrolled": false
   },
   "outputs": [],
   "source": [
    "# 리스트 6-1-(6)-1\n",
    "# mse_logistic에 대한 그래프\n",
    "from mpl_toolkits.mplot3d import Axes3D\n",
    "\n",
    "# 계산 --------------------------------------\n",
    "wn = 80 # 등고선 표시 해상도\n",
    "w_range = np.array([[0, 15], [-15, 0]])\n",
    "w0 = np.linspace(w_range[0, 0], w_range[0, 1], wn)\n",
    "w1 = np.linspace(w_range[1, 0], w_range[1, 1], wn)\n",
    "ww0, ww1 = np.meshgrid(w0, w1)\n",
    "C = np.zeros((len(w1), len(w0)))\n",
    "w = np.zeros(2)\n",
    "for i0 in range(wn):\n",
    "    for i1 in range(wn):\n",
    "        w[0] = w0[i0]\n",
    "        w[1] = w1[i1]\n",
    "        C[i1, i0] = mse_logistic(w, X, T)\n",
    "\n",
    "# 표시 --------------------------------------\n",
    "plt.figure(figsize=(12, 5))\n",
    "#plt.figure(figsize=(9.5, 4))\n",
    "plt.subplots_adjust(wspace=0.5)\n",
    "ax = plt.subplot(1, 2, 1, projection='3d')\n",
    "ax.plot_surface(ww0, ww1, C, color='blue', edgecolor='black',\n",
    "                rstride=10, cstride=10, alpha=0.3)\n",
    "ax.set_xlabel('$w_0$', fontsize=14)\n",
    "ax.set_ylabel('$w_1$', fontsize=14)\n",
    "ax.set_xlim(0, 15)\n",
    "ax.set_ylim(-15, 0)\n",
    "ax.set_zlim(0, 1)\n",
    "ax.view_init(30, -50)\n",
    "\n",
    "plt.subplot(1, 2, 2)\n",
    "cont = plt.contour(ww0, ww1, C, 20, colors='black')\n",
    "                   #, levels=[0.26, 0.4, 0.8, 1.6, 3.2, 6.4])\n",
    "cont.clabel(fmt='%1.1f', fontsize=8)\n",
    "plt.xlabel('$w_0$', fontsize=14)\n",
    "plt.ylabel('$w_1$', fontsize=14)\n",
    "plt.grid(True)\n",
    "plt.show()"
   ]
  },
  {
   "cell_type": "code",
   "execution_count": null,
   "metadata": {},
   "outputs": [],
   "source": []
  },
  {
   "cell_type": "markdown",
   "metadata": {},
   "source": [
    "### 6.1.6 학습 규칙의 도출"
   ]
  },
  {
   "cell_type": "markdown",
   "metadata": {},
   "source": [
    "![대체 텍스트](p243.JPG)\n",
    "![대체 텍스트](p244.JPG)\n",
    "![대체 텍스트](p245.JPG)\n",
    "![대체 텍스트](p246.JPG)"
   ]
  },
  {
   "cell_type": "markdown",
   "metadata": {},
   "source": [
    "### 로지스틱 회귀 모델의 학습 규칙 요약: 이거 외워라!\n",
    "![대체 텍스트](그림6-8.JPG)"
   ]
  },
  {
   "cell_type": "code",
   "execution_count": null,
   "metadata": {},
   "outputs": [],
   "source": [
    "# 리스트 6-1-(7)\n",
    "# 평균 교차 엔트로피 오차의 미분 --------------\n",
    "def dcee_logistic(w, x, t):\n",
    "    y = logistic(x,w)    # 여기에 None 대신에 적절한 코드를 입력하시오.\n",
    "    dcee = np.zeros(2)\n",
    "    dcee[0] = np.mean((y-t)*x)    # 여기에 None 대신에 적절한 코드를 입력하시오.\n",
    "    dcee[1] = np.mean(y-t)    # 여기에 None 대신에 적절한 코드를 입력하시오.\n",
    "    return dcee    \n",
    "\n",
    "# --- test\n",
    "W=[1, 1]\n",
    "dcee_logistic(W, X, T)"
   ]
  },
  {
   "cell_type": "markdown",
   "metadata": {},
   "source": [
    "### 6.1.7 경사 하강법에 의한 해"
   ]
  },
  {
   "cell_type": "markdown",
   "metadata": {},
   "source": [
    "**경사하강법에 의한 매개변수의 최적화**: <span style=\"color:red\">scipy.optimize 라이브러리에 포함된 minimize() 함수 이용</span> "
   ]
  },
  {
   "cell_type": "code",
   "execution_count": null,
   "metadata": {
    "scrolled": true
   },
   "outputs": [],
   "source": [
    "# 리스트 6-1-(8)\n",
    "from scipy.optimize import minimize\n",
    "\n",
    "# 최적 매개 변수 찾기 \n",
    "def fit_logistic(w_init, x, t):\n",
    "    res1 = minimize(cee_logistic, w_init, args=(x, t), #  scipy 라이브러리에 있는 함수로 경사하강법 수행,\n",
    "                    jac=dcee_logistic, method=\"CG\") # (A) CG = Conjugate Gradient Method\n",
    "    # minimize()의 인수로는 교차 엔트로피 함수 cee_logistic, w의 초기값 w_init, \n",
    "    # args=(x,t)에는 cee_logistic의 w 이외의 인수를, jac=dcee_logistic에는 미분함수를 지정하고, \n",
    "    # method='CG'로 켤레 기울기법(Conjugate Gradient Method)이라는 경사하강법의 일종을 지정합니다.\n",
    "    return res1.x\n",
    "\n",
    "# 메인 ------------------------------------\n",
    "plt.figure(1, figsize=(3, 3))\n",
    "W_init=[1,-1]\n",
    "W = fit_logistic(W_init, X, T)\n",
    "print(\"w0 = {0:.2f}, w1 = {1:.2f}\".format(W[0], W[1]))\n",
    "B=show_logistic(W)\n",
    "#show_data1(X, T)\n",
    "plt.ylim(-.5, 1.5)\n",
    "plt.xlim(X_min, X_max)\n",
    "cee = cee_logistic(W, X, T)\n",
    "print(\"CEE = {0:.2f}\".format(cee))\n",
    "print(\"Boundary = {0:.2f} g\".format(B))\n",
    "plt.show()"
   ]
  },
  {
   "cell_type": "markdown",
   "metadata": {},
   "source": [
    "![대체 텍스트](그림6-9.JPG)"
   ]
  },
  {
   "cell_type": "markdown",
   "metadata": {},
   "source": [
    "**실습문제:** scipy.optimize 라이브러리를 이용하지 말고 경사하강법을 직접 구현하여 최적의 매개변수를 구하는 fit_logistic() 함수를 구현하시오."
   ]
  },
  {
   "cell_type": "code",
   "execution_count": null,
   "metadata": {
    "scrolled": true
   },
   "outputs": [],
   "source": [
    "# 리스트 6-1-(8)-1\n",
    "#from scipy.optimize import minimize\n",
    "\n",
    "# 최적 매개 변수 찾기\n",
    "def fit_logistic_num(w_init, x, t):\n",
    "    '''''\n",
    "    res1 = minimize(cee_logistic, w_init, args=(x, t), #  scipy 라이브러리에 있는 함수로 경사하강법 수행,\n",
    "                    jac=dcee_logistic, method=\"CG\") # (A) CG = Conjugate Gradient Method\n",
    "    # minimize()의 인수로는 교차 엔트로피 함수 cee_logistic, w의 초기값 w_init, \n",
    "    # args=(x,t)에는 cee_logistic의 w 이외의 인수를, jac=dcee_logistic에는 미분함수를 지정하고, \n",
    "    # method='CG'로 켤레 기울기법(Conjugate Gradient Method)이라는 경사하강법의 일종을 지정합니다.\n",
    "    return res1.x\n",
    "    '''''\n",
    "    alpha = 0.01 # 학습률\n",
    "    i_max = 500000 # 반복의 최대 수\n",
    "    eps = 0.0001 # 반복을 종료 기울기의 절대 값의 한계\n",
    "    w_i = np.zeros([i_max, 2])    # iteration 별 w=[w0,w1] 값의 변경 내역\n",
    "    w_i[0, :] = w_init\n",
    "    print(\"w_init = \", w_init)\n",
    "    for i in range(1, i_max):\n",
    "        cee = cee_logistic(w_i[i-1], x, t)      # 여기에 None 대신에 적절한 코드를 입력하시오.\n",
    "        dcee = dcee_logistic(w_i[i-1], x, t)     # 여기에 None 대신에 적절한 코드를 입력하시오.\n",
    "        w_i[i, :] = w_i[i-1, :] - alpha * dcee[:]        # 여기에 None 대신에 적절한 코드를 입력하시오.\n",
    "        if i % 10000 == 0:\n",
    "            print(\"Iter =\", i, \",    CEE = \", np.round(cee,3))\n",
    "            print(\"w_i[i, 0] = {0:.3f}, w_i[i, 1] = {1:.3f}\".format(w_i[i, 0], w_i[i, 1]))\n",
    "        if max(np.absolute(dcee)) < eps:     # 종료판정, np.absolute는 절대치\n",
    "            break\n",
    "    w = w_i[i, :]\n",
    "    w_i = w_i[:i, :]            \n",
    "    return w\n",
    "                 \n",
    "# 메인 ------------------------------------\n",
    "plt.figure(1, figsize=(3, 3))\n",
    "W_init=[5,-5]    # 초기 매개 변수\n",
    "W = fit_logistic_num(W_init, X, T)\n",
    "print(\"w0 = {0:.2f}, w1 = {1:.2f}\".format(W[0], W[1]))\n",
    "B=show_logistic(W)\n",
    "show_data1(X, T)\n",
    "plt.ylim(-.5, 1.5)\n",
    "plt.xlim(X_min, X_max)\n",
    "cee = cee_logistic(W, X, T)\n",
    "print(\"CEE = {0:.2f}\".format(cee))\n",
    "print(\"Boundary = {0:.2f} g\".format(B))\n",
    "plt.show()"
   ]
  },
  {
   "cell_type": "code",
   "execution_count": null,
   "metadata": {},
   "outputs": [],
   "source": []
  },
  {
   "cell_type": "markdown",
   "metadata": {},
   "source": [
    "## 6.2 2차원 입력 2 클래스 분류"
   ]
  },
  {
   "cell_type": "markdown",
   "metadata": {},
   "source": [
    "### 6.2.1 문제 설정"
   ]
  },
  {
   "cell_type": "code",
   "execution_count": null,
   "metadata": {
    "scrolled": true
   },
   "outputs": [],
   "source": [
    "%reset"
   ]
  },
  {
   "cell_type": "markdown",
   "metadata": {},
   "source": [
    "데이터 생성 (2클래스 분류와 3클래스 데이터를 함께 생성)"
   ]
  },
  {
   "cell_type": "code",
   "execution_count": null,
   "metadata": {},
   "outputs": [],
   "source": [
    "# 리스트 6-2-(1)\n",
    "import numpy as np\n",
    "import matplotlib.pyplot as plt\n",
    "%matplotlib inline\n",
    "\n",
    "# 데이터 생성 --------------------------------\n",
    "np.random.seed(seed=1)  # 난수를 고정\n",
    "N = 100 # 데이터의 수\n",
    "K = 3 # 분포 수\n",
    "T3 = np.zeros((N, 3), dtype=np.uint8)\n",
    "T2 = np.zeros((N, 2), dtype=np.uint8)\n",
    "X = np.zeros((N, 2))\n",
    "X_range0 = [-3, 3] # X0 범위 표시 용\n",
    "X_range1 = [-3, 3] # X1의 범위 표시 용\n",
    "Mu = np.array([[-.5, -.5], [.5, 1.0], [1, -.5]]) # 분포의 중심\n",
    "Sig = np.array([[.7, .7], [.8, .3], [.3, .8]]) # 분포의 분산\n",
    "Pi = np.array([0.4, 0.8, 1]) # (A) 각 분포에 대한 비율 0.4 0.8 1\n",
    "for n in range(N):\n",
    "    wk = np.random.rand()\n",
    "    for k in range(K): # (B)\n",
    "        if wk < Pi[k]:\n",
    "            T3[n, k] = 1\n",
    "            break\n",
    "    for k in range(2):\n",
    "        X[n, k] = (np.random.randn() * Sig[T3[n, :] == 1, k]\n",
    "                   + Mu[T3[n, :] == 1, k])\n",
    "T2[:, 0] = T3[:, 0]                # 3개 클래스에 대한 레이블을 먼저 생성하고\n",
    "T2[:, 1] = T3[:, 1] | T3[:, 2]     # 2개 클래스 테스트를 위해 클래스1과 클래스2를 하나로 합침"
   ]
  },
  {
   "cell_type": "markdown",
   "metadata": {},
   "source": [
    "입력 데이터 **X**의 첫 5개:"
   ]
  },
  {
   "cell_type": "code",
   "execution_count": null,
   "metadata": {},
   "outputs": [],
   "source": [
    "# 리스트 6-2-(2)\n",
    "print(X[:5,:])"
   ]
  },
  {
   "cell_type": "markdown",
   "metadata": {},
   "source": [
    "클래스 데이터 **T2**의 첫 5개:"
   ]
  },
  {
   "cell_type": "code",
   "execution_count": null,
   "metadata": {
    "scrolled": true
   },
   "outputs": [],
   "source": [
    "# 리스트 6-2-(3)\n",
    "print(T2[:5,:])"
   ]
  },
  {
   "cell_type": "markdown",
   "metadata": {},
   "source": [
    "위에서 차례로 클래스 1, 0, 0, 1, 0에 속한다는 의미입니다."
   ]
  },
  {
   "cell_type": "markdown",
   "metadata": {},
   "source": [
    "클래스 데이터 **T3**의 첫 5개:"
   ]
  },
  {
   "cell_type": "code",
   "execution_count": null,
   "metadata": {
    "scrolled": true
   },
   "outputs": [],
   "source": [
    "# 리스트 6-2-(4)\n",
    "print(T3[:5,:])"
   ]
  },
  {
   "cell_type": "markdown",
   "metadata": {},
   "source": [
    "이처럼 목적 변수 벡터 $t_n$의 $k$번째 요소만 1로, 그 외에는 0으로 표기하는 방법을 1-of-K 부호화 또는 \n",
    "### one-hot encoding 이라고 합니다."
   ]
  },
  {
   "cell_type": "markdown",
   "metadata": {},
   "source": [
    "위에서 생성한 데이터에 대하여 **T2**와 **T3**를 그림으로 나타내면:\n",
    "![대체 텍스트](그림6-10.JPG)"
   ]
  },
  {
   "cell_type": "code",
   "execution_count": null,
   "metadata": {
    "scrolled": true
   },
   "outputs": [],
   "source": [
    "# 리스트 6-2-(5)\n",
    "# 데이터 표시 --------------------------\n",
    "def show_data2(x, t):\n",
    "    wk, K = t.shape\n",
    "    c = [[.5, .5, .5], [1, 1, 1], [0, 0, 0]]      # 회색, 흰색, 검정색\n",
    "    for k in range(K):\n",
    "        plt.plot(x[t[:, k] == 1, 0], x[t[:, k] == 1, 1],    \n",
    "                 # x는 Nx2의 2차원 배열, x[:,0]는 첫번째 칼럼으로 x축 값, x[:,1]는 두번째 칼럼으로 y축 값\n",
    "                 # 't[:, k] == 1'의 의미는 x의 각 행 중에 k번째 클래스가 1인 것만 선택\n",
    "                 linestyle='none', markeredgecolor='black',\n",
    "                 marker='o', color=c[k], alpha=0.8)\n",
    "        plt.grid(True)\n",
    "\n",
    "# 메인 ------------------------------\n",
    "plt.figure(figsize=(7.5, 3))\n",
    "plt.subplots_adjust(wspace=0.5)\n",
    "plt.subplot(1, 2, 1)\n",
    "show_data2(X, T2)\n",
    "plt.xlim(X_range0)\n",
    "plt.ylim(X_range1)\n",
    "\n",
    "plt.subplot(1, 2, 2)\n",
    "show_data2(X, T3)\n",
    "plt.xlim(X_range0)\n",
    "plt.ylim(X_range1)\n",
    "plt.show()"
   ]
  },
  {
   "cell_type": "markdown",
   "metadata": {},
   "source": [
    "### 6.2.2 로지스틱 회귀 모델"
   ]
  },
  {
   "cell_type": "markdown",
   "metadata": {},
   "source": [
    "로지스틱 회귀모델은 1차원 입력 모델(식6-11)에서 간단히 2차원 입력 모델(식6-35)로 확장할 수 있습니다(그림6-11).\n",
    "\n",
    "![대체 텍스트](p254.JPG)"
   ]
  },
  {
   "cell_type": "code",
   "execution_count": null,
   "metadata": {},
   "outputs": [],
   "source": [
    "# 리스트 6-2-(6)\n",
    "# 로지스틱 회귀 모델 -----------------\n",
    "def logistic2(x0, x1, w):\n",
    "    y = 1/ (1+np.exp(-(w[0]*x0+w[1]*x1+w[2])))    # 여기에 None 대신에 적절한 코드를 입력하시오.\n",
    "    return y"
   ]
  },
  {
   "cell_type": "code",
   "execution_count": null,
   "metadata": {},
   "outputs": [],
   "source": [
    "# 리스트 6-2-(7) : W=[-1,-1,-1]인 경우에 2차원 로지스틱 회귀 모델과 데이터를 3차원으로 표시 \n",
    "# 모델 3D보기 \n",
    "from mpl_toolkits.mplot3d import axes3d\n",
    "\n",
    "def show3d_logistic2(ax, w):\n",
    "    xn = 50\n",
    "    x0 = np.linspace(X_range0[0], X_range0[1], xn)\n",
    "    x1 = np.linspace(X_range1[0], X_range1[1], xn)\n",
    "    xx0, xx1 = np.meshgrid(x0, x1)\n",
    "    y = logistic2(xx0, xx1, w)\n",
    "    ax.plot_surface(xx0, xx1, y, color='blue', edgecolor='gray',\n",
    "                    rstride=5, cstride=5, alpha=0.3)\n",
    "\n",
    "def show_data2_3d(ax, x, t):\n",
    "    #c = [[.5, .5, .5], [1, 1, 1]]    \n",
    "    c = ['gray', 'white']\n",
    "    for i in range(2):\n",
    "        ax.plot(x[t[:, i] == 1, 0], x[t[:, i] == 1, 1], 1 - i,\n",
    "                marker='o', color=c[i], markeredgecolor='black',\n",
    "                linestyle='none', markersize=5, alpha=0.8)\n",
    "    ax.set_xlabel('$x_0$')\n",
    "    ax.set_ylabel('$x_1$')\n",
    "    #ax.view_init(elev=25, azim=-30)\n",
    "    ax.view_init(elev=25, azim=90)\n",
    "\n",
    "# test ---\n",
    "Ax = plt.subplot(1, 1, 1, projection='3d')\n",
    "W=[-1, -1, -1] #임의의 초기 값\n",
    "show3d_logistic2(Ax, W)\n",
    "show_data2_3d(Ax,X,T2)"
   ]
  },
  {
   "cell_type": "code",
   "execution_count": null,
   "metadata": {
    "scrolled": true
   },
   "outputs": [],
   "source": [
    "# 리스트 6-2-(8)\n",
    "# 모델 등고선 2D 표시 ------------------------\n",
    "def show_contour_logistic2(w):\n",
    "    xn = 30 # 파라미터의 분할 수\n",
    "    x0 = np.linspace(X_range0[0], X_range0[1], xn)\n",
    "    x1 = np.linspace(X_range1[0], X_range1[1], xn)\n",
    "    xx0, xx1 = np.meshgrid(x0, x1)\n",
    "    y = logistic2(xx0, xx1, w)\n",
    "    cont = plt.contour(xx0, xx1, y, levels=(0.2, 0.5, 0.8),\n",
    "                       colors=['k', 'cornflowerblue', 'k'])\n",
    "    cont.clabel(fmt='%1.1f', fontsize=10)\n",
    "    plt.xlabel('$x_0$')\n",
    "    plt.ylabel('$x_1$')\n",
    "    plt.grid(True)\n",
    "\n",
    "# test ---\n",
    "plt.figure(figsize=(3,3))\n",
    "W=[-1, -1, -1]\n",
    "show_contour_logistic2(W)"
   ]
  },
  {
   "cell_type": "markdown",
   "metadata": {},
   "source": [
    "모델의 평균 교차 엔트로피 오차는 앞에 나왔던 (식6-17)을 그대로 사용합니다.\n",
    "\n",
    "![대체 텍스트](식6-17.JPG)"
   ]
  },
  {
   "cell_type": "markdown",
   "metadata": {},
   "source": [
    "데이터에서는 1-of-K 부호화를 사용하는데, 2클래스 분류 문제이므로 $\\textbf{T}$의 0열째 $t_{n0}$을 $t_n$으로 두고, 1이면 클래스0, 0이면 클래스1로, 앞 절과 마찬가지로 문제를 처리할 수 있습니다."
   ]
  },
  {
   "cell_type": "code",
   "execution_count": null,
   "metadata": {},
   "outputs": [],
   "source": [
    "# 리스트 6-2-(9)\n",
    "# 크로스 엔트로피 오차 ------------\n",
    "def cee_logistic2(w, x, t):\n",
    "    X_n = x.shape[0]\n",
    "    y = logistic2(x[:, 0], x[:, 1], w)\n",
    "    cee = -np.mean(t[:,0]*np.log(y)+(1-t[:,0])*np.log(1-y))   # 여기에 None 대신에 적절한 코드를 입력하시오.\n",
    "    return cee"
   ]
  },
  {
   "cell_type": "markdown",
   "metadata": {},
   "source": [
    "매개변수의 편미분을 구하면, (식6-37), (식6-38), (식6-39)를 얻을 수 있습니다.\n",
    "\n",
    "![대체 텍스트](식6-37.JPG)"
   ]
  },
  {
   "cell_type": "code",
   "execution_count": null,
   "metadata": {},
   "outputs": [],
   "source": [
    "# 리스트 6-2-(10) : : W=[-1,-1,-1]인 경우의 편미분 계산\n",
    "# 크로스 엔트로피 오차의 미분 ------------\n",
    "def dcee_logistic2(w, x, t):\n",
    "    X_n=x.shape[0]\n",
    "    y = logistic2(x[:, 0], x[:, 1], w)\n",
    "    dcee = np.zeros(3)\n",
    "    dcee[0] = np.mean((y-t[:,0])*x[:,0])      # 여기에 None 대신에 적절한 코드를 입력하시오.\n",
    "    dcee[1] = np.mean((y-t[:,0])*x[:,1])      # 여기에 None 대신에 적절한 코드를 입력하시오.\n",
    "    dcee[2] = np.mean(y-t[:,0])      # 여기에 None 대신에 적절한 코드를 입력하시오.\n",
    "    return dcee\n",
    "\n",
    "# test ---\n",
    "W=[-1, -1, -1]\n",
    "dcee_logistic2(W, X, T2)"
   ]
  },
  {
   "cell_type": "markdown",
   "metadata": {},
   "source": [
    "**경사하강법에 의한 매개변수의 최적화**: <span style=\"color:red\">scipy.optimize 라이브러리에 포함된 minimize() 함수 이용</span> "
   ]
  },
  {
   "cell_type": "code",
   "execution_count": null,
   "metadata": {
    "scrolled": true
   },
   "outputs": [],
   "source": [
    "# 리스트 6-2-(11)\n",
    "from scipy.optimize import minimize\n",
    "\n",
    "# 로지스틱 회귀 모델의 매개 변수 찾기\n",
    "def fit_logistic2(w_init, x, t):\n",
    "    res = minimize(cee_logistic2, w_init, args=(x, t),\n",
    "                   jac=dcee_logistic2, method=\"CG\")\n",
    "    return res.x\n",
    "\n",
    "# 메인 ------------------------------------\n",
    "plt.figure(1, figsize=(10, 4))\n",
    "plt.subplots_adjust(wspace=0.5)\n",
    "\n",
    "Ax = plt.subplot(1, 2, 1, projection='3d')\n",
    "W_init = [-1, 0, 0]\n",
    "W = fit_logistic2(W_init, X, T2)\n",
    "print(\"w0 = {0:.2f}, w1 = {1:.2f}, w2 = {2:.2f}\".format(W[0], W[1], W[2]))\n",
    "show3d_logistic2(Ax, W)\n",
    "\n",
    "show_data2_3d(Ax, X, T2)\n",
    "cee = cee_logistic2(W, X, T2)\n",
    "print(\"CEE = {0:.2f}\".format(cee))\n",
    "\n",
    "Ax = plt.subplot(1, 2, 2)\n",
    "show_data2(X, T2)\n",
    "show_contour_logistic2(W)\n",
    "plt.show()"
   ]
  },
  {
   "cell_type": "markdown",
   "metadata": {},
   "source": [
    "![대체 텍스트](그림6-12.JPG)"
   ]
  },
  {
   "cell_type": "markdown",
   "metadata": {},
   "source": [
    "**실습문제:** scipy.optimize 라이브러리를 이용하지 말고 경사하강법을 직접 구현하여 최적의 매개변수를 구하는 fit_logistic2() 함수를 구현하시오."
   ]
  },
  {
   "cell_type": "code",
   "execution_count": null,
   "metadata": {},
   "outputs": [],
   "source": []
  },
  {
   "cell_type": "code",
   "execution_count": null,
   "metadata": {
    "scrolled": true
   },
   "outputs": [],
   "source": [
    "# 리스트 6-2-(11)-1\n",
    "#from scipy.optimize import minimize\n",
    "\n",
    "# 로지스틱 회귀 모델의 매개 변수 찾기\n",
    "def fit_logistic2_num(w_init, x, t):\n",
    "    alpha = 0.01\n",
    "    i_max = 100000\n",
    "    eps = 0.0001\n",
    "    w_i = np.zeros([i_max,3])\n",
    "    w_i[0,:] = w_init\n",
    "    print(\"w_init=\", w_init)\n",
    "    for i in range(1, i_max):\n",
    "        cee = cee_logistic2(w_i[i-1],x,t)\n",
    "        dcee = dcee_logistic2(w_i[i-1],x,t)\n",
    "        \n",
    "        w_i[i,:] - w_i[i-1,:] - alpha*dcee[:]\n",
    "        if i % 10000 == 0:\n",
    "            print(\"lter =\", i, \"CEE =\",np.round(cee,3))\n",
    "            print(\"w_i[i,0]={0:.3f}, w_i[i,1] = {1:3f}\".format(w_i[i,0], w_i[i,1]))\n",
    "        if max(np.absolute(dcee))<eps:\n",
    "            break# 여기에 pass 대신에 적절한 코드를 입력하시오.\n",
    "            \n",
    "            w = w_i[i,:]\n",
    "            w_i = w_i[:i,:]\n",
    "    return W\n",
    "    \n",
    "# 메인 ------------------------------------\n",
    "plt.figure(1, figsize=(10, 4))\n",
    "plt.subplots_adjust(wspace=0.5)\n",
    "\n",
    "Ax = plt.subplot(1, 2, 1, projection='3d')\n",
    "W_init = [-1, 0, 0]\n",
    "W = fit_logistic2_num(W_init, X, T2)\n",
    "print(\"w0 = {0:.2f}, w1 = {1:.2f}, w2 = {2:.2f}\".format(W[0], W[1], W[2]))\n",
    "show3d_logistic2(Ax, W)\n",
    "\n",
    "show_data2_3d(Ax, X, T2)\n",
    "cee = cee_logistic2(W, X, T2)\n",
    "print(\"CEE = {0:.2f}\".format(cee))\n",
    "\n",
    "Ax = plt.subplot(1, 2, 2)\n",
    "show_data2(X, T2)\n",
    "show_contour_logistic2(W)\n",
    "plt.show()"
   ]
  },
  {
   "cell_type": "markdown",
   "metadata": {},
   "source": [
    "## 6.3 2차원 입력 3클래스 분류 "
   ]
  },
  {
   "cell_type": "markdown",
   "metadata": {},
   "source": [
    "### 6.3.1 3클래스 분류 로지스틱 회귀 모델"
   ]
  },
  {
   "cell_type": "markdown",
   "metadata": {},
   "source": [
    "![대체 텍스트](그림6-13.JPG)"
   ]
  },
  {
   "cell_type": "markdown",
   "metadata": {},
   "source": [
    "![대체 텍스트](p260.JPG)\n",
    "![대체 텍스트](p261.JPG)"
   ]
  },
  {
   "cell_type": "code",
   "execution_count": null,
   "metadata": {
    "scrolled": true
   },
   "outputs": [],
   "source": [
    "# 리스트 6-2-(12)\n",
    "# 3 클래스 용 로지스틱 회귀 모델 -----------------\n",
    "def logistic3(x0, x1, w):\n",
    "    K = 3\n",
    "    w = w.reshape((3, 3))\n",
    "    n = len(x1)\n",
    "    a = np.zeros((n, K))\n",
    "    y = np.zeros((n, K))\n",
    "    for k in range(K):\n",
    "        a[:, k] = np.exp(w[k,0]*x0 + w[k,1]*x1 + w[k,2])     # 여기에 None 대신에 적절한 코드를 입력하시오.\n",
    "    u = np.sum(a, axis=1, keepdims=True)     # u.shape = (n,1) # 여기에 None 대신에 적절한 코드를 입력하시오.\n",
    "    y = a/u     # y.shape = (n,k) / (n,1) = (n,k) # 여기에 None 대신에 적절한 코드를 입력하시오.\n",
    "    return y\n",
    "\n",
    "# test ---\n",
    "W = np.array([1, 2, 3, 4 ,5, 6, 7, 8, 9])\n",
    "y = logistic3(X[:5, 0], X[:5, 1], W)    # 5개의 입력 데이터에 대해서만 테스트 함\n",
    "print(np.round(y, 3))"
   ]
  },
  {
   "cell_type": "markdown",
   "metadata": {},
   "source": [
    "### 6.3.2 교차 엔트로피 오차"
   ]
  },
  {
   "cell_type": "markdown",
   "metadata": {},
   "source": [
    "![대체 텍스트](p262.JPG)\n",
    "![대체 텍스트](p263.JPG)"
   ]
  },
  {
   "cell_type": "code",
   "execution_count": null,
   "metadata": {},
   "outputs": [],
   "source": [
    "# 리스트 6-2-(13)\n",
    "# 교차 엔트로피 오차 ------------\n",
    "def cee_logistic3(w, x, t):\n",
    "    #X_n = x.shape[0]\n",
    "    y = logistic3(x[:,0], x[:,1],w)      # 여기에 None 대신에 적절한 코드를 입력하시오.\n",
    "    cee = -np.mean(np.sum(t*np.log(y),axis=1))    # 여기에 None 대신에 적절한 코드를 입력하시오.\n",
    "    return cee\n",
    "\n",
    "# test ----\n",
    "W = np.array([1, 2, 3, 4 ,5, 6, 7, 8, 9])\n",
    "cee_logistic3(W, X, T3)"
   ]
  },
  {
   "cell_type": "markdown",
   "metadata": {},
   "source": [
    "### 6.3.3 경사하강법에 의한 해"
   ]
  },
  {
   "cell_type": "markdown",
   "metadata": {},
   "source": [
    "**경사하강법을 위한 편미분**: "
   ]
  },
  {
   "cell_type": "markdown",
   "metadata": {},
   "source": [
    "![대체 텍스트](식6-51.JPG)"
   ]
  },
  {
   "cell_type": "code",
   "execution_count": null,
   "metadata": {
    "scrolled": true
   },
   "outputs": [],
   "source": [
    "# 리스트 6-2-(14)\n",
    "# 교차 엔트로피 오차의 미분 ------------\n",
    "def dcee_logistic3(w, x, t):\n",
    "    X_n = x.shape[0]\n",
    "    y = logistic3(x[:,0],x[:,1],w)      # 여기에 None 대신에 적절한 코드를 입력하시오.\n",
    "    dcee = np.zeros((3, 3)) # (클래스의 수 K) x (x의 차원 D+1)\n",
    "    N, K = y.shape\n",
    "    for n in range(N):\n",
    "        for k in range(K):\n",
    "            dcee[k, :] = dcee[k,:] + (y[n,k] - t[n,k])*np.r_[x[n,:],1]    # 여기에 None 대신에 적절한 코드를 입력하시오.\n",
    "    dcee = dcee / X_n\n",
    "    return dcee.reshape(-1)  # dcee.shape = (9,), minimize() 함수의 인자로 전달하기 위하여 1차원 배열로 변환\n",
    "\n",
    "# test ----\n",
    "W = np.array([1, 2, 3, 4 ,5, 6, 7, 8, 9])\n",
    "dcee_logistic3(W, X, T3)"
   ]
  },
  {
   "cell_type": "markdown",
   "metadata": {},
   "source": [
    "**경사하강법에 의한 매개변수의 최적화**: <span style=\"color:red\">scipy.optimize 라이브러리에 포함된 minimize() 함수 이용</span> "
   ]
  },
  {
   "cell_type": "code",
   "execution_count": null,
   "metadata": {},
   "outputs": [],
   "source": [
    "# 리스트 6-2-(15)\n",
    "# 최적 매개 변수 찾기 -----------------\n",
    "def fit_logistic3(w_init, x, t):\n",
    "    res = minimize(cee_logistic3, w_init, args=(x, t),\n",
    "                   jac=dcee_logistic3, method=\"CG\")\n",
    "    return res.x"
   ]
  },
  {
   "cell_type": "code",
   "execution_count": null,
   "metadata": {},
   "outputs": [],
   "source": [
    "# 리스트 6-2-(16)\n",
    "# 모델 등고선 2D 표시 --------------------\n",
    "def show_contour_logistic3(w):\n",
    "    xn = 30 # 파라미터의 분할 수\n",
    "    x0 = np.linspace(X_range0[0], X_range0[1], xn)\n",
    "    x1 = np.linspace(X_range1[0], X_range1[1], xn)\n",
    "\n",
    "    xx0, xx1 = np.meshgrid(x0, x1)\n",
    "    y = np.zeros((xn, xn, 3))\n",
    "    for i in range(xn):\n",
    "        ynk = logistic3(xx0[:, i], xx1[:, i], w)  # ynk.shape = (n,k) where n=xn, k=3\n",
    "        for j in range(3):\n",
    "            y[:, i, j] = ynk[:, j]\n",
    "    for j in range(3):\n",
    "        cont = plt.contour(xx0, xx1, y[:, :, j],\n",
    "                           levels=(0.5, 0.9),\n",
    "                           colors=['cornflowerblue', 'k'])\n",
    "        cont.clabel(fmt='%1.1f', fontsize=9)\n",
    "    plt.grid(True)"
   ]
  },
  {
   "cell_type": "code",
   "execution_count": null,
   "metadata": {
    "scrolled": true
   },
   "outputs": [],
   "source": [
    "# 리스트 6-2-(17)\n",
    "# 메인 ------------------------------------\n",
    "W_init = np.zeros((3, 3))\n",
    "W = fit_logistic3(W_init, X, T3)\n",
    "print(np.round(W.reshape((3, 3)),2))\n",
    "cee = cee_logistic3(W, X, T3)\n",
    "print(\"CEE = {0:.2f}\".format(cee))\n",
    "\n",
    "plt.figure(figsize=(4, 4))\n",
    "show_data2(X, T3)\n",
    "show_contour_logistic3(W)\n",
    "plt.show()"
   ]
  },
  {
   "cell_type": "markdown",
   "metadata": {},
   "source": [
    "**실습문제:** scipy.optimize 라이브러리를 이용하지 말고 경사하강법을 직접 구현하여 최적의 매개변수를 구하는 fit_logistic3() 함수를 구현하시오."
   ]
  },
  {
   "cell_type": "code",
   "execution_count": 97,
   "metadata": {
    "scrolled": true
   },
   "outputs": [],
   "source": [
    "# 리스트 6-2-(15)-1\n",
    "# 최적 매개 변수 찾기 -----------------\n",
    "def fit_logistic3_num(w_init, x, t):\n",
    "    alpha = 0.01\n",
    "    i_max = 100000\n",
    "    eps = 0.0001\n",
    "    w_i = np.zeros([i_max,9])\n",
    "    w_i[0,:] = w_init.reshape(9)\n",
    "    print(\"w_i[0,:]=\", w_i[0,:])\n",
    "    for i in range(1, i_max):\n",
    "        cee = cee_logistic3(w_i[i-1],x,t)\n",
    "        dcee = dcee_logistic3(w_i[i-1],x,t)\n",
    "        w_i[i,:] = w_i[i-1,:] - alpha*dcee[:]\n",
    "        if i % 1000 == 0:\n",
    "            print(\"lter =\", i, \"CEE =\",np.round(cee,3))\n",
    "            print(\"w_i[i,:]\",np.round(w_i[i,:],3))\n",
    "        if max(np.absolute(dcee))<eps:\n",
    "            break# 여기에 pass 대신에 적절한 코드를 입력하시오.\n",
    "            \n",
    "    w = w_i[i,:]\n",
    "    w_i = w_i[:i,:]\n",
    "    return W         # 여기에 pass 대신에 적절한 코드를 입력하시오."
   ]
  },
  {
   "cell_type": "code",
   "execution_count": 98,
   "metadata": {
    "scrolled": true
   },
   "outputs": [
    {
     "name": "stdout",
     "output_type": "stream",
     "text": [
      "w_i[0,:]= [0. 0. 0. 0. 0. 0. 0. 0. 0.]\n",
      "lter = 1000 CEE = 0.409\n",
      "w_i[i,:] [-1.084 -0.781  0.271  0.159  1.469  0.061  0.925 -0.688 -0.332]\n",
      "lter = 2000 CEE = 0.328\n",
      "w_i[i,:] [-1.47  -1.087  0.532  0.149  1.972 -0.05   1.32  -0.885 -0.482]\n",
      "lter = 3000 CEE = 0.295\n",
      "w_i[i,:] [-1.702 -1.284  0.713  0.13   2.29  -0.129  1.572 -1.006 -0.584]\n",
      "lter = 4000 CEE = 0.278\n",
      "w_i[i,:] [-1.866 -1.43   0.85   0.108  2.526 -0.189  1.758 -1.096 -0.661]\n",
      "lter = 5000 CEE = 0.267\n",
      "w_i[i,:] [-1.991 -1.545  0.959  0.085  2.713 -0.237  1.906 -1.168 -0.722]\n",
      "lter = 6000 CEE = 0.259\n",
      "w_i[i,:] [-2.091 -1.64   1.049  0.062  2.868 -0.276  2.029 -1.228 -0.773]\n",
      "lter = 7000 CEE = 0.254\n",
      "w_i[i,:] [-2.174 -1.719  1.127  0.04   3.    -0.31   2.134 -1.281 -0.817]\n",
      "lter = 8000 CEE = 0.25\n",
      "w_i[i,:] [-2.244 -1.788  1.194  0.019  3.115 -0.339  2.226 -1.328 -0.855]\n",
      "lter = 9000 CEE = 0.246\n",
      "w_i[i,:] [-2.305e+00 -1.848e+00  1.255e+00 -2.000e-03  3.217e+00 -3.650e-01\n",
      "  2.307e+00 -1.369e+00 -8.900e-01]\n",
      "lter = 10000 CEE = 0.244\n",
      "w_i[i,:] [-2.358 -1.901  1.308 -0.021  3.308 -0.388  2.379 -1.408 -0.921]\n",
      "lter = 11000 CEE = 0.242\n",
      "w_i[i,:] [-2.405 -1.948  1.357 -0.04   3.39  -0.408  2.445 -1.443 -0.949]\n",
      "lter = 12000 CEE = 0.24\n",
      "w_i[i,:] [-2.448 -1.99   1.402 -0.057  3.465 -0.427  2.505 -1.475 -0.975]\n",
      "lter = 13000 CEE = 0.239\n",
      "w_i[i,:] [-2.486 -2.029  1.443 -0.074  3.534 -0.443  2.56  -1.505 -0.999]\n",
      "lter = 14000 CEE = 0.237\n",
      "w_i[i,:] [-2.521 -2.064  1.481 -0.09   3.596 -0.459  2.611 -1.533 -1.022]\n",
      "lter = 15000 CEE = 0.236\n",
      "w_i[i,:] [-2.553 -2.096  1.516 -0.106  3.655 -0.473  2.658 -1.559 -1.043]\n",
      "lter = 16000 CEE = 0.236\n",
      "w_i[i,:] [-2.582 -2.125  1.548 -0.12   3.709 -0.485  2.702 -1.583 -1.063]\n",
      "lter = 17000 CEE = 0.235\n",
      "w_i[i,:] [-2.609 -2.152  1.579 -0.134  3.759 -0.497  2.743 -1.606 -1.081]\n",
      "lter = 18000 CEE = 0.234\n",
      "w_i[i,:] [-2.634 -2.178  1.607 -0.147  3.806 -0.508  2.782 -1.628 -1.099]\n",
      "lter = 19000 CEE = 0.233\n",
      "w_i[i,:] [-2.658 -2.201  1.634 -0.16   3.85  -0.519  2.818 -1.648 -1.116]\n",
      "lter = 20000 CEE = 0.233\n",
      "w_i[i,:] [-2.68  -2.223  1.659 -0.172  3.891 -0.528  2.852 -1.668 -1.131]\n",
      "lter = 21000 CEE = 0.232\n",
      "w_i[i,:] [-2.7   -2.244  1.683 -0.183  3.929 -0.537  2.884 -1.686 -1.146]\n",
      "lter = 22000 CEE = 0.232\n",
      "w_i[i,:] [-2.72  -2.263  1.706 -0.194  3.966 -0.545  2.914 -1.703 -1.161]\n",
      "lter = 23000 CEE = 0.232\n",
      "w_i[i,:] [-2.738 -2.281  1.727 -0.205  4.    -0.553  2.943 -1.719 -1.174]\n",
      "lter = 24000 CEE = 0.231\n",
      "w_i[i,:] [-2.755 -2.298  1.747 -0.215  4.033 -0.56   2.97  -1.735 -1.187]\n",
      "lter = 25000 CEE = 0.231\n",
      "w_i[i,:] [-2.772 -2.314  1.766 -0.224  4.064 -0.567  2.996 -1.75  -1.2  ]\n",
      "lter = 26000 CEE = 0.231\n",
      "w_i[i,:] [-2.787 -2.329  1.785 -0.233  4.093 -0.573  3.021 -1.764 -1.211]\n",
      "lter = 27000 CEE = 0.23\n",
      "w_i[i,:] [-2.802 -2.344  1.802 -0.242  4.121 -0.579  3.044 -1.777 -1.223]\n",
      "lter = 28000 CEE = 0.23\n",
      "w_i[i,:] [-2.816 -2.357  1.818 -0.25   4.147 -0.585  3.067 -1.79  -1.234]\n",
      "lter = 29000 CEE = 0.23\n",
      "w_i[i,:] [-2.83  -2.37   1.834 -0.258  4.172 -0.59   3.088 -1.802 -1.244]\n",
      "lter = 30000 CEE = 0.23\n",
      "w_i[i,:] [-2.842 -2.383  1.849 -0.266  4.196 -0.595  3.108 -1.813 -1.254]\n",
      "lter = 31000 CEE = 0.23\n",
      "w_i[i,:] [-2.855 -2.394  1.864 -0.273  4.219 -0.6    3.128 -1.824 -1.264]\n",
      "lter = 32000 CEE = 0.23\n",
      "w_i[i,:] [-2.866 -2.406  1.877 -0.28   4.24  -0.604  3.147 -1.835 -1.273]\n",
      "lter = 33000 CEE = 0.229\n",
      "w_i[i,:] [-2.877 -2.416  1.89  -0.287  4.261 -0.608  3.165 -1.845 -1.282]\n",
      "lter = 34000 CEE = 0.229\n",
      "w_i[i,:] [-2.888 -2.426  1.903 -0.294  4.281 -0.612  3.182 -1.854 -1.291]\n",
      "lter = 35000 CEE = 0.229\n",
      "w_i[i,:] [-2.898 -2.436  1.915 -0.3    4.3   -0.616  3.198 -1.864 -1.299]\n",
      "lter = 36000 CEE = 0.229\n",
      "w_i[i,:] [-2.908 -2.445  1.927 -0.306  4.318 -0.62   3.214 -1.872 -1.307]\n",
      "lter = 37000 CEE = 0.229\n",
      "w_i[i,:] [-2.918 -2.454  1.938 -0.312  4.335 -0.623  3.23  -1.881 -1.315]\n",
      "lter = 38000 CEE = 0.229\n",
      "w_i[i,:] [-2.927 -2.463  1.948 -0.318  4.352 -0.626  3.244 -1.889 -1.322]\n",
      "lter = 39000 CEE = 0.229\n",
      "w_i[i,:] [-2.935 -2.471  1.959 -0.323  4.368 -0.629  3.258 -1.897 -1.329]\n",
      "lter = 40000 CEE = 0.229\n",
      "w_i[i,:] [-2.944 -2.479  1.968 -0.328  4.383 -0.632  3.272 -1.904 -1.336]\n"
     ]
    },
    {
     "ename": "KeyboardInterrupt",
     "evalue": "",
     "output_type": "error",
     "traceback": [
      "\u001b[1;31m---------------------------------------------------------------------------\u001b[0m",
      "\u001b[1;31mKeyboardInterrupt\u001b[0m                         Traceback (most recent call last)",
      "\u001b[1;32m<ipython-input-98-e0fcf9bc7509>\u001b[0m in \u001b[0;36m<module>\u001b[1;34m\u001b[0m\n\u001b[0;32m      2\u001b[0m \u001b[1;31m# 메인 ------------------------------------\u001b[0m\u001b[1;33m\u001b[0m\u001b[1;33m\u001b[0m\u001b[1;33m\u001b[0m\u001b[0m\n\u001b[0;32m      3\u001b[0m \u001b[0mW_init\u001b[0m \u001b[1;33m=\u001b[0m \u001b[0mnp\u001b[0m\u001b[1;33m.\u001b[0m\u001b[0mzeros\u001b[0m\u001b[1;33m(\u001b[0m\u001b[1;33m(\u001b[0m\u001b[1;36m3\u001b[0m\u001b[1;33m,\u001b[0m \u001b[1;36m3\u001b[0m\u001b[1;33m)\u001b[0m\u001b[1;33m)\u001b[0m\u001b[1;33m\u001b[0m\u001b[1;33m\u001b[0m\u001b[0m\n\u001b[1;32m----> 4\u001b[1;33m \u001b[0mW\u001b[0m \u001b[1;33m=\u001b[0m \u001b[0mfit_logistic3_num\u001b[0m\u001b[1;33m(\u001b[0m\u001b[0mW_init\u001b[0m\u001b[1;33m,\u001b[0m \u001b[0mX\u001b[0m\u001b[1;33m,\u001b[0m \u001b[0mT3\u001b[0m\u001b[1;33m)\u001b[0m\u001b[1;33m\u001b[0m\u001b[1;33m\u001b[0m\u001b[0m\n\u001b[0m\u001b[0;32m      5\u001b[0m \u001b[0mprint\u001b[0m\u001b[1;33m(\u001b[0m\u001b[0mnp\u001b[0m\u001b[1;33m.\u001b[0m\u001b[0mround\u001b[0m\u001b[1;33m(\u001b[0m\u001b[0mW\u001b[0m\u001b[1;33m.\u001b[0m\u001b[0mreshape\u001b[0m\u001b[1;33m(\u001b[0m\u001b[1;33m(\u001b[0m\u001b[1;36m3\u001b[0m\u001b[1;33m,\u001b[0m \u001b[1;36m3\u001b[0m\u001b[1;33m)\u001b[0m\u001b[1;33m)\u001b[0m\u001b[1;33m,\u001b[0m\u001b[1;36m2\u001b[0m\u001b[1;33m)\u001b[0m\u001b[1;33m)\u001b[0m\u001b[1;33m\u001b[0m\u001b[1;33m\u001b[0m\u001b[0m\n\u001b[0;32m      6\u001b[0m \u001b[0mcee\u001b[0m \u001b[1;33m=\u001b[0m \u001b[0mcee_logistic3\u001b[0m\u001b[1;33m(\u001b[0m\u001b[0mW\u001b[0m\u001b[1;33m,\u001b[0m \u001b[0mX\u001b[0m\u001b[1;33m,\u001b[0m \u001b[0mT3\u001b[0m\u001b[1;33m)\u001b[0m\u001b[1;33m\u001b[0m\u001b[1;33m\u001b[0m\u001b[0m\n",
      "\u001b[1;32m<ipython-input-97-68bc676b6276>\u001b[0m in \u001b[0;36mfit_logistic3_num\u001b[1;34m(w_init, x, t)\u001b[0m\n\u001b[0;32m     10\u001b[0m     \u001b[1;32mfor\u001b[0m \u001b[0mi\u001b[0m \u001b[1;32min\u001b[0m \u001b[0mrange\u001b[0m\u001b[1;33m(\u001b[0m\u001b[1;36m1\u001b[0m\u001b[1;33m,\u001b[0m \u001b[0mi_max\u001b[0m\u001b[1;33m)\u001b[0m\u001b[1;33m:\u001b[0m\u001b[1;33m\u001b[0m\u001b[1;33m\u001b[0m\u001b[0m\n\u001b[0;32m     11\u001b[0m         \u001b[0mcee\u001b[0m \u001b[1;33m=\u001b[0m \u001b[0mcee_logistic3\u001b[0m\u001b[1;33m(\u001b[0m\u001b[0mw_i\u001b[0m\u001b[1;33m[\u001b[0m\u001b[0mi\u001b[0m\u001b[1;33m-\u001b[0m\u001b[1;36m1\u001b[0m\u001b[1;33m]\u001b[0m\u001b[1;33m,\u001b[0m\u001b[0mx\u001b[0m\u001b[1;33m,\u001b[0m\u001b[0mt\u001b[0m\u001b[1;33m)\u001b[0m\u001b[1;33m\u001b[0m\u001b[1;33m\u001b[0m\u001b[0m\n\u001b[1;32m---> 12\u001b[1;33m         \u001b[0mdcee\u001b[0m \u001b[1;33m=\u001b[0m \u001b[0mdcee_logistic3\u001b[0m\u001b[1;33m(\u001b[0m\u001b[0mw_i\u001b[0m\u001b[1;33m[\u001b[0m\u001b[0mi\u001b[0m\u001b[1;33m-\u001b[0m\u001b[1;36m1\u001b[0m\u001b[1;33m]\u001b[0m\u001b[1;33m,\u001b[0m\u001b[0mx\u001b[0m\u001b[1;33m,\u001b[0m\u001b[0mt\u001b[0m\u001b[1;33m)\u001b[0m\u001b[1;33m\u001b[0m\u001b[1;33m\u001b[0m\u001b[0m\n\u001b[0m\u001b[0;32m     13\u001b[0m         \u001b[0mw_i\u001b[0m\u001b[1;33m[\u001b[0m\u001b[0mi\u001b[0m\u001b[1;33m,\u001b[0m\u001b[1;33m:\u001b[0m\u001b[1;33m]\u001b[0m \u001b[1;33m=\u001b[0m \u001b[0mw_i\u001b[0m\u001b[1;33m[\u001b[0m\u001b[0mi\u001b[0m\u001b[1;33m-\u001b[0m\u001b[1;36m1\u001b[0m\u001b[1;33m,\u001b[0m\u001b[1;33m:\u001b[0m\u001b[1;33m]\u001b[0m \u001b[1;33m-\u001b[0m \u001b[0malpha\u001b[0m\u001b[1;33m*\u001b[0m\u001b[0mdcee\u001b[0m\u001b[1;33m[\u001b[0m\u001b[1;33m:\u001b[0m\u001b[1;33m]\u001b[0m\u001b[1;33m\u001b[0m\u001b[1;33m\u001b[0m\u001b[0m\n\u001b[0;32m     14\u001b[0m         \u001b[1;32mif\u001b[0m \u001b[0mi\u001b[0m \u001b[1;33m%\u001b[0m \u001b[1;36m1000\u001b[0m \u001b[1;33m==\u001b[0m \u001b[1;36m0\u001b[0m\u001b[1;33m:\u001b[0m\u001b[1;33m\u001b[0m\u001b[1;33m\u001b[0m\u001b[0m\n",
      "\u001b[1;32m<ipython-input-85-e25d95ed6567>\u001b[0m in \u001b[0;36mdcee_logistic3\u001b[1;34m(w, x, t)\u001b[0m\n\u001b[0;32m      8\u001b[0m     \u001b[1;32mfor\u001b[0m \u001b[0mn\u001b[0m \u001b[1;32min\u001b[0m \u001b[0mrange\u001b[0m\u001b[1;33m(\u001b[0m\u001b[0mN\u001b[0m\u001b[1;33m)\u001b[0m\u001b[1;33m:\u001b[0m\u001b[1;33m\u001b[0m\u001b[1;33m\u001b[0m\u001b[0m\n\u001b[0;32m      9\u001b[0m         \u001b[1;32mfor\u001b[0m \u001b[0mk\u001b[0m \u001b[1;32min\u001b[0m \u001b[0mrange\u001b[0m\u001b[1;33m(\u001b[0m\u001b[0mK\u001b[0m\u001b[1;33m)\u001b[0m\u001b[1;33m:\u001b[0m\u001b[1;33m\u001b[0m\u001b[1;33m\u001b[0m\u001b[0m\n\u001b[1;32m---> 10\u001b[1;33m             \u001b[0mdcee\u001b[0m\u001b[1;33m[\u001b[0m\u001b[0mk\u001b[0m\u001b[1;33m,\u001b[0m \u001b[1;33m:\u001b[0m\u001b[1;33m]\u001b[0m \u001b[1;33m=\u001b[0m \u001b[0mdcee\u001b[0m\u001b[1;33m[\u001b[0m\u001b[0mk\u001b[0m\u001b[1;33m,\u001b[0m\u001b[1;33m:\u001b[0m\u001b[1;33m]\u001b[0m \u001b[1;33m+\u001b[0m \u001b[1;33m(\u001b[0m\u001b[0my\u001b[0m\u001b[1;33m[\u001b[0m\u001b[0mn\u001b[0m\u001b[1;33m,\u001b[0m\u001b[0mk\u001b[0m\u001b[1;33m]\u001b[0m \u001b[1;33m-\u001b[0m \u001b[0mt\u001b[0m\u001b[1;33m[\u001b[0m\u001b[0mn\u001b[0m\u001b[1;33m,\u001b[0m\u001b[0mk\u001b[0m\u001b[1;33m]\u001b[0m\u001b[1;33m)\u001b[0m\u001b[1;33m*\u001b[0m\u001b[0mnp\u001b[0m\u001b[1;33m.\u001b[0m\u001b[0mr_\u001b[0m\u001b[1;33m[\u001b[0m\u001b[0mx\u001b[0m\u001b[1;33m[\u001b[0m\u001b[0mn\u001b[0m\u001b[1;33m,\u001b[0m\u001b[1;33m:\u001b[0m\u001b[1;33m]\u001b[0m\u001b[1;33m,\u001b[0m\u001b[1;36m1\u001b[0m\u001b[1;33m]\u001b[0m    \u001b[1;31m# 여기에 None 대신에 적절한 코드를 입력하시오.\u001b[0m\u001b[1;33m\u001b[0m\u001b[1;33m\u001b[0m\u001b[0m\n\u001b[0m\u001b[0;32m     11\u001b[0m     \u001b[0mdcee\u001b[0m \u001b[1;33m=\u001b[0m \u001b[0mdcee\u001b[0m \u001b[1;33m/\u001b[0m \u001b[0mX_n\u001b[0m\u001b[1;33m\u001b[0m\u001b[1;33m\u001b[0m\u001b[0m\n\u001b[0;32m     12\u001b[0m     \u001b[1;32mreturn\u001b[0m \u001b[0mdcee\u001b[0m\u001b[1;33m.\u001b[0m\u001b[0mreshape\u001b[0m\u001b[1;33m(\u001b[0m\u001b[1;33m-\u001b[0m\u001b[1;36m1\u001b[0m\u001b[1;33m)\u001b[0m  \u001b[1;31m# dcee.shape = (9,), minimize() 함수의 인자로 전달하기 위하여 1차원 배열로 변환\u001b[0m\u001b[1;33m\u001b[0m\u001b[1;33m\u001b[0m\u001b[0m\n",
      "\u001b[1;32mC:\\ProgramData\\Anaconda3\\lib\\site-packages\\numpy\\lib\\index_tricks.py\u001b[0m in \u001b[0;36m__getitem__\u001b[1;34m(self, key)\u001b[0m\n\u001b[0;32m    402\u001b[0m                 \u001b[0mobjs\u001b[0m\u001b[1;33m[\u001b[0m\u001b[0mk\u001b[0m\u001b[1;33m]\u001b[0m \u001b[1;33m=\u001b[0m \u001b[0mobjs\u001b[0m\u001b[1;33m[\u001b[0m\u001b[0mk\u001b[0m\u001b[1;33m]\u001b[0m\u001b[1;33m.\u001b[0m\u001b[0mastype\u001b[0m\u001b[1;33m(\u001b[0m\u001b[0mfinal_dtype\u001b[0m\u001b[1;33m)\u001b[0m\u001b[1;33m\u001b[0m\u001b[1;33m\u001b[0m\u001b[0m\n\u001b[0;32m    403\u001b[0m \u001b[1;33m\u001b[0m\u001b[0m\n\u001b[1;32m--> 404\u001b[1;33m         \u001b[0mres\u001b[0m \u001b[1;33m=\u001b[0m \u001b[0mself\u001b[0m\u001b[1;33m.\u001b[0m\u001b[0mconcatenate\u001b[0m\u001b[1;33m(\u001b[0m\u001b[0mtuple\u001b[0m\u001b[1;33m(\u001b[0m\u001b[0mobjs\u001b[0m\u001b[1;33m)\u001b[0m\u001b[1;33m,\u001b[0m \u001b[0maxis\u001b[0m\u001b[1;33m=\u001b[0m\u001b[0maxis\u001b[0m\u001b[1;33m)\u001b[0m\u001b[1;33m\u001b[0m\u001b[1;33m\u001b[0m\u001b[0m\n\u001b[0m\u001b[0;32m    405\u001b[0m \u001b[1;33m\u001b[0m\u001b[0m\n\u001b[0;32m    406\u001b[0m         \u001b[1;32mif\u001b[0m \u001b[0mmatrix\u001b[0m\u001b[1;33m:\u001b[0m\u001b[1;33m\u001b[0m\u001b[1;33m\u001b[0m\u001b[0m\n",
      "\u001b[1;31mKeyboardInterrupt\u001b[0m: "
     ]
    }
   ],
   "source": [
    "# 리스트 6-2-(17)-1\n",
    "# 메인 ------------------------------------\n",
    "W_init = np.zeros((3, 3))\n",
    "W = fit_logistic3_num(W_init, X, T3)\n",
    "print(np.round(W.reshape((3, 3)),2))\n",
    "cee = cee_logistic3(W, X, T3)\n",
    "print(\"CEE = {0:.2f}\".format(cee))\n",
    "\n",
    "plt.figure(figsize=(4, 4))\n",
    "show_data2(X, T3)\n",
    "show_contour_logistic3(W)\n",
    "plt.show()"
   ]
  },
  {
   "cell_type": "code",
   "execution_count": null,
   "metadata": {},
   "outputs": [],
   "source": []
  },
  {
   "cell_type": "code",
   "execution_count": null,
   "metadata": {},
   "outputs": [],
   "source": []
  }
 ],
 "metadata": {
  "kernelspec": {
   "display_name": "Python 3",
   "language": "python",
   "name": "python3"
  },
  "language_info": {
   "codemirror_mode": {
    "name": "ipython",
    "version": 3
   },
   "file_extension": ".py",
   "mimetype": "text/x-python",
   "name": "python",
   "nbconvert_exporter": "python",
   "pygments_lexer": "ipython3",
   "version": "3.7.3"
  }
 },
 "nbformat": 4,
 "nbformat_minor": 2
}
