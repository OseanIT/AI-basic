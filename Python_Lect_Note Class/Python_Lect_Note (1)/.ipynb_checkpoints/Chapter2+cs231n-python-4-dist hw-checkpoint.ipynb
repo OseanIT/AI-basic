{
 "cells": [
  {
   "cell_type": "markdown",
   "metadata": {},
   "source": [
    "# 파이썬 튜토리얼 (4) - 배포용"
   ]
  },
  {
   "cell_type": "markdown",
   "metadata": {},
   "source": [
    "<span style=\"color:red\">\n",
    "    본 자료는 교재 \"파이썬으로 배우는 머신러닝의 교과서\" chapter 2의 내용과 Stanford 강의 \"CS231n, Python Numpy Tutorial\"의 한글버전(http://aikorea.org/cs231n/python-numpy-tutorial/)을 파이썬 3 버전에 맞게 수정한 것과, 점프 투 파이썬 인터넷 교재, https://wikidocs.net/book/1, 및 그 외에 다른 참고자료들을 일부 추가하여 만들었습니다. \n",
    "</span>\n",
    "\n",
    "참고 자료: \n",
    "- 이토마코토/박광수, 파이썬으로 배우는 머신러닝의 교과서, chapter 2, 한빛미디어, 2018\n",
    "- Stanford university, CS231n, Python Numpy Tutorial,의 한글버전 (http://aikorea.org/cs231n/python-numpy-tutorial/)\n",
    "- 박응용, 점프 투 파이썬, https://wikidocs.net/book/1\n",
    "- Python Documentation https://docs.python.org/3.7/contents.html\n",
    "- Python 버전 2와 3 차이 https://zetawiki.com/wiki/Python_%EB%B2%84%EC%A0%84_2%EC%99%80_3_%EC%B0%A8%EC%9D%B4"
   ]
  },
  {
   "cell_type": "markdown",
   "metadata": {},
   "source": [
    "## 함수"
   ]
  },
  {
   "cell_type": "markdown",
   "metadata": {},
   "source": [
    "파이썬 함수는 ‘def’ 키워드를 통해 정의됩니다:"
   ]
  },
  {
   "cell_type": "code",
   "execution_count": 2,
   "metadata": {},
   "outputs": [
    {
     "name": "stdout",
     "output_type": "stream",
     "text": [
      "Hi!\n",
      "Hi!\n"
     ]
    }
   ],
   "source": [
    "def my_func1():\n",
    "    print('Hi!')\n",
    "# 함수 my_func1()의 정의는 여기까지\n",
    "my_func1() # 함수를 실행 \n",
    "my_func1()"
   ]
  },
  {
   "cell_type": "code",
   "execution_count": 3,
   "metadata": {},
   "outputs": [
    {
     "data": {
      "text/plain": [
       "12"
      ]
     },
     "execution_count": 3,
     "metadata": {},
     "output_type": "execute_result"
    }
   ],
   "source": [
    "def my_func2(a, b):\n",
    "    c = a + b\n",
    "    return c\n",
    "\n",
    "my_func2(1, 2)\n",
    "my_func2(4, 8)"
   ]
  },
  {
   "cell_type": "code",
   "execution_count": 4,
   "metadata": {},
   "outputs": [
    {
     "data": {
      "text/plain": [
       "'abcd'"
      ]
     },
     "execution_count": 4,
     "metadata": {},
     "output_type": "execute_result"
    }
   ],
   "source": [
    "my_func2(\"ab\",\"cd\") #이거 영상 보기 꼭 문자 합치는 거 있음"
   ]
  },
  {
   "cell_type": "code",
   "execution_count": 5,
   "metadata": {},
   "outputs": [
    {
     "data": {
      "text/plain": [
       "[1, 2, 3, 4]"
      ]
     },
     "execution_count": 5,
     "metadata": {},
     "output_type": "execute_result"
    }
   ],
   "source": [
    "my_func2([1,2], [3,4])"
   ]
  },
  {
   "cell_type": "markdown",
   "metadata": {},
   "source": [
    "**실습문제**: 숫자 x가 양수인지, 음수인지, 영인지를 알려주는 sign(x) 함수를 정의하고 리스트 [-1, 0, 1]에 대해 테스트하라."
   ]
  },
  {
   "cell_type": "code",
   "execution_count": 13,
   "metadata": {
    "scrolled": true
   },
   "outputs": [
    {
     "name": "stdout",
     "output_type": "stream",
     "text": [
      "-\n",
      "0\n",
      "+\n"
     ]
    }
   ],
   "source": [
    "def sign(x):\n",
    "    if x>0:print(\"+\")\n",
    "    elif x==0: print(\"0\")\n",
    "    else: print(\"-\")\n",
    "        \n",
    "for i in [-1, 0, 1]:\n",
    "    sign(i)"
   ]
  },
  {
   "cell_type": "markdown",
   "metadata": {},
   "source": [
    "**실습문제**: 숫자로 구성된 리스트 x를 입력 받아 평균을 반환하는 list_average(x) 함수를 작성하고 테스트 해 보자."
   ]
  },
  {
   "cell_type": "code",
   "execution_count": 31,
   "metadata": {},
   "outputs": [
    {
     "name": "stdout",
     "output_type": "stream",
     "text": [
      "2.0\n"
     ]
    }
   ],
   "source": [
    "def list_average(x):\n",
    "    total = 0\n",
    "    for number in x:\n",
    "        total += number\n",
    "        average = total/len(x)\n",
    "    print(average)\n",
    "a = [1, 2, 3]\n",
    "list_average(a)"
   ]
  },
  {
   "cell_type": "markdown",
   "metadata": {},
   "source": [
    "아래처럼 선택적으로 인자를 받는 함수를 정의할 때도 있습니다:"
   ]
  },
  {
   "cell_type": "code",
   "execution_count": 17,
   "metadata": {},
   "outputs": [
    {
     "name": "stdout",
     "output_type": "stream",
     "text": [
      "Hello, Bob\n",
      "HELLO, FRED!\n"
     ]
    }
   ],
   "source": [
    "def hello(name, loud=False): #첫번째 값은 꼭 주고, 두번째 값은 안주면 false 된다. default value for loud = False\n",
    "    if loud: \n",
    "        print ('HELLO, %s!' % name.upper())\n",
    "    else:\n",
    "        print ('Hello, %s' % name)\n",
    "\n",
    "hello('Bob') # 출력 \"Hello, Bob\"\n",
    "hello('Fred', loud=True)  # 출력 \"HELLO, FRED!\""
   ]
  },
  {
   "cell_type": "markdown",
   "metadata": {},
   "source": [
    "함수는 여러개의 반환값을 돌려 줄 수 있습니다. "
   ]
  },
  {
   "cell_type": "code",
   "execution_count": 19,
   "metadata": {},
   "outputs": [],
   "source": [
    "import numpy as np\n",
    "\n",
    "def my_func3(D):\n",
    "    m = np.mean(D)\n",
    "    s = np.std(D)\n",
    "    return m, s"
   ]
  },
  {
   "cell_type": "code",
   "execution_count": 22,
   "metadata": {},
   "outputs": [
    {
     "name": "stdout",
     "output_type": "stream",
     "text": [
      "[-0.13252458  0.70877599  0.30356361 -1.38917956 -0.82955855  0.3745479\n",
      "  0.16871604 -0.57749976 -0.33133608  0.50245415 -0.4532665   1.38374843\n",
      "  0.20259691  0.46305564 -1.55192245  0.70066258 -0.88716555  0.53235536\n",
      " -0.29235604 -1.3830059   0.47161647  1.01400938  1.24947543  0.28105529\n",
      " -0.78728386  2.42205342  0.59287108  0.28156387 -0.09446274 -0.20412794\n",
      " -0.98379122  0.97736095 -0.09410869  0.09902147 -0.65329528 -0.59658449\n",
      " -1.57030285  0.13874413 -0.3884676   1.09303758  1.02885212  0.03490894\n",
      " -1.30554906 -0.10124922 -1.22972176 -1.65831102 -1.25163407 -0.404523\n",
      "  0.32252275 -0.52580231 -0.84864778 -1.52451818  1.00046421  0.94817244\n",
      " -1.05161275  0.22180107 -1.29185723  0.96913639  0.2428529   0.02569934\n",
      "  0.54064423 -0.345421   -0.39090133 -1.33148625  0.54209799  0.98177364\n",
      " -0.07016723 -0.82578012 -0.32848388 -0.22809624 -1.69740023  0.5022995\n",
      " -0.75953456 -1.15635113  1.94650485 -1.44702832  1.23707376  2.95072595\n",
      "  0.6937942   0.56457358  0.14799991 -0.39664428 -0.40729352 -1.34978171\n",
      " -0.18672085  0.28583075  1.86042501  0.72255103  1.22167328 -0.13056129\n",
      "  0.96702516  1.70095457 -0.05274776 -0.3696626   0.44715546 -1.16340572\n",
      " -1.15354245 -0.37343408  0.54797021  0.11422832]\n",
      "mean:-0.02, std:0.94\n"
     ]
    }
   ],
   "source": [
    "data=np.random.randn(100)\n",
    "print(data)\n",
    "(data_mean, data_std) = my_func3(data) #()없어도 된다.\n",
    "print('mean:{0:3.2f}, std:{1:3.2f}'.format(data_mean, data_std)) #2f 소숫점 두자리"
   ]
  },
  {
   "cell_type": "markdown",
   "metadata": {},
   "source": [
    "반환값이 여러 개라도 결국은 하나의 변수로 받을 수 있습니다. 이 경우 반환값은 tuple 형이 됩니다."
   ]
  },
  {
   "cell_type": "code",
   "execution_count": null,
   "metadata": {
    "scrolled": true
   },
   "outputs": [],
   "source": [
    "output = my_func3(data)\n",
    "print(output)\n",
    "print(type(output))\n",
    "print('mean:{0:3.2f}, std:{1:3.2f}'.format(output[0], output[1]))"
   ]
  },
  {
   "cell_type": "markdown",
   "metadata": {},
   "source": [
    "## lambda 함수"
   ]
  },
  {
   "cell_type": "markdown",
   "metadata": {},
   "source": [
    "람다 함수란 함수의 이름이 없는 함수로 한 줄 정도의 간단한 함수를 정의할 때 사용된다.\n",
    "\n",
    "    lambda 매개변수1, 매개변수2, ... : 매개변수를 이용한 표현식"
   ]
  },
  {
   "cell_type": "code",
   "execution_count": 23,
   "metadata": {},
   "outputs": [
    {
     "data": {
      "text/plain": [
       "6"
      ]
     },
     "execution_count": 23,
     "metadata": {},
     "output_type": "execute_result"
    }
   ],
   "source": [
    "(lambda x,y,z: x*y*z)(1,2,3)"
   ]
  },
  {
   "cell_type": "code",
   "execution_count": 25,
   "metadata": {},
   "outputs": [
    {
     "data": {
      "text/plain": [
       "6"
      ]
     },
     "execution_count": 25,
     "metadata": {},
     "output_type": "execute_result"
    }
   ],
   "source": [
    "def fxyz(x,y,z):\n",
    "    return x*y*z\n",
    "fxyz(1,2,3)"
   ]
  },
  {
   "cell_type": "code",
   "execution_count": 24,
   "metadata": {},
   "outputs": [
    {
     "name": "stdout",
     "output_type": "stream",
     "text": [
      "7\n"
     ]
    }
   ],
   "source": [
    "add = lambda a, b: a+b\n",
    "result = add(3, 4)\n",
    "print(result)"
   ]
  },
  {
   "cell_type": "markdown",
   "metadata": {},
   "source": [
    "**실습과제**: 어떤 정수를 입력 받아 짝수인지 아닌지를 판별하는 함수를 람다 함수로 구현하시오."
   ]
  },
  {
   "cell_type": "code",
   "execution_count": 26,
   "metadata": {},
   "outputs": [
    {
     "data": {
      "text/plain": [
       "True"
      ]
     },
     "execution_count": 26,
     "metadata": {},
     "output_type": "execute_result"
    }
   ],
   "source": [
    "def even(x):\n",
    "    return x%2==0\n",
    "\n",
    "even(2)"
   ]
  },
  {
   "cell_type": "code",
   "execution_count": 27,
   "metadata": {},
   "outputs": [
    {
     "data": {
      "text/plain": [
       "True"
      ]
     },
     "execution_count": 27,
     "metadata": {},
     "output_type": "execute_result"
    }
   ],
   "source": [
    "even = lambda x: x%2==0\n",
    "even(2)"
   ]
  },
  {
   "cell_type": "code",
   "execution_count": 28,
   "metadata": {},
   "outputs": [
    {
     "data": {
      "text/plain": [
       "True"
      ]
     },
     "execution_count": 28,
     "metadata": {},
     "output_type": "execute_result"
    }
   ],
   "source": [
    "(lambda x: x%2==0)(2)"
   ]
  },
  {
   "cell_type": "markdown",
   "metadata": {},
   "source": [
    "## 고차 함수 !중요!"
   ]
  },
  {
   "cell_type": "markdown",
   "metadata": {},
   "source": [
    "고차함수란? **전달인자로 다른 함수를 받는 함수**를 말하며 함수를 매개인자로 넘길 수 있을 뿐만 아니라, 다른 함수의 결과 값으로 반환 가능하게 하는 함수를 말한다. 파이썬의 고차 함수는 filter(), map(), reduce() 등의 함수가 있으며 데이터를 대용량 분산처리를 구현하는데 유용하게 사용된다."
   ]
  },
  {
   "cell_type": "markdown",
   "metadata": {},
   "source": [
    "**filter(function, list)**는 함수와 리스트를 매개인자로 받아서 리스트의 값이 하나씩 함수에 인수로 전달되어 조건에 맞는 결과인 True가 되는 반환 값만 따로 모아서 리스트의 형태로 반환하는 함수이다. "
   ]
  },
  {
   "cell_type": "code",
   "execution_count": 30,
   "metadata": {
    "scrolled": true
   },
   "outputs": [
    {
     "name": "stdout",
     "output_type": "stream",
     "text": [
      "<filter object at 0x0112CD30>\n",
      "<class 'filter'>\n",
      "[5, 7, 11, 13, 17, 19, 23]\n"
     ]
    }
   ],
   "source": [
    "def f(x):\n",
    "    return x%2 != 0 and x%3 != 0    # 2와 3의 배수가 아닌 것\n",
    "\n",
    "res = filter(f, range(2,24))    # 2~23까지의 값을 함수 f를 이용한 필터링\n",
    "print(res) # 필터 오브젝트 파일로 만들어져서 오브젝트 id가 나온다.\n",
    "print(type(res))\n",
    "print(list(res))"
   ]
  },
  {
   "cell_type": "markdown",
   "metadata": {},
   "source": [
    "**실습과제**: 0부터 9까지의 값 중에서 짝수만을 출력하는 프로그램을 filter()함수와 람다식을 이용하여 구현하시오."
   ]
  },
  {
   "cell_type": "code",
   "execution_count": 32,
   "metadata": {
    "scrolled": true
   },
   "outputs": [
    {
     "data": {
      "text/plain": [
       "[0, 2, 4, 6, 8]"
      ]
     },
     "execution_count": 32,
     "metadata": {},
     "output_type": "execute_result"
    }
   ],
   "source": [
    "def even(x):\n",
    "    return x%2==0\n",
    "res = filter(even, range(0,10))\n",
    "list(res) #이걸 람다식으로!"
   ]
  },
  {
   "cell_type": "code",
   "execution_count": 33,
   "metadata": {},
   "outputs": [
    {
     "data": {
      "text/plain": [
       "[0, 2, 4, 6, 8]"
      ]
     },
     "execution_count": 33,
     "metadata": {},
     "output_type": "execute_result"
    }
   ],
   "source": [
    "res = filter((lambda x: x%2==0), range(10))\n",
    "list(res)"
   ]
  },
  {
   "cell_type": "markdown",
   "metadata": {},
   "source": [
    "**map(function, seq)** 함수는 함수와 시퀀스 자료형(리스트, 튜플, 문자열)을 입력으로 받아서 시퀀스 자료형의 각각의 요소가 함수의 입력으로 들어간 다음 나오는 출력 값을 묶어서 리스트로 돌려주는 함수이다."
   ]
  },
  {
   "cell_type": "code",
   "execution_count": 15,
   "metadata": {
    "scrolled": true
   },
   "outputs": [
    {
     "name": "stdout",
     "output_type": "stream",
     "text": [
      "<class 'map'>\n",
      "[1, 8, 27, 64, 125, 216, 343]\n",
      "[0, 2, 4, 6, 8, 10, 12, 14]\n"
     ]
    }
   ],
   "source": [
    "def cube(x):\n",
    "    return x**3\n",
    "\n",
    "def add(x,y):\n",
    "    return x+y\n",
    "\n",
    "res = map(cube, range(1,8))\n",
    "print(type(res))\n",
    "print(list(res))\n",
    "\n",
    "seq = range(8)\n",
    "res = map(add,seq,seq)\n",
    "print(list(res))"
   ]
  },
  {
   "cell_type": "markdown",
   "metadata": {},
   "source": [
    "**실습과제**: 정수 리스트를 입력 받아 배수의 값을 리턴하는 프로그램을 map()함수와 람다식을 이용하여 구현하시오."
   ]
  },
  {
   "cell_type": "code",
   "execution_count": 41,
   "metadata": {
    "scrolled": false
   },
   "outputs": [
    {
     "name": "stdout",
     "output_type": "stream",
     "text": [
      "[2, 4]\n"
     ]
    }
   ],
   "source": [
    "mul = lambda a: a*2\n",
    "result = map(mul, range(1,3))\n",
    "print(list(result))\n",
    "    "
   ]
  },
  {
   "cell_type": "markdown",
   "metadata": {},
   "source": [
    "**reduce(function,seq)** 함수는 매개인자로 함수와 시퀀스의 두 값을 받아 시퀀스의 처음 두 항목을 가지고 연산을 한 후, 그 결과 값을 그 다음 항목과 계속 연산하여 하나의 값을 반환한다. 안한다"
   ]
  },
  {
   "cell_type": "code",
   "execution_count": 20,
   "metadata": {},
   "outputs": [
    {
     "data": {
      "text/plain": [
       "55"
      ]
     },
     "execution_count": 20,
     "metadata": {},
     "output_type": "execute_result"
    }
   ],
   "source": [
    "from functools import reduce\n",
    "reduce(lambda x,y:x+y, range(11))    # 0부터 10까지 합을 출력"
   ]
  },
  {
   "cell_type": "markdown",
   "metadata": {},
   "source": [
    "**실습과제**: 리스트의 원소를 모두 곱하는 프로그램을 reduce() 함수와 람다식을 이용하여 구현하시오."
   ]
  },
  {
   "cell_type": "code",
   "execution_count": 34,
   "metadata": {},
   "outputs": [
    {
     "ename": "NameError",
     "evalue": "name 'NONE' is not defined",
     "output_type": "error",
     "traceback": [
      "\u001b[1;31m---------------------------------------------------------------------------\u001b[0m",
      "\u001b[1;31mNameError\u001b[0m                                 Traceback (most recent call last)",
      "\u001b[1;32m<ipython-input-34-a4181b622bd4>\u001b[0m in \u001b[0;36m<module>\u001b[1;34m\u001b[0m\n\u001b[1;32m----> 1\u001b[1;33m \u001b[0mNONE\u001b[0m\u001b[1;33m\u001b[0m\u001b[1;33m\u001b[0m\u001b[0m\n\u001b[0m",
      "\u001b[1;31mNameError\u001b[0m: name 'NONE' is not defined"
     ]
    }
   ],
   "source": [
    "NONE"
   ]
  },
  {
   "cell_type": "markdown",
   "metadata": {},
   "source": [
    "## 클래스(Class)"
   ]
  },
  {
   "cell_type": "markdown",
   "metadata": {},
   "source": [
    "클래스는 변수와 함수를 하나로 묶어 놓은 것으로 객체지향프로그래밍(OOP: Object Oriented Programming)의 핵심 개념이다. 서로 다른 타입의 변수를 하나로 묶을 수 있다는 점에서는 C 언어의 구조체(struct)와 유사하나 함수(메소드)까지 묶어 놓음으로서 C 언어의 구조체와는 차별화 된다. 그 외에 클래스가 가지는 추상화(abstraction), 캡슐화(encapsulation), 정보은닉(information hiding), 상속(inheritance) 등의 개념이 절차지향(Procedure Oriented)의 C 언어와 확실히 차별화 되는 객체지향 언어 만의 고유한 특징이다. 클래스에 의해 생성된 인스턴스(instance)를 객체(object)라 한다."
   ]
  },
  {
   "cell_type": "markdown",
   "metadata": {},
   "source": [
    "클래스 사용법: 클래스 선언 -> 객체 생성 -> 멤버 호출"
   ]
  },
  {
   "cell_type": "markdown",
   "metadata": {},
   "source": [
    "**클래스 선언**"
   ]
  },
  {
   "cell_type": "code",
   "execution_count": 43,
   "metadata": {},
   "outputs": [],
   "source": [
    "class Test:\n",
    "    # 생성자\n",
    "    def __init__(self):\n",
    "        self.data = list()    # 인스턴스 변수 (멤버 변수) 선언, self는 인스턴스 객체 자신을 나타냄\n",
    "        \n",
    "    # 인스턴스 메소드\n",
    "    def add(self,x):    # 모든 인스턴스 메소드의 (멤버 함수) 첫번째 매개변수는 self이어야 한다.\n",
    "        self.data.append(x)"
   ]
  },
  {
   "cell_type": "markdown",
   "metadata": {},
   "source": [
    "**객체 생성**"
   ]
  },
  {
   "cell_type": "code",
   "execution_count": 44,
   "metadata": {},
   "outputs": [
    {
     "name": "stdout",
     "output_type": "stream",
     "text": [
      "[]\n",
      "[]\n"
     ]
    }
   ],
   "source": [
    "my01 = Test()   #my01.data = []\n",
    "print(my01.data)\n",
    "my02 = my01\n",
    "print(my02.data)\n",
    "my03 = Test()"
   ]
  },
  {
   "cell_type": "markdown",
   "metadata": {},
   "source": [
    "**멤버 호출**"
   ]
  },
  {
   "cell_type": "code",
   "execution_count": 45,
   "metadata": {
    "scrolled": true
   },
   "outputs": [
    {
     "name": "stdout",
     "output_type": "stream",
     "text": [
      "[1, 2, 3, 4, 5]\n",
      "[1, 2, 3, 4, 5]\n",
      "[]\n"
     ]
    }
   ],
   "source": [
    "for i in range(1,6):\n",
    "    my01.add(i) #불러올때는 self 안써줘도 된다.\n",
    "print(my01.data)\n",
    "print(my02.data)\n",
    "print(my03.data)"
   ]
  },
  {
   "cell_type": "markdown",
   "metadata": {},
   "source": [
    "**Example**"
   ]
  },
  {
   "cell_type": "code",
   "execution_count": 70,
   "metadata": {
    "scrolled": false
   },
   "outputs": [
    {
     "name": "stdout",
     "output_type": "stream",
     "text": [
      "Hello, Fred\n",
      "HELLO, FRED!\n",
      "Fred\n"
     ]
    }
   ],
   "source": [
    "class Greeter:    \n",
    "    # 생성자\n",
    "    def __init__(self, name):\n",
    "        self.name = name  # 인스턴스 변수 (멤버 변수) 선언, self는 인스턴스 객체 자신을 나타냄\n",
    "\n",
    "    # 인스턴스 메소드\n",
    "    def greet(self, loud=False):  # 모든 인스턴스 메소드의 (멤버 함수) 첫번째 매개변수는 self이어야 한다.\n",
    "        if loud:\n",
    "            print ('HELLO, %s!' % self.name.upper())\n",
    "        else:\n",
    "            print ('Hello, %s' % self.name)\n",
    "\n",
    "g = Greeter('Fred')  # Greeter 클래스의 인스턴스(객체) 생성\n",
    "g.greet()            # 인스턴스 메소드 호출; 출력 \"Hello, Fred\", 이 때 self는 생략됨\n",
    "g.greet(loud=True)   # 인스턴스 메소드 호출; 출력 \"HELLO, FRED!\"\n",
    "print(g.name)        # 인스턴스 변수 (멤버 변수) 를 바로 접근할 수도 있음"
   ]
  },
  {
   "cell_type": "markdown",
   "metadata": {},
   "source": [
    "**실습문제**: 다음과 같이 동작하는 클래스 Calculator를 작성하시오.\n",
    "\n",
    "    cal1 = Calculator([1,2,3,4,5])\n",
    "    cal1.sum() # 합계\n",
    "    cal1.avg() # 평균\n",
    "    \n",
    "    cal2 = Calculator([6,7,8,9,10])\n",
    "    cal2.sum() # 합계\n",
    "    cal2.avg() # 평균"
   ]
  },
  {
   "cell_type": "code",
   "execution_count": 45,
   "metadata": {},
   "outputs": [],
   "source": [
    "class Calculator:\n",
    "    \n",
    "    #생성자\n",
    "    def __init__(self, A):\n",
    "        self.A = A\n",
    "    \n",
    "    def sum(self):\n",
    "        result = 0\n",
    "        for num in self.A:\n",
    "            result += num\n",
    "        return result\n",
    "    \n",
    "    def avg(self):\n",
    "        return self.sum()/len(self.A)\n",
    "        "
   ]
  },
  {
   "cell_type": "code",
   "execution_count": 46,
   "metadata": {},
   "outputs": [
    {
     "data": {
      "text/plain": [
       "15"
      ]
     },
     "execution_count": 46,
     "metadata": {},
     "output_type": "execute_result"
    }
   ],
   "source": [
    "cal1 = Calculator([1,2,3,4,5]) #cal.A=[1,2,3,4,5]\n",
    "cal1.sum() #합계"
   ]
  },
  {
   "cell_type": "code",
   "execution_count": 47,
   "metadata": {},
   "outputs": [
    {
     "data": {
      "text/plain": [
       "3.0"
      ]
     },
     "execution_count": 47,
     "metadata": {},
     "output_type": "execute_result"
    }
   ],
   "source": [
    "cal1.avg() #평균"
   ]
  },
  {
   "cell_type": "code",
   "execution_count": 48,
   "metadata": {},
   "outputs": [
    {
     "data": {
      "text/plain": [
       "40"
      ]
     },
     "execution_count": 48,
     "metadata": {},
     "output_type": "execute_result"
    }
   ],
   "source": [
    "cal2 = Calculator([6,7,8,9,10])\n",
    "cal2.sum() #합계"
   ]
  },
  {
   "cell_type": "code",
   "execution_count": 49,
   "metadata": {},
   "outputs": [
    {
     "data": {
      "text/plain": [
       "8.0"
      ]
     },
     "execution_count": 49,
     "metadata": {},
     "output_type": "execute_result"
    }
   ],
   "source": [
    "cal2.avg() #평균"
   ]
  },
  {
   "cell_type": "markdown",
   "metadata": {},
   "source": [
    "**클래스 변수와 클래스 메소드**: 같은 클래스로 생성된 모든 객체가 공유하는 변수와 메소드"
   ]
  },
  {
   "cell_type": "code",
   "execution_count": 17,
   "metadata": {},
   "outputs": [],
   "source": [
    "class Test:\n",
    "    count = 0    # class variable\n",
    "    \n",
    "    # 생성자\n",
    "    def __init__(self):\n",
    "        self.data = list()    # 인스턴스 변수 (멤버 변수) 선언, self는 인스턴스 객체 자신을 나타냄\n",
    "        Test.count += 1    # count 증가 Class이름 .앞에 써준다.\n",
    "        \n",
    "    # 인스턴스 메소드\n",
    "    def add(self,x):    # 모든 인스턴스 메소드의 (멤버 함수) 첫번째 매개변수는 self이어야 한다.\n",
    "        self.data.append(x)\n",
    "    \n",
    "    @classmethod #\n",
    "    def getCount(cls):    # class method, self 대신 cls를 첫번째 매개변수로 사용\n",
    "        return cls.count"
   ]
  },
  {
   "cell_type": "code",
   "execution_count": 18,
   "metadata": {},
   "outputs": [],
   "source": [
    "my01 = Test()\n",
    "my02 = my01 #만들어진 객체 이름만 선언 count 안늘어남\n",
    "my03 = Test()"
   ]
  },
  {
   "cell_type": "code",
   "execution_count": 19,
   "metadata": {},
   "outputs": [
    {
     "name": "stdout",
     "output_type": "stream",
     "text": [
      "Test.getCount()= 2\n",
      "Test.count= 2\n"
     ]
    }
   ],
   "source": [
    "print(\"Test.getCount()=\", Test.getCount())    # class method 호출\n",
    "print(\"Test.count=\", Test.count)    # class variable access"
   ]
  },
  {
   "cell_type": "markdown",
   "metadata": {},
   "source": [
    "### 상속(Inheritance) 객체지양의 핵심기술중 하나"
   ]
  },
  {
   "cell_type": "code",
   "execution_count": 35,
   "metadata": {},
   "outputs": [],
   "source": [
    "class Person:\n",
    "    def __init__(self, name, age):    # 이름과 나이를 입력 받아 초기화\n",
    "        self.name = name\n",
    "        self.age = age\n",
    "        \n",
    "    def personInfo(self):    # 이름과 나이를 출력하는 메소드\n",
    "        return \"name = \" + self.name + \"  age = \" + str(self.age)\n",
    "    \n",
    "class Student(Person):\n",
    "    def __init__(self, name, age, grade):\n",
    "        super().__init__(name, age)    # Person.__init__(self,name,age)\n",
    "        self.grade = grade\n",
    "        \n",
    "    def getStudent(self): #학생에 대한 정보\n",
    "        return super().personInfo() + \"  grade = \" + str(self.grade)"
   ]
  },
  {
   "cell_type": "code",
   "execution_count": 36,
   "metadata": {},
   "outputs": [
    {
     "name": "stdout",
     "output_type": "stream",
     "text": [
      "name = Domonica  age = 12\n",
      "name = Ruri  age = 7\n",
      "name = Ruri  age = 7  grade = 3\n"
     ]
    }
   ],
   "source": [
    "x = Person(\"Domonica\", 12)\n",
    "y = Student(\"Ruri\", 7, 3)\n",
    "\n",
    "print(x.personInfo())\n",
    "print(y.personInfo())\n",
    "print(y.getStudent())"
   ]
  },
  {
   "cell_type": "markdown",
   "metadata": {},
   "source": [
    "### Overriding (메소드 재정의)\n",
    "\n",
    "**상속받은 후손 클래스에서 상속해 준 선조 클래스에 이미 정의되어 있는 메소드의 기능을 변경해서 새로 정의하는 것**"
   ]
  },
  {
   "cell_type": "code",
   "execution_count": 37,
   "metadata": {},
   "outputs": [],
   "source": [
    "class Person:\n",
    "    def __init__(self, name, age):    # 이름과 나이를 입력 받아 초기화\n",
    "        self.name = name\n",
    "        self.age = age\n",
    "        \n",
    "    def getInfo(self):    # 이름과 나이를 출력하는 메소드\n",
    "        return \"name = \" + self.name + \"  age = \" + str(self.age)\n",
    "    \n",
    "class Student(Person):\n",
    "    def __init__(self, name, age, grade):\n",
    "        super().__init__(name, age)    # Person.__init__(self,name,age)\n",
    "        self.grade = grade\n",
    "        \n",
    "    def getInfo(self):\n",
    "        return super().getInfo() + \"  grade = \" + str(self.grade)"
   ]
  },
  {
   "cell_type": "code",
   "execution_count": 38,
   "metadata": {},
   "outputs": [
    {
     "name": "stdout",
     "output_type": "stream",
     "text": [
      "name = Domonica  age = 12\n",
      "name = Ruri  age = 7  grade = 3\n"
     ]
    }
   ],
   "source": [
    "x = Person(\"Domonica\", 12)\n",
    "y = Student(\"Ruri\", 7, 3)\n",
    "\n",
    "print(x.getInfo())\n",
    "print(y.getInfo())"
   ]
  },
  {
   "cell_type": "markdown",
   "metadata": {},
   "source": [
    "## 모듈"
   ]
  },
  {
   "cell_type": "markdown",
   "metadata": {},
   "source": [
    "모듈이란 함수나 변수 또는 클래스를 모아 놓은 파일이다. 모듈은 다른 파이썬 프로그램에서 불러와 사용할 수 있게끔 만든 파이썬 파일이라고도 할 수 있다."
   ]
  },
  {
   "cell_type": "markdown",
   "metadata": {},
   "source": [
    "**모듈 만들기**"
   ]
  },
  {
   "cell_type": "code",
   "execution_count": 44,
   "metadata": {},
   "outputs": [],
   "source": [
    "#mod1.py\n",
    "def add(a, b):\n",
    "    return a + b\n",
    "\n",
    "def sub(a, b): \n",
    "    return a-b"
   ]
  },
  {
   "cell_type": "markdown",
   "metadata": {},
   "source": [
    "**모듈 불러오기**"
   ]
  },
  {
   "cell_type": "code",
   "execution_count": 49,
   "metadata": {},
   "outputs": [
    {
     "name": "stdout",
     "output_type": "stream",
     "text": [
      "7\n",
      "2\n"
     ]
    }
   ],
   "source": [
    "import mod1\n",
    "print(mod1.add(3, 4))\n",
    "print(mod1.sub(4, 2))"
   ]
  },
  {
   "cell_type": "code",
   "execution_count": 74,
   "metadata": {},
   "outputs": [
    {
     "name": "stdout",
     "output_type": "stream",
     "text": [
      "7\n",
      "2\n"
     ]
    }
   ],
   "source": [
    "import mod1 as m1\n",
    "print(m1.add(3, 4))\n",
    "print(m1.sub(4, 2))"
   ]
  },
  {
   "cell_type": "code",
   "execution_count": 50,
   "metadata": {
    "scrolled": true
   },
   "outputs": [
    {
     "name": "stdout",
     "output_type": "stream",
     "text": [
      "7\n",
      "2\n"
     ]
    }
   ],
   "source": [
    "from mod1 import add, sub    \n",
    "print(add(3, 4))    # module 함수 호출 시 모듈 이름을 붙일 필요가 없음\n",
    "print(sub(4, 2))"
   ]
  },
  {
   "cell_type": "code",
   "execution_count": null,
   "metadata": {},
   "outputs": [],
   "source": []
  }
 ],
 "metadata": {
  "kernelspec": {
   "display_name": "Python 3",
   "language": "python",
   "name": "python3"
  },
  "language_info": {
   "codemirror_mode": {
    "name": "ipython",
    "version": 3
   },
   "file_extension": ".py",
   "mimetype": "text/x-python",
   "name": "python",
   "nbconvert_exporter": "python",
   "pygments_lexer": "ipython3",
   "version": "3.7.3"
  }
 },
 "nbformat": 4,
 "nbformat_minor": 2
}
