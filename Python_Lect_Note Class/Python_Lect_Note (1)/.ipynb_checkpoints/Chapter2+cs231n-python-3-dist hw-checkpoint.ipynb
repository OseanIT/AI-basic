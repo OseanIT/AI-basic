{
 "cells": [
  {
   "cell_type": "markdown",
   "metadata": {},
   "source": [
    "# 파이썬 튜토리얼 (3) - 배포용"
   ]
  },
  {
   "cell_type": "markdown",
   "metadata": {},
   "source": [
    "<span style=\"color:red\">\n",
    "    본 자료는 교재 \"파이썬으로 배우는 머신러닝의 교과서\" chapter 2의 내용과 Stanford 강의 \"CS231n, Python Numpy Tutorial\"의 한글버전(http://aikorea.org/cs231n/python-numpy-tutorial/)을 파이썬 3 버전에 맞게 수정한 것과, 점프 투 파이썬 인터넷 교재, https://wikidocs.net/book/1, 및 그 외에 다른 참고자료들을 일부 추가하여 만들었습니다.\n",
    "</span>\n",
    "\n",
    "참고 자료: \n",
    "- 이토마코토/박광수, 파이썬으로 배우는 머신러닝의 교과서, chapter 2, 한빛미디어, 2018\n",
    "- Stanford university, CS231n, Python Numpy Tutorial,의 한글버전 (http://aikorea.org/cs231n/python-numpy-tutorial/)\n",
    "- 박응용, 점프 투 파이썬, https://wikidocs.net/book/1\n",
    "- Python Documentation https://docs.python.org/3.7/contents.html\n",
    "- Python 버전 2와 3 차이 https://zetawiki.com/wiki/Python_%EB%B2%84%EC%A0%84_2%EC%99%80_3_%EC%B0%A8%EC%9D%B4"
   ]
  },
  {
   "cell_type": "markdown",
   "metadata": {},
   "source": [
    "### Dictionary"
   ]
  },
  {
   "cell_type": "markdown",
   "metadata": {},
   "source": [
    "자바의 ‘맵’, 자바스크립트의 ‘오브젝트’와 유사하게, 파이썬의 ‘딕셔너리’는 (key, value) 쌍을 저장합니다.\n",
    "\n",
    "    {Key1:Value1, Key2:Value2, Key3:Value3, ...}"
   ]
  },
  {
   "cell_type": "markdown",
   "metadata": {},
   "source": [
    "**딕셔너리 생성 및 인덱싱**"
   ]
  },
  {
   "cell_type": "code",
   "execution_count": 2,
   "metadata": {},
   "outputs": [
    {
     "name": "stdout",
     "output_type": "stream",
     "text": [
      "{'cat': 'cute', 'dog': 'furry'}\n",
      "cute\n",
      "True\n"
     ]
    }
   ],
   "source": [
    "d = {'cat': 'cute', 'dog': 'furry'}  # 새로운 딕셔너리를 만듭니다\n",
    "print (d)\n",
    "print (d['ct'])       # 딕셔너리의 값을 받음; 출력 \"cute\"\n",
    "print ('dog' in d)     # 딕셔너리가 주어진 열쇠를 가졌는지 확인; 출력 \"True\" "
   ]
  },
  {
   "cell_type": "markdown",
   "metadata": {},
   "source": [
    "**딕셔너리 쌍 추가, 삭제하기**"
   ]
  },
  {
   "cell_type": "code",
   "execution_count": 5,
   "metadata": {
    "scrolled": true
   },
   "outputs": [
    {
     "name": "stdout",
     "output_type": "stream",
     "text": [
      "{'cat': 'cute', 'dog': 'furry', 'fish': 'wet'}\n",
      "wet\n",
      "{'cat': 'cute', 'fish': 'wet'}\n"
     ]
    }
   ],
   "source": [
    "d['fish'] = 'wet'    # 딕셔너리 쌍 추가\n",
    "print (d)\n",
    "print (d['fish'])    # 출력 \"wet\"\n",
    "del d['dog']\n",
    "print (d)"
   ]
  },
  {
   "cell_type": "markdown",
   "metadata": {},
   "source": [
    "**딕셔너리 관련 함수들**"
   ]
  },
  {
   "cell_type": "code",
   "execution_count": 14,
   "metadata": {
    "scrolled": true
   },
   "outputs": [
    {
     "data": {
      "text/plain": [
       "dict_keys(['name', 'phone', 'birth'])"
      ]
     },
     "execution_count": 14,
     "metadata": {},
     "output_type": "execute_result"
    }
   ],
   "source": [
    "a = {'name': 'pey', 'phone': '0119993323', 'birth': '1118'}\n",
    "a.keys()    # a.keys()는 딕셔너리 a의 Key만을 모아서 dict_keys 객체를 돌려준다."
   ]
  },
  {
   "cell_type": "code",
   "execution_count": 15,
   "metadata": {},
   "outputs": [
    {
     "data": {
      "text/plain": [
       "['name', 'phone', 'birth']"
      ]
     },
     "execution_count": 15,
     "metadata": {},
     "output_type": "execute_result"
    }
   ],
   "source": [
    "list(a.keys())    # dict_keys 객체를 리스트로 변환"
   ]
  },
  {
   "cell_type": "code",
   "execution_count": 16,
   "metadata": {},
   "outputs": [
    {
     "data": {
      "text/plain": [
       "dict_values(['pey', '0119993323', '1118'])"
      ]
     },
     "execution_count": 16,
     "metadata": {},
     "output_type": "execute_result"
    }
   ],
   "source": [
    "a.values()   # Key를 얻는 것과 마찬가지 방법으로 Value만 얻고 싶다면 values 함수를 사용하면 된다. \n",
    "              # values 함수를 호출하면 dict_values 객체를 돌려준다."
   ]
  },
  {
   "cell_type": "code",
   "execution_count": 17,
   "metadata": {},
   "outputs": [
    {
     "data": {
      "text/plain": [
       "dict_items([('name', 'pey'), ('phone', '0119993323'), ('birth', '1118')])"
      ]
     },
     "execution_count": 17,
     "metadata": {},
     "output_type": "execute_result"
    }
   ],
   "source": [
    "a.items()    # items 함수는 Key와 Value의 쌍을 튜플로 묶은 값을 dict_items 객체로 돌려준다."
   ]
  },
  {
   "cell_type": "code",
   "execution_count": 18,
   "metadata": {},
   "outputs": [
    {
     "data": {
      "text/plain": [
       "{'name': 'pey', 'phone': '0119993323', 'birth': '1118'}"
      ]
     },
     "execution_count": 18,
     "metadata": {},
     "output_type": "execute_result"
    }
   ],
   "source": [
    "a"
   ]
  },
  {
   "cell_type": "code",
   "execution_count": 19,
   "metadata": {
    "scrolled": true
   },
   "outputs": [
    {
     "data": {
      "text/plain": [
       "{}"
      ]
     },
     "execution_count": 19,
     "metadata": {},
     "output_type": "execute_result"
    }
   ],
   "source": [
    "a.clear()    # Key: Value 쌍 모두 지우기(clear)\n",
    "a"
   ]
  },
  {
   "cell_type": "code",
   "execution_count": 20,
   "metadata": {},
   "outputs": [
    {
     "data": {
      "text/plain": [
       "'pey'"
      ]
     },
     "execution_count": 20,
     "metadata": {},
     "output_type": "execute_result"
    }
   ],
   "source": [
    "a = {'name':'pey', 'phone':'0119993323', 'birth': '1118'}\n",
    "a.get('name')    # Key로 Value얻기(get), a.get('name') == a['name']"
   ]
  },
  {
   "cell_type": "code",
   "execution_count": 21,
   "metadata": {},
   "outputs": [
    {
     "name": "stdout",
     "output_type": "stream",
     "text": [
      "None\n"
     ]
    }
   ],
   "source": [
    "print(a.get('nokey'))  # 존재하지 않는 키(nokey)로 값을 가져오려고 할 경우 a['nokey']는 Key 오류를 발생시키고 \n",
    "                       # a.get('nokey')는 None을 돌려준다는 차이가 있다."
   ]
  },
  {
   "cell_type": "code",
   "execution_count": 25,
   "metadata": {},
   "outputs": [
    {
     "data": {
      "text/plain": [
       "'bar'"
      ]
     },
     "execution_count": 25,
     "metadata": {},
     "output_type": "execute_result"
    }
   ],
   "source": [
    "a.get('asdf', 'bar')    # get(x, '디폴트 값'), a 딕셔너리에는 'foo'에 해당하는 값이 없다. 따라서 디폴트 값인 'bar'를 돌려준다."
   ]
  },
  {
   "cell_type": "markdown",
   "metadata": {},
   "source": [
    "**조건문**: 해당 Key가 딕셔너리 안에 있는지 조사하기(in)"
   ]
  },
  {
   "cell_type": "code",
   "execution_count": 26,
   "metadata": {},
   "outputs": [
    {
     "data": {
      "text/plain": [
       "True"
      ]
     },
     "execution_count": 26,
     "metadata": {},
     "output_type": "execute_result"
    }
   ],
   "source": [
    "a = {'name':'pey', 'phone':'0119993323', 'birth': '1118'}\n",
    "'name' in a"
   ]
  },
  {
   "cell_type": "markdown",
   "metadata": {},
   "source": [
    "**반복문**: 딕셔너리의 key는 쉽게 반복될 수 있습니다:"
   ]
  },
  {
   "cell_type": "code",
   "execution_count": 27,
   "metadata": {},
   "outputs": [
    {
     "name": "stdout",
     "output_type": "stream",
     "text": [
      "A person has 2 legs\n",
      "A cat has 4 legs\n",
      "A spider has 8 legs\n"
     ]
    }
   ],
   "source": [
    "d = {'person': 2, 'cat': 4, 'spider': 8}\n",
    "for animal in d:\n",
    "    legs = d[animal]\n",
    "    print ('A %s has %d legs' % (animal, legs))\n",
    "# 출력 \"A person has 2 legs\", \"A spider has 8 legs\", \"A cat has 4 legs\", 한 줄에 하나씩 출력."
   ]
  },
  {
   "cell_type": "markdown",
   "metadata": {},
   "source": [
    "만약 열쇠와, 그에 상응하는 값에 접근하고 싶다면, ‘items’ 메소드를 사용하세요:"
   ]
  },
  {
   "cell_type": "code",
   "execution_count": 28,
   "metadata": {},
   "outputs": [
    {
     "name": "stdout",
     "output_type": "stream",
     "text": [
      "A person has 2 legs\n",
      "A cat has 4 legs\n",
      "A spider has 8 legs\n"
     ]
    }
   ],
   "source": [
    "d = {'person': 2, 'cat': 4, 'spider': 8}\n",
    "for animal, legs in d.items():\n",
    "    print ('A %s has %d legs' % (animal, legs))\n",
    "# 출력 \"A person has 2 legs\", \"A spider has 8 legs\", \"A cat has 4 legs\", 한 줄에 하나씩 출력."
   ]
  },
  {
   "cell_type": "markdown",
   "metadata": {},
   "source": [
    "**딕셔너리 comprehensions**: 리스트 comprehensions과 유사한 딕셔너리 comprehensions을 통해 손쉽게 딕셔너리를 만들 수 있습니다. "
   ]
  },
  {
   "cell_type": "code",
   "execution_count": 29,
   "metadata": {
    "scrolled": false
   },
   "outputs": [
    {
     "name": "stdout",
     "output_type": "stream",
     "text": [
      "{0: 0, 2: 4, 4: 16}\n"
     ]
    }
   ],
   "source": [
    "nums = [0, 1, 2, 3, 4]\n",
    "even_num_to_square = {x: x ** 2 for x in nums if x % 2 == 0}\n",
    "print (even_num_to_square)  # 출력 \"{0: 0, 2: 4, 4: 16}\""
   ]
  },
  {
   "cell_type": "markdown",
   "metadata": {},
   "source": [
    "**실습문제**: 다음 표를 딕셔너리로 만드시오.\n",
    "\n",
    "    항목    값\n",
    "    name    홍길동\n",
    "    birth   1128\n",
    "    age     30"
   ]
  },
  {
   "cell_type": "code",
   "execution_count": 1,
   "metadata": {},
   "outputs": [],
   "source": [
    "A={'name': '홍길동', 'birth': '1128', 'age': '30'}"
   ]
  },
  {
   "cell_type": "markdown",
   "metadata": {},
   "source": [
    "**실습문제**: 딕셔너리 a에서 'B'에 해당되는 값을 추출하고 삭제해 보자.\n",
    "\n",
    "    a = {'A':90, 'B':80, 'C':70}"
   ]
  },
  {
   "cell_type": "code",
   "execution_count": 7,
   "metadata": {
    "scrolled": true
   },
   "outputs": [
    {
     "name": "stdout",
     "output_type": "stream",
     "text": [
      "{'A': 90, 'C': 70}\n",
      "80\n"
     ]
    }
   ],
   "source": [
    "a = {'A':90, 'B':80, 'C':70}\n",
    "result = a.pop('B')\n",
    "print(a)\n",
    "print(result)"
   ]
  },
  {
   "cell_type": "markdown",
   "metadata": {},
   "source": [
    "**실습문제**: 다음은 딕셔너리의 a에서 'C'라는 key에 해당되는 value를 출력하는 프로그램이다.\n",
    "\n",
    "    >>> a = {'A':90, 'B':80} >>> a['C'] Traceback (most recent call last): File \"<stdin>\", line 1, in <module> KeyError: 'C' \n",
    "    \n",
    "a 딕셔너리에는 'C'라는 key가 없으므로 위와 같은 오류가 발생하게 된다. 'C'에 해당되는 키값이 없을 경우 오류 대신 70을 얻을수 있도록 수정해 보자."
   ]
  },
  {
   "cell_type": "code",
   "execution_count": 6,
   "metadata": {},
   "outputs": [
    {
     "data": {
      "text/plain": [
       "'70'"
      ]
     },
     "execution_count": 6,
     "metadata": {},
     "output_type": "execute_result"
    }
   ],
   "source": [
    "a = {'A':90, 'B':80}\n",
    "a.get('C', '70')"
   ]
  },
  {
   "cell_type": "markdown",
   "metadata": {},
   "source": [
    "**실습문제**: 다음과 같은 딕셔너리 a가 있다.\n",
    "\n",
    "    a = {'A':90, 'B':80, 'C':70} \n",
    "\n",
    "딕셔너리 a의 value중에서 최소 값을 출력하시오."
   ]
  },
  {
   "cell_type": "code",
   "execution_count": 8,
   "metadata": {},
   "outputs": [
    {
     "data": {
      "text/plain": [
       "70"
      ]
     },
     "execution_count": 8,
     "metadata": {},
     "output_type": "execute_result"
    }
   ],
   "source": [
    "#item사용하기 이거 영상에 나옴\n",
    "a = {'A':90, 'B':80, 'C':70}\n",
    "min(a.values())"
   ]
  },
  {
   "cell_type": "markdown",
   "metadata": {},
   "source": [
    "**실습문제**: 다음과 같은 딕셔너리 a가 있다.\n",
    "\n",
    "    a = {'A':90, 'B':80, 'C':70} \n",
    "\n",
    "위 딕셔너리 a를 다음과 같은 리스트로 만들어보자.\n",
    "\n",
    "    [('A', 90), ('B', 80), ('C', 70)] "
   ]
  },
  {
   "cell_type": "code",
   "execution_count": 13,
   "metadata": {
    "scrolled": true
   },
   "outputs": [
    {
     "data": {
      "text/plain": [
       "dict_items([('A', 90), ('B', 80), ('C', 70)])"
      ]
     },
     "execution_count": 13,
     "metadata": {},
     "output_type": "execute_result"
    }
   ],
   "source": [
    "a = {'A':90, 'B':80, 'C':70} \n",
    "a.items()"
   ]
  },
  {
   "cell_type": "code",
   "execution_count": 16,
   "metadata": {},
   "outputs": [
    {
     "data": {
      "text/plain": [
       "[('A', 90), ('B', 80), ('C', 70)]"
      ]
     },
     "execution_count": 16,
     "metadata": {},
     "output_type": "execute_result"
    }
   ],
   "source": [
    "a = list(a.items())\n",
    "a"
   ]
  },
  {
   "cell_type": "markdown",
   "metadata": {},
   "source": [
    "### Set"
   ]
  },
  {
   "cell_type": "markdown",
   "metadata": {},
   "source": [
    "Collection = string, list, dict\n",
    "집합은 순서 구분이 없고 서로 다른 요소 간의 모임입니다.\n",
    "- 중복을 허용하지 않는다. 1,2,2,3 이런거 안된다. => 1,2,3\n",
    "- 순서가 없다(Unordered). a[1] 안된다."
   ]
  },
  {
   "cell_type": "markdown",
   "metadata": {},
   "source": [
    "**집합의 생성**"
   ]
  },
  {
   "cell_type": "code",
   "execution_count": 2,
   "metadata": {},
   "outputs": [
    {
     "data": {
      "text/plain": [
       "{1, 2, 3}"
      ]
     },
     "execution_count": 2,
     "metadata": {},
     "output_type": "execute_result"
    }
   ],
   "source": [
    "s1 = set([1,2,3]) #or s1 = {1, 2, 3}\n",
    "s1"
   ]
  },
  {
   "cell_type": "code",
   "execution_count": 3,
   "metadata": {},
   "outputs": [
    {
     "data": {
      "text/plain": [
       "{'H', 'e', 'l', 'o'}"
      ]
     },
     "execution_count": 3,
     "metadata": {},
     "output_type": "execute_result"
    }
   ],
   "source": [
    "s2 = set(\"Hello\")\n",
    "s2"
   ]
  },
  {
   "cell_type": "code",
   "execution_count": 4,
   "metadata": {},
   "outputs": [
    {
     "data": {
      "text/plain": [
       "{'cat', 'dog'}"
      ]
     },
     "execution_count": 4,
     "metadata": {},
     "output_type": "execute_result"
    }
   ],
   "source": [
    "animals = {'cat', 'dog'}\n",
    "animals"
   ]
  },
  {
   "cell_type": "markdown",
   "metadata": {},
   "source": [
    "**조건문**"
   ]
  },
  {
   "cell_type": "code",
   "execution_count": 5,
   "metadata": {},
   "outputs": [
    {
     "name": "stdout",
     "output_type": "stream",
     "text": [
      "True\n",
      "False\n"
     ]
    }
   ],
   "source": [
    "animals = {'cat', 'dog'}\n",
    "print ('cat' in animals)   # 요소가 집합에 포함되어 있는지 확인; 출력 \"True\"\n",
    "print ('fish' in animals)  # 출력 \"False\""
   ]
  },
  {
   "cell_type": "markdown",
   "metadata": {},
   "source": [
    "**반복문**: 집합을 반복하는 구문은 리스트 반복 구문과 동일합니다; 그러나 집합은 순서가 없어서, 어떤 순서로 반복될지 추측할 순 없습니다:"
   ]
  },
  {
   "cell_type": "code",
   "execution_count": 8,
   "metadata": {},
   "outputs": [
    {
     "name": "stdout",
     "output_type": "stream",
     "text": [
      "#1: dog\n",
      "#2: fish\n",
      "#3: cat\n"
     ]
    }
   ],
   "source": [
    "animals = {'cat', 'dog', 'fish'}\n",
    "for idx, animal in enumerate(animals): #enumerate list에서 쓰는거 idx는 순서. set이어서 순서는 보장 안된다, []인거 ()쓰면 순서 보장됌\n",
    "    print ('#%d: %s' % (idx + 1, animal))\n",
    "# 출력 \"#1: fish\", \"#2: dog\", \"#3: cat\", 한 줄에 하나씩 출력."
   ]
  },
  {
   "cell_type": "markdown",
   "metadata": {},
   "source": [
    "**집합의 연산**"
   ]
  },
  {
   "cell_type": "code",
   "execution_count": 9,
   "metadata": {},
   "outputs": [],
   "source": [
    "s1 = set([1, 2, 3, 4, 5, 6])\n",
    "s2 = set([4, 5, 6, 7, 8, 9])"
   ]
  },
  {
   "cell_type": "code",
   "execution_count": 12,
   "metadata": {},
   "outputs": [
    {
     "data": {
      "text/plain": [
       "({4, 5, 6}, {4, 5, 6})"
      ]
     },
     "execution_count": 12,
     "metadata": {},
     "output_type": "execute_result"
    }
   ],
   "source": [
    "s1 & s2, s1.intersection(s2)    # 교집합"
   ]
  },
  {
   "cell_type": "code",
   "execution_count": 13,
   "metadata": {},
   "outputs": [
    {
     "data": {
      "text/plain": [
       "({1, 2, 3, 4, 5, 6, 7, 8, 9}, {1, 2, 3, 4, 5, 6, 7, 8, 9})"
      ]
     },
     "execution_count": 13,
     "metadata": {},
     "output_type": "execute_result"
    }
   ],
   "source": [
    "s1 | s2, s1.union(s2)    # 합집합"
   ]
  },
  {
   "cell_type": "code",
   "execution_count": 14,
   "metadata": {},
   "outputs": [
    {
     "data": {
      "text/plain": [
       "({1, 2, 3}, {1, 2, 3})"
      ]
     },
     "execution_count": 14,
     "metadata": {},
     "output_type": "execute_result"
    }
   ],
   "source": [
    "s1 - s2, s1.difference(s2)    # 차집합"
   ]
  },
  {
   "cell_type": "markdown",
   "metadata": {},
   "source": [
    "**집합 자료형 관련 함수들**"
   ]
  },
  {
   "cell_type": "code",
   "execution_count": 17,
   "metadata": {},
   "outputs": [
    {
     "name": "stdout",
     "output_type": "stream",
     "text": [
      "{'dog', 'fish', 'cat'}\n",
      "3\n",
      "{'dog', 'fish', 'cat'}\n",
      "3\n",
      "{'dog', 'fish'}\n",
      "2\n"
     ]
    }
   ],
   "source": [
    "animals = {'cat', 'dog'}\n",
    "animals.add('fish')      # 요소를 집합에 추가\n",
    "print(animals)\n",
    "print (len(animals))       # 집합에 포함된 요소의 수; 출력 \"3\"\n",
    "animals.add('cat')       # 이미 포함되어있는 요소를 추가할 경우 아무 변화 없음\n",
    "print(animals)\n",
    "print (len(animals))       # 출력 \"3\"\n",
    "animals.remove('cat')    # Remove an element from a set\n",
    "print(animals)\n",
    "print (len(animals))       # 출력 \"2\""
   ]
  },
  {
   "cell_type": "markdown",
   "metadata": {},
   "source": [
    "**집합 comprehensions**: 리스트, 딕셔너리와 마찬가지로 집합 comprehensions을 통해 손쉽게 집합을 만들수 있습니다."
   ]
  },
  {
   "cell_type": "code",
   "execution_count": 21,
   "metadata": {
    "scrolled": true
   },
   "outputs": [
    {
     "name": "stdout",
     "output_type": "stream",
     "text": [
      "{0.0, 1.0, 2.0, 3.0, 4.0, 5.0, 4.898979485566356, 3.4641016151377544, 4.358898943540674, 3.872983346207417, 3.7416573867739413, 5.385164807134504, 2.6457513110645907, 4.242640687119285, 4.58257569495584, 4.69041575982343, 3.1622776601683795, 4.795831523312719, 1.4142135623730951, 2.23606797749979, 5.291502622129181, 2.449489742783178, 1.7320508075688772, 3.3166247903554, 3.605551275463989, 5.196152422706632, 4.123105625617661, 5.0990195135927845, 2.8284271247461903, 4.47213595499958}\n"
     ]
    }
   ],
   "source": [
    "from math import sqrt\n",
    "nums = {float(sqrt(x)) for x in range(30)} # float => int\n",
    "print (nums)  # 출력 \"set([0, 1, 2, 3, 4, 5])\""
   ]
  },
  {
   "cell_type": "markdown",
   "metadata": {},
   "source": [
    "**실습문제**: 아래의 리스트에서 중복 숫자를 제거해 보자.\n",
    "\n",
    "[1, 1, 1, 2, 2, 3, 3, 3, 4, 4, 5]"
   ]
  },
  {
   "cell_type": "code",
   "execution_count": 17,
   "metadata": {},
   "outputs": [
    {
     "name": "stdout",
     "output_type": "stream",
     "text": [
      "{1, 2, 3, 4, 5}\n"
     ]
    },
    {
     "data": {
      "text/plain": [
       "[1, 2, 3, 4, 5]"
      ]
     },
     "execution_count": 17,
     "metadata": {},
     "output_type": "execute_result"
    }
   ],
   "source": [
    "a= [1, 1, 1, 2, 2, 3, 3, 3, 4, 4, 5]\n",
    "b= set(a)\n",
    "print(b)\n",
    "list(b)"
   ]
  },
  {
   "cell_type": "markdown",
   "metadata": {},
   "source": [
    "### Tuple"
   ]
  },
  {
   "cell_type": "markdown",
   "metadata": {},
   "source": [
    "튜플은 요소 간 순서가 있으며 값이 변하지 않는 리스트입니다. 따라서 튜플은 요소를 수정할 수가 없습니다. 튜플은 많은 면에서 리스트와 유사합니다; 가장 중요한 차이점은 튜플은 ‘딕셔너리의 열쇠’와 ‘집합의 요소’가 될 수 있지만, 리스트는 불가능하다는 점입니다.  \n",
    "\n",
    "{(1,2): 1, (2,3):2} 는 가능 수정안되닌깐\n",
    "{[1,2]: 1, [2,3]:2} 는 불가능 수정되기때문에\n",
    "{(1,2),(2,3)} OK\n",
    "{[1,2],[2,3]} X "
   ]
  },
  {
   "cell_type": "markdown",
   "metadata": {},
   "source": [
    "**튜플의 생성**"
   ]
  },
  {
   "cell_type": "code",
   "execution_count": 27,
   "metadata": {},
   "outputs": [
    {
     "name": "stdout",
     "output_type": "stream",
     "text": [
      "<class 'tuple'>\n",
      "<class 'int'>\n",
      "(1, 2, 3)\n",
      "<class 'tuple'>\n",
      "<class 'tuple'> (1, 2, 3)\n"
     ]
    }
   ],
   "source": [
    "t1 = ()    # 리스트는 [ ]으로 둘러싸지만 튜플은 ( )으로 둘러싼다.\n",
    "t2 = (1,)    # @@@@단지 1개의 요소만을 가질 때는 요소 뒤에 콤마(,)를 반드시 붙여야 한다 중요@@@@@\n",
    "print(type(t2))\n",
    "t6 = (1)\n",
    "print(type(t6))\n",
    "t3 = (1, 2, 3)\n",
    "t4 = 1, 2, 3    # 괄호( )를 생략해도 무방\n",
    "print(t4)\n",
    "print(type(t4))\n",
    "t5 = ('a', 'b', ('ab', 'cd'))\n",
    "print(type(t3), t3)"
   ]
  },
  {
   "cell_type": "code",
   "execution_count": 66,
   "metadata": {},
   "outputs": [
    {
     "data": {
      "text/plain": [
       "int"
      ]
     },
     "execution_count": 66,
     "metadata": {},
     "output_type": "execute_result"
    }
   ],
   "source": [
    "a = (1)      # tuple이 아님, 수식에서의 괄호\n",
    "type(a)"
   ]
  },
  {
   "cell_type": "code",
   "execution_count": 67,
   "metadata": {
    "scrolled": true
   },
   "outputs": [
    {
     "data": {
      "text/plain": [
       "tuple"
      ]
     },
     "execution_count": 67,
     "metadata": {},
     "output_type": "execute_result"
    }
   ],
   "source": [
    "a = (1,)      # 길이가 1인 tuple\n",
    "type(a)"
   ]
  },
  {
   "cell_type": "markdown",
   "metadata": {},
   "source": [
    "**튜플 다루기**"
   ]
  },
  {
   "cell_type": "code",
   "execution_count": 31,
   "metadata": {
    "scrolled": true
   },
   "outputs": [
    {
     "data": {
      "text/plain": [
       "(2, 'b')"
      ]
     },
     "execution_count": 31,
     "metadata": {},
     "output_type": "execute_result"
    }
   ],
   "source": [
    "t1 = (1, 2, 'a', 'b')\n",
    "t1[1], t1[3]    # 튜플 인덱싱"
   ]
  },
  {
   "cell_type": "code",
   "execution_count": 34,
   "metadata": {
    "scrolled": true
   },
   "outputs": [
    {
     "data": {
      "text/plain": [
       "(2, 'a', 'b')"
      ]
     },
     "execution_count": 34,
     "metadata": {},
     "output_type": "execute_result"
    }
   ],
   "source": [
    "t1[1:]    # 슬라이싱"
   ]
  },
  {
   "cell_type": "code",
   "execution_count": 35,
   "metadata": {},
   "outputs": [
    {
     "data": {
      "text/plain": [
       "(1, 2, 'a', 'b', 3, 4)"
      ]
     },
     "execution_count": 35,
     "metadata": {},
     "output_type": "execute_result"
    }
   ],
   "source": [
    "t2 = (3, 4)\n",
    "t1 + t2    # 튜플 더하기 concatenation"
   ]
  },
  {
   "cell_type": "code",
   "execution_count": 36,
   "metadata": {
    "scrolled": true
   },
   "outputs": [
    {
     "data": {
      "text/plain": [
       "(3, 4, 3, 4, 3, 4)"
      ]
     },
     "execution_count": 36,
     "metadata": {},
     "output_type": "execute_result"
    }
   ],
   "source": [
    "t2 * 3    # 튜플 곱하기"
   ]
  },
  {
   "cell_type": "code",
   "execution_count": 37,
   "metadata": {},
   "outputs": [
    {
     "data": {
      "text/plain": [
       "4"
      ]
     },
     "execution_count": 37,
     "metadata": {},
     "output_type": "execute_result"
    }
   ],
   "source": [
    "len(t1)    # 튜플 길이"
   ]
  },
  {
   "cell_type": "code",
   "execution_count": 39,
   "metadata": {
    "scrolled": true
   },
   "outputs": [
    {
     "name": "stdout",
     "output_type": "stream",
     "text": [
      "{(0, 1): 0, (1, 2): 1, (2, 3): 2, (3, 4): 3, (4, 5): 4, (5, 6): 5, (6, 7): 6, (7, 8): 7, (8, 9): 8, (9, 10): 9}\n",
      "<class 'tuple'>\n",
      "5\n",
      "1\n"
     ]
    }
   ],
   "source": [
    "d = {(x, x + 1): x for x in range(10)}  # 튜플을 열쇠로 하는 딕셔너리 생성\n",
    "print(d)\n",
    "t = (5, 6)       # 튜플 생성\n",
    "print (type(t))    # 출력 \"<type 'tuple'>\"\n",
    "print (d[t])       # 출력 \"5\" =d[(5,6)]\n",
    "print (d[(1, 2)])  # 출력 \"1\""
   ]
  },
  {
   "cell_type": "markdown",
   "metadata": {},
   "source": [
    "**실습문제**: (1,2,3)이라는 튜플에 4라는 값을 추가하여 (1,2,3,4)처럼 만들어 출력해 보자."
   ]
  },
  {
   "cell_type": "code",
   "execution_count": 41,
   "metadata": {},
   "outputs": [
    {
     "name": "stdout",
     "output_type": "stream",
     "text": [
      "(1, 2, 3, 4)\n"
     ]
    },
    {
     "data": {
      "text/plain": [
       "(1, 2, 3, 4)"
      ]
     },
     "execution_count": 41,
     "metadata": {},
     "output_type": "execute_result"
    }
   ],
   "source": [
    "a = (1,2,3)\n",
    "b = (4,)\n",
    "print(a+(4,))\n",
    "a+ b"
   ]
  },
  {
   "cell_type": "markdown",
   "metadata": {},
   "source": [
    "a 튜플에 (4, )라는 튜플을 더하면 된다. 단, 이때 만들어지는 a + (4, )의 결과는 a 값이 변경되는 것이 아니라(튜플은 그 값을 변경할 수 없다) 새로운 튜플이 생성되고 그 값이 a 변수에 대입되는 것임에 유념하자.\n",
    "\n",
    "다음 코드를 실행해 보면 a의 고유 주소 값이 변경됨을 확인할 수 있다."
   ]
  },
  {
   "cell_type": "code",
   "execution_count": 43,
   "metadata": {},
   "outputs": [
    {
     "name": "stdout",
     "output_type": "stream",
     "text": [
      "64892080\n",
      "(1, 2, 3)\n",
      "(1, 2, 3, 4)\n",
      "65991136\n"
     ]
    }
   ],
   "source": [
    "a = (1, 2, 3)\n",
    "print (id(a))  # a의 고유 주소 값 출력\n",
    "print(a)\n",
    "a = a + (4,)\n",
    "print(a)\n",
    "print (id(a))     # (4,) 값이 더해 진 후 a의 고유 주소 값 출력"
   ]
  },
  {
   "cell_type": "markdown",
   "metadata": {},
   "source": [
    "**Mutable vs Immutable Type:**\n",
    "- immutable type : number, string, tuple 수정불가능\n",
    "- mutable type : list, dictionary, set 수정가능"
   ]
  },
  {
   "cell_type": "code",
   "execution_count": null,
   "metadata": {},
   "outputs": [],
   "source": []
  }
 ],
 "metadata": {
  "kernelspec": {
   "display_name": "Python 3",
   "language": "python",
   "name": "python3"
  },
  "language_info": {
   "codemirror_mode": {
    "name": "ipython",
    "version": 3
   },
   "file_extension": ".py",
   "mimetype": "text/x-python",
   "name": "python",
   "nbconvert_exporter": "python",
   "pygments_lexer": "ipython3",
   "version": "3.7.3"
  }
 },
 "nbformat": 4,
 "nbformat_minor": 2
}
