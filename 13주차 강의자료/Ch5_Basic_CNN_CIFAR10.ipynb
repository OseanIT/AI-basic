{
 "cells": [
  {
   "cell_type": "markdown",
   "metadata": {
    "colab_type": "text",
    "id": "jAKT6yFtTTlo"
   },
   "source": [
    "# Convolutional Neural Network\n",
    "- CIFAR-10 dataset"
   ]
  },
  {
   "cell_type": "markdown",
   "metadata": {
    "colab_type": "text",
    "id": "lzfS2qt_TTlr"
   },
   "source": [
    "## 1. Settings\n",
    "### 1) Import required libraries"
   ]
  },
  {
   "cell_type": "code",
   "execution_count": 1,
   "metadata": {
    "colab": {},
    "colab_type": "code",
    "id": "-4DurQhETTls"
   },
   "outputs": [],
   "source": [
    "import numpy as np\n",
    "import torch\n",
    "import torch.nn as nn\n",
    "import torch.optim as optim\n",
    "import torch.nn.init as init\n",
    "import torchvision.datasets as dset\n",
    "import torchvision.transforms as transforms\n",
    "from torch.utils.data import DataLoader\n",
    "from torch.autograd import Variable"
   ]
  },
  {
   "cell_type": "markdown",
   "metadata": {
    "colab_type": "text",
    "id": "StzD6yuJTTlv"
   },
   "source": [
    "### 2) Set hyperparameters"
   ]
  },
  {
   "cell_type": "code",
   "execution_count": 2,
   "metadata": {
    "colab": {},
    "colab_type": "code",
    "id": "foJJSHOdTTlw"
   },
   "outputs": [],
   "source": [
    "batch_size = 256\n",
    "learning_rate = 0.0002\n",
    "num_epoch = 100"
   ]
  },
  {
   "cell_type": "markdown",
   "metadata": {
    "colab_type": "text",
    "id": "AtlHd0IRTTlz"
   },
   "source": [
    "## 2. Data Generation\n",
    "\n",
    "### 1) Download Data"
   ]
  },
  {
   "cell_type": "code",
   "execution_count": 3,
   "metadata": {
    "colab": {
     "base_uri": "https://localhost:8080/",
     "height": 55
    },
    "colab_type": "code",
    "executionInfo": {
     "elapsed": 2738,
     "status": "ok",
     "timestamp": 1574587350066,
     "user": {
      "displayName": "Hohyun Park",
      "photoUrl": "",
      "userId": "03565181001459782861"
     },
     "user_tz": -540
    },
    "id": "i43dwHbmTTl0",
    "outputId": "dec816c5-07f1-4003-d36d-6fd5fa6d3549",
    "scrolled": true
   },
   "outputs": [
    {
     "name": "stdout",
     "output_type": "stream",
     "text": [
      "Downloading https://www.cs.toronto.edu/~kriz/cifar-10-python.tar.gz to ./cifar-10-python.tar.gz\n"
     ]
    },
    {
     "name": "stderr",
     "output_type": "stream",
     "text": [
      "100%|██████████████████████▉| 169943040/170498071 [00:39<00:00, 7175960.49it/s]"
     ]
    },
    {
     "name": "stdout",
     "output_type": "stream",
     "text": [
      "Extracting ./cifar-10-python.tar.gz to ./\n",
      "Files already downloaded and verified\n"
     ]
    },
    {
     "name": "stderr",
     "output_type": "stream",
     "text": [
      "\r",
      "170500096it [00:49, 7175960.49it/s]                                            "
     ]
    }
   ],
   "source": [
    "cifar_train = dset.CIFAR10(\"./\", train=True, transform=transforms.ToTensor(), target_transform=None, download=True)\n",
    "cifar_test = dset.CIFAR10(\"./\", train=False, transform=transforms.ToTensor(), target_transform=None, download=True)"
   ]
  },
  {
   "cell_type": "markdown",
   "metadata": {
    "colab_type": "text",
    "id": "iN_hW6-zTTl3"
   },
   "source": [
    "### 2) Check Dataset"
   ]
  },
  {
   "cell_type": "code",
   "execution_count": 4,
   "metadata": {
    "colab": {
     "base_uri": "https://localhost:8080/",
     "height": 55
    },
    "colab_type": "code",
    "executionInfo": {
     "elapsed": 1044,
     "status": "ok",
     "timestamp": 1574587355575,
     "user": {
      "displayName": "Hohyun Park",
      "photoUrl": "",
      "userId": "03565181001459782861"
     },
     "user_tz": -540
    },
    "id": "t6r1zJpSTTl4",
    "outputId": "768a3a66-4041-46c1-f6a3-4f244e33e2e1",
    "scrolled": false
   },
   "outputs": [
    {
     "name": "stdout",
     "output_type": "stream",
     "text": [
      "torch.Size([3, 32, 32]) 6 50000\n"
     ]
    },
    {
     "data": {
      "text/plain": [
       "(torch.Size([3, 32, 32]), 3, 10000)"
      ]
     },
     "execution_count": 4,
     "metadata": {},
     "output_type": "execute_result"
    }
   ],
   "source": [
    "print(cifar_train.__getitem__(0)[0].size(), cifar_train.__getitem__(0)[1], cifar_train.__len__())\n",
    "cifar_test.__getitem__(0)[0].size(), cifar_test.__getitem__(0)[1], cifar_test.__len__()"
   ]
  },
  {
   "cell_type": "code",
   "execution_count": null,
   "metadata": {},
   "outputs": [],
   "source": [
    "classes = ('plane', 'car', 'bird', 'cat', 'deer', 'dog', 'frog', 'horse', 'ship', 'truck')"
   ]
  },
  {
   "cell_type": "code",
   "execution_count": 7,
   "metadata": {
    "colab": {
     "base_uri": "https://localhost:8080/",
     "height": 764
    },
    "colab_type": "code",
    "executionInfo": {
     "elapsed": 1495,
     "status": "ok",
     "timestamp": 1574590606683,
     "user": {
      "displayName": "Hohyun Park",
      "photoUrl": "",
      "userId": "03565181001459782861"
     },
     "user_tz": -540
    },
    "id": "V1y5svD-vNhf",
    "outputId": "62d180c2-ccdd-4a62-d12f-40f209e70467"
   },
   "outputs": [
    {
     "data": {
      "image/png": "[encoded data removed]",
      "text/plain": [
       "<Figure size 432x288 with 1 Axes>"
      ]
     },
     "metadata": {
      "needs_background": "light"
     },
     "output_type": "display_data"
    },
    {
     "data": {
      "image/png": "[encoded data removed]",
      "text/plain": [
       "<Figure size 432x288 with 1 Axes>"
      ]
     },
     "metadata": {
      "needs_background": "light"
     },
     "output_type": "display_data"
    },
    {
     "data": {
      "image/png": "[encoded data removed]",
      "text/plain": [
       "<Figure size 432x288 with 1 Axes>"
      ]
     },
     "metadata": {
      "needs_background": "light"
     },
     "output_type": "display_data"
    },
    {
     "data": {
      "image/png": "[encoded data removed]",
      "text/plain": [
       "<Figure size 432x288 with 1 Axes>"
      ]
     },
     "metadata": {
      "needs_background": "light"
     },
     "output_type": "display_data"
    },
    {
     "data": {
      "image/png": "[encoded data removed]",
      "text/plain": [
       "<Figure size 432x288 with 1 Axes>"
      ]
     },
     "metadata": {
      "needs_background": "light"
     },
     "output_type": "display_data"
    }
   ],
   "source": [
    "import matplotlib.pyplot as plt\n",
    "%matplotlib inline\n",
    "\n",
    "for i in range(5):\n",
    "    img= cifar_train[i][0].numpy().transpose(1,2,0)\n",
    "    plt.imshow(img)\n",
    "    plt.show()"
   ]
  },
  {
   "cell_type": "markdown",
   "metadata": {
    "colab_type": "text",
    "id": "9domAe0fTTl6"
   },
   "source": [
    "### 3) Set DataLoader"
   ]
  },
  {
   "cell_type": "code",
   "execution_count": 6,
   "metadata": {
    "colab": {},
    "colab_type": "code",
    "id": "5FugA4AWTTl7"
   },
   "outputs": [],
   "source": [
    "train_loader = torch.utils.data.DataLoader(cifar_train,batch_size=batch_size, shuffle=True,num_workers=2,drop_last=True)\n",
    "test_loader = torch.utils.data.DataLoader(cifar_test,batch_size=batch_size, shuffle=False,num_workers=2,drop_last=True)"
   ]
  },
  {
   "cell_type": "markdown",
   "metadata": {
    "colab_type": "text",
    "id": "Zz7K8jYpTTl9"
   },
   "source": [
    "## 3. Model & Optimizer\n",
    "\n",
    "### 1) CNN Model"
   ]
  },
  {
   "cell_type": "code",
   "execution_count": 0,
   "metadata": {
    "colab": {},
    "colab_type": "code",
    "id": "uHk9TZIVTTl-"
   },
   "outputs": [],
   "source": [
    "class CNN(nn.Module):\n",
    "    def __init__(self):\n",
    "        super(CNN,self).__init__()\n",
    "        self.layer = nn.Sequential(\n",
    "            nn.Conv2d(3,16,3,padding=1),\n",
    "            nn.ReLU(),\n",
    "            nn.Conv2d(16,32,3,padding=1),\n",
    "            nn.ReLU(),\n",
    "            nn.MaxPool2d(2,2), # 32 x 16 x 16\n",
    "            \n",
    "            nn.Conv2d(32,64,3,padding=1),\n",
    "            nn.ReLU(),\n",
    "            nn.Conv2d(64,128,3,padding=1),\n",
    "            nn.ReLU(),\n",
    "            nn.MaxPool2d(2,2), # 128 x 8 x 8\n",
    "            \n",
    "            nn.Conv2d(128,256,3,padding=1),\n",
    "            nn.ReLU(),\n",
    "            nn.Conv2d(256,256,3,padding=1),\n",
    "            nn.ReLU(),\n",
    "            nn.MaxPool2d(2,2)  # 256 x 4 x 4\n",
    "        )\n",
    "        self.fc_layer = nn.Sequential(\n",
    "            nn.Linear(256*4*4,200),\n",
    "            nn.ReLU(),\n",
    "            nn.Linear(200,10)\n",
    "        )       \n",
    "        \n",
    "    def forward(self,x):\n",
    "        out = self.layer(x)\n",
    "        out = out.view(batch_size,-1)\n",
    "        out = self.fc_layer(out)\n",
    "\n",
    "        return out\n",
    "\n",
    "model = CNN().cuda()"
   ]
  },
  {
   "cell_type": "markdown",
   "metadata": {
    "colab_type": "text",
    "id": "RWCG78EHTTmA"
   },
   "source": [
    "### 2) Loss func & Optimizer"
   ]
  },
  {
   "cell_type": "code",
   "execution_count": 0,
   "metadata": {
    "colab": {},
    "colab_type": "code",
    "id": "e52pVmb2TTmB"
   },
   "outputs": [],
   "source": [
    "loss_func = nn.CrossEntropyLoss()\n",
    "optimizer = torch.optim.Adam(model.parameters(), lr=learning_rate)"
   ]
  },
  {
   "cell_type": "markdown",
   "metadata": {
    "colab_type": "text",
    "id": "0K8QK3ZQTTmD"
   },
   "source": [
    "### 3) Load Model"
   ]
  },
  {
   "cell_type": "code",
   "execution_count": 18,
   "metadata": {
    "colab": {
     "base_uri": "https://localhost:8080/",
     "height": 36
    },
    "colab_type": "code",
    "executionInfo": {
     "elapsed": 1031,
     "status": "ok",
     "timestamp": 1574581956953,
     "user": {
      "displayName": "Hohyun Park",
      "photoUrl": "",
      "userId": "03565181001459782861"
     },
     "user_tz": -540
    },
    "id": "lKI7QiXwTTmE",
    "outputId": "0eb26dc1-65a4-4381-e4bd-16b07ff96544"
   },
   "outputs": [
    {
     "name": "stdout",
     "output_type": "stream",
     "text": [
      "model not restored\n"
     ]
    }
   ],
   "source": [
    "'''''\n",
    "try:\n",
    "    model = torch.load('./cifar_model.pkl')\n",
    "    print(\"model restored\")\n",
    "except:\n",
    "    print(\"model not restored\")\n",
    "'''''"
   ]
  },
  {
   "cell_type": "markdown",
   "metadata": {
    "colab_type": "text",
    "id": "PVgxB3i-TTmG"
   },
   "source": [
    "## 4. Train "
   ]
  },
  {
   "cell_type": "code",
   "execution_count": 27,
   "metadata": {
    "colab": {
     "base_uri": "https://localhost:8080/",
     "height": 1000
    },
    "colab_type": "code",
    "executionInfo": {
     "elapsed": 1494106,
     "status": "ok",
     "timestamp": 1574588890177,
     "user": {
      "displayName": "Hohyun Park",
      "photoUrl": "",
      "userId": "03565181001459782861"
     },
     "user_tz": -540
    },
    "id": "-MKNt0EpTTmH",
    "outputId": "0413c78f-3f7c-405d-88fd-347f474a4ec5"
   },
   "outputs": [
    {
     "name": "stdout",
     "output_type": "stream",
     "text": [
      "tensor(2.3038, device='cuda:0') 0 0\n",
      "tensor(1.9623, device='cuda:0') 0 100\n",
      "tensor(1.7007, device='cuda:0') 1 0\n",
      "tensor(1.6464, device='cuda:0') 1 100\n",
      "tensor(1.5360, device='cuda:0') 2 0\n",
      "tensor(1.4621, device='cuda:0') 2 100\n",
      "tensor(1.5090, device='cuda:0') 3 0\n",
      "tensor(1.4032, device='cuda:0') 3 100\n",
      "tensor(1.3944, device='cuda:0') 4 0\n",
      "tensor(1.3417, device='cuda:0') 4 100\n",
      "tensor(1.4284, device='cuda:0') 5 0\n",
      "tensor(1.3371, device='cuda:0') 5 100\n",
      "tensor(1.2117, device='cuda:0') 6 0\n",
      "tensor(1.3187, device='cuda:0') 6 100\n",
      "tensor(1.2234, device='cuda:0') 7 0\n",
      "tensor(1.3046, device='cuda:0') 7 100\n",
      "tensor(1.1251, device='cuda:0') 8 0\n",
      "tensor(1.1365, device='cuda:0') 8 100\n",
      "tensor(1.1897, device='cuda:0') 9 0\n",
      "tensor(1.1130, device='cuda:0') 9 100\n",
      "tensor(0.9910, device='cuda:0') 10 0\n",
      "tensor(1.0128, device='cuda:0') 10 100\n",
      "tensor(1.1916, device='cuda:0') 11 0\n",
      "tensor(1.0311, device='cuda:0') 11 100\n",
      "tensor(0.9296, device='cuda:0') 12 0\n",
      "tensor(1.0929, device='cuda:0') 12 100\n",
      "tensor(0.9224, device='cuda:0') 13 0\n",
      "tensor(0.8618, device='cuda:0') 13 100\n",
      "tensor(0.9298, device='cuda:0') 14 0\n",
      "tensor(0.9445, device='cuda:0') 14 100\n",
      "tensor(0.8431, device='cuda:0') 15 0\n",
      "tensor(0.8103, device='cuda:0') 15 100\n",
      "tensor(0.8263, device='cuda:0') 16 0\n",
      "tensor(0.7879, device='cuda:0') 16 100\n",
      "tensor(0.7200, device='cuda:0') 17 0\n",
      "tensor(0.6657, device='cuda:0') 17 100\n",
      "tensor(0.6151, device='cuda:0') 18 0\n",
      "tensor(0.8257, device='cuda:0') 18 100\n",
      "tensor(0.7068, device='cuda:0') 19 0\n",
      "tensor(0.7472, device='cuda:0') 19 100\n",
      "tensor(0.5795, device='cuda:0') 20 0\n",
      "tensor(0.5991, device='cuda:0') 20 100\n",
      "tensor(0.6642, device='cuda:0') 21 0\n",
      "tensor(0.6296, device='cuda:0') 21 100\n",
      "tensor(0.6878, device='cuda:0') 22 0\n",
      "tensor(0.5736, device='cuda:0') 22 100\n",
      "tensor(0.6494, device='cuda:0') 23 0\n",
      "tensor(0.5015, device='cuda:0') 23 100\n",
      "tensor(0.6148, device='cuda:0') 24 0\n",
      "tensor(0.5816, device='cuda:0') 24 100\n",
      "tensor(0.5752, device='cuda:0') 25 0\n",
      "tensor(0.4468, device='cuda:0') 25 100\n",
      "tensor(0.5092, device='cuda:0') 26 0\n",
      "tensor(0.4450, device='cuda:0') 26 100\n",
      "tensor(0.3550, device='cuda:0') 27 0\n",
      "tensor(0.4176, device='cuda:0') 27 100\n",
      "tensor(0.5117, device='cuda:0') 28 0\n",
      "tensor(0.5858, device='cuda:0') 28 100\n",
      "tensor(0.4607, device='cuda:0') 29 0\n",
      "tensor(0.4874, device='cuda:0') 29 100\n",
      "tensor(0.5125, device='cuda:0') 30 0\n",
      "tensor(0.3610, device='cuda:0') 30 100\n",
      "tensor(0.3353, device='cuda:0') 31 0\n",
      "tensor(0.3965, device='cuda:0') 31 100\n",
      "tensor(0.2917, device='cuda:0') 32 0\n",
      "tensor(0.3045, device='cuda:0') 32 100\n",
      "tensor(0.2843, device='cuda:0') 33 0\n",
      "tensor(0.2914, device='cuda:0') 33 100\n",
      "tensor(0.2596, device='cuda:0') 34 0\n",
      "tensor(0.3004, device='cuda:0') 34 100\n",
      "tensor(0.2246, device='cuda:0') 35 0\n",
      "tensor(0.2674, device='cuda:0') 35 100\n",
      "tensor(0.1513, device='cuda:0') 36 0\n",
      "tensor(0.2103, device='cuda:0') 36 100\n",
      "tensor(0.2075, device='cuda:0') 37 0\n",
      "tensor(0.1798, device='cuda:0') 37 100\n",
      "tensor(0.2231, device='cuda:0') 38 0\n",
      "tensor(0.1789, device='cuda:0') 38 100\n",
      "tensor(0.1450, device='cuda:0') 39 0\n",
      "tensor(0.2196, device='cuda:0') 39 100\n",
      "tensor(0.1490, device='cuda:0') 40 0\n",
      "tensor(0.1352, device='cuda:0') 40 100\n",
      "tensor(0.1044, device='cuda:0') 41 0\n",
      "tensor(0.0817, device='cuda:0') 41 100\n",
      "tensor(0.0687, device='cuda:0') 42 0\n",
      "tensor(0.1269, device='cuda:0') 42 100\n",
      "tensor(0.0785, device='cuda:0') 43 0\n",
      "tensor(0.0826, device='cuda:0') 43 100\n",
      "tensor(0.0950, device='cuda:0') 44 0\n",
      "tensor(0.0553, device='cuda:0') 44 100\n",
      "tensor(0.0641, device='cuda:0') 45 0\n",
      "tensor(0.0685, device='cuda:0') 45 100\n",
      "tensor(0.0568, device='cuda:0') 46 0\n",
      "tensor(0.0365, device='cuda:0') 46 100\n",
      "tensor(0.0875, device='cuda:0') 47 0\n",
      "tensor(0.0563, device='cuda:0') 47 100\n",
      "tensor(0.0740, device='cuda:0') 48 0\n",
      "tensor(0.0445, device='cuda:0') 48 100\n",
      "tensor(0.0356, device='cuda:0') 49 0\n",
      "tensor(0.0259, device='cuda:0') 49 100\n",
      "tensor(0.0618, device='cuda:0') 50 0\n",
      "tensor(0.0417, device='cuda:0') 50 100\n",
      "tensor(0.0486, device='cuda:0') 51 0\n",
      "tensor(0.0466, device='cuda:0') 51 100\n",
      "tensor(0.0277, device='cuda:0') 52 0\n",
      "tensor(0.0220, device='cuda:0') 52 100\n",
      "tensor(0.0349, device='cuda:0') 53 0\n",
      "tensor(0.0199, device='cuda:0') 53 100\n",
      "tensor(0.0279, device='cuda:0') 54 0\n",
      "tensor(0.0528, device='cuda:0') 54 100\n",
      "tensor(0.0382, device='cuda:0') 55 0\n",
      "tensor(0.0223, device='cuda:0') 55 100\n",
      "tensor(0.0119, device='cuda:0') 56 0\n",
      "tensor(0.0364, device='cuda:0') 56 100\n",
      "tensor(0.0392, device='cuda:0') 57 0\n",
      "tensor(0.0479, device='cuda:0') 57 100\n",
      "tensor(0.0705, device='cuda:0') 58 0\n",
      "tensor(0.0195, device='cuda:0') 58 100\n",
      "tensor(0.0739, device='cuda:0') 59 0\n",
      "tensor(0.0143, device='cuda:0') 59 100\n",
      "tensor(0.0346, device='cuda:0') 60 0\n",
      "tensor(0.0208, device='cuda:0') 60 100\n",
      "tensor(0.0334, device='cuda:0') 61 0\n",
      "tensor(0.0161, device='cuda:0') 61 100\n",
      "tensor(0.0171, device='cuda:0') 62 0\n",
      "tensor(0.0092, device='cuda:0') 62 100\n",
      "tensor(0.0252, device='cuda:0') 63 0\n",
      "tensor(0.0349, device='cuda:0') 63 100\n",
      "tensor(0.0547, device='cuda:0') 64 0\n",
      "tensor(0.0372, device='cuda:0') 64 100\n",
      "tensor(0.0175, device='cuda:0') 65 0\n",
      "tensor(0.0114, device='cuda:0') 65 100\n",
      "tensor(0.0495, device='cuda:0') 66 0\n",
      "tensor(0.0116, device='cuda:0') 66 100\n",
      "tensor(0.0123, device='cuda:0') 67 0\n",
      "tensor(0.0171, device='cuda:0') 67 100\n",
      "tensor(0.0385, device='cuda:0') 68 0\n",
      "tensor(0.0390, device='cuda:0') 68 100\n",
      "tensor(0.0705, device='cuda:0') 69 0\n",
      "tensor(0.0178, device='cuda:0') 69 100\n",
      "tensor(0.0368, device='cuda:0') 70 0\n",
      "tensor(0.0108, device='cuda:0') 70 100\n",
      "tensor(0.0094, device='cuda:0') 71 0\n",
      "tensor(0.0611, device='cuda:0') 71 100\n",
      "tensor(0.0173, device='cuda:0') 72 0\n",
      "tensor(0.0153, device='cuda:0') 72 100\n",
      "tensor(0.0178, device='cuda:0') 73 0\n",
      "tensor(0.0040, device='cuda:0') 73 100\n",
      "tensor(0.0082, device='cuda:0') 74 0\n",
      "tensor(0.0029, device='cuda:0') 74 100\n",
      "tensor(0.0639, device='cuda:0') 75 0\n",
      "tensor(0.0658, device='cuda:0') 75 100\n",
      "tensor(0.0318, device='cuda:0') 76 0\n",
      "tensor(0.0128, device='cuda:0') 76 100\n",
      "tensor(0.0027, device='cuda:0') 77 0\n",
      "tensor(0.0027, device='cuda:0') 77 100\n",
      "tensor(0.0029, device='cuda:0') 78 0\n",
      "tensor(0.0163, device='cuda:0') 78 100\n",
      "tensor(0.1443, device='cuda:0') 79 0\n",
      "tensor(0.0294, device='cuda:0') 79 100\n",
      "tensor(0.0571, device='cuda:0') 80 0\n",
      "tensor(0.0327, device='cuda:0') 80 100\n",
      "tensor(0.0038, device='cuda:0') 81 0\n",
      "tensor(0.0412, device='cuda:0') 81 100\n",
      "tensor(0.0208, device='cuda:0') 82 0\n",
      "tensor(0.0063, device='cuda:0') 82 100\n",
      "tensor(0.0394, device='cuda:0') 83 0\n",
      "tensor(0.0080, device='cuda:0') 83 100\n",
      "tensor(0.0445, device='cuda:0') 84 0\n",
      "tensor(0.0041, device='cuda:0') 84 100\n",
      "tensor(0.0013, device='cuda:0') 85 0\n",
      "tensor(0.0007, device='cuda:0') 85 100\n",
      "tensor(0.0008, device='cuda:0') 86 0\n",
      "tensor(0.0047, device='cuda:0') 86 100\n",
      "tensor(0.0425, device='cuda:0') 87 0\n",
      "tensor(0.1306, device='cuda:0') 87 100\n",
      "tensor(0.0223, device='cuda:0') 88 0\n",
      "tensor(0.0036, device='cuda:0') 88 100\n",
      "tensor(0.0056, device='cuda:0') 89 0\n",
      "tensor(0.0154, device='cuda:0') 89 100\n",
      "tensor(0.0167, device='cuda:0') 90 0\n",
      "tensor(0.0096, device='cuda:0') 90 100\n",
      "tensor(0.0301, device='cuda:0') 91 0\n",
      "tensor(0.0210, device='cuda:0') 91 100\n",
      "tensor(0.0107, device='cuda:0') 92 0\n",
      "tensor(0.0056, device='cuda:0') 92 100\n",
      "tensor(0.0136, device='cuda:0') 93 0\n",
      "tensor(0.0162, device='cuda:0') 93 100\n",
      "tensor(0.0417, device='cuda:0') 94 0\n",
      "tensor(0.0185, device='cuda:0') 94 100\n",
      "tensor(0.0394, device='cuda:0') 95 0\n",
      "tensor(0.0160, device='cuda:0') 95 100\n",
      "tensor(0.0015, device='cuda:0') 96 0\n",
      "tensor(0.0038, device='cuda:0') 96 100\n",
      "tensor(0.0036, device='cuda:0') 97 0\n",
      "tensor(0.0063, device='cuda:0') 97 100\n",
      "tensor(0.0043, device='cuda:0') 98 0\n",
      "tensor(0.1064, device='cuda:0') 98 100\n",
      "tensor(0.0092, device='cuda:0') 99 0\n",
      "tensor(0.0309, device='cuda:0') 99 100\n",
      "Done!!!\n"
     ]
    }
   ],
   "source": [
    "for i in range(num_epoch):\n",
    "    for j,[image,label] in enumerate(train_loader):\n",
    "        x = Variable(image).cuda()\n",
    "        y_= Variable(label).cuda()\n",
    "        \n",
    "        optimizer.zero_grad()\n",
    "        output = model.forward(x)\n",
    "        loss = loss_func(output,y_)\n",
    "        loss.backward()\n",
    "        optimizer.step()\n",
    "        \n",
    "        if j % 100 == 0:\n",
    "            print(loss.data,i,j)\n",
    "            #torch.save(model,'./cifar_model.pkl')\n",
    "\n",
    "print(\"Done!!!\")"
   ]
  },
  {
   "cell_type": "code",
   "execution_count": 29,
   "metadata": {
    "colab": {
     "base_uri": "https://localhost:8080/",
     "height": 409
    },
    "colab_type": "code",
    "executionInfo": {
     "elapsed": 1061,
     "status": "ok",
     "timestamp": 1574589056115,
     "user": {
      "displayName": "Hohyun Park",
      "photoUrl": "",
      "userId": "03565181001459782861"
     },
     "user_tz": -540
    },
    "id": "aLGP3b0wTTmJ",
    "outputId": "0dc48926-475e-41a3-c791-f8f40a384334"
   },
   "outputs": [
    {
     "name": "stdout",
     "output_type": "stream",
     "text": [
      "[Sequential(\n",
      "  (0): Conv2d(3, 16, kernel_size=(3, 3), stride=(1, 1), padding=(1, 1))\n",
      "  (1): ReLU()\n",
      "  (2): Conv2d(16, 32, kernel_size=(3, 3), stride=(1, 1), padding=(1, 1))\n",
      "  (3): ReLU()\n",
      "  (4): MaxPool2d(kernel_size=2, stride=2, padding=0, dilation=1, ceil_mode=False)\n",
      "  (5): Conv2d(32, 64, kernel_size=(3, 3), stride=(1, 1), padding=(1, 1))\n",
      "  (6): ReLU()\n",
      "  (7): Conv2d(64, 128, kernel_size=(3, 3), stride=(1, 1), padding=(1, 1))\n",
      "  (8): ReLU()\n",
      "  (9): MaxPool2d(kernel_size=2, stride=2, padding=0, dilation=1, ceil_mode=False)\n",
      "  (10): Conv2d(128, 256, kernel_size=(3, 3), stride=(1, 1), padding=(1, 1))\n",
      "  (11): ReLU()\n",
      "  (12): Conv2d(256, 256, kernel_size=(3, 3), stride=(1, 1), padding=(1, 1))\n",
      "  (13): ReLU()\n",
      "  (14): MaxPool2d(kernel_size=2, stride=2, padding=0, dilation=1, ceil_mode=False)\n",
      "), Sequential(\n",
      "  (0): Linear(in_features=4096, out_features=200, bias=True)\n",
      "  (1): ReLU()\n",
      "  (2): Linear(in_features=200, out_features=10, bias=True)\n",
      ")]\n"
     ]
    }
   ],
   "source": [
    "param_list = list(model.children())\n",
    "print(param_list)"
   ]
  },
  {
   "cell_type": "markdown",
   "metadata": {
    "colab_type": "text",
    "id": "z0U2Lx4lTTmL"
   },
   "source": [
    "## 5. Test"
   ]
  },
  {
   "cell_type": "code",
   "execution_count": 32,
   "metadata": {
    "colab": {
     "base_uri": "https://localhost:8080/",
     "height": 36
    },
    "colab_type": "code",
    "executionInfo": {
     "elapsed": 2516,
     "status": "ok",
     "timestamp": 1574589131473,
     "user": {
      "displayName": "Hohyun Park",
      "photoUrl": "",
      "userId": "03565181001459782861"
     },
     "user_tz": -540
    },
    "id": "Y_x3ZCr0TTmM",
    "outputId": "6d2ad010-0c99-4d37-e9ed-acb6ad637836"
   },
   "outputs": [
    {
     "name": "stdout",
     "output_type": "stream",
     "text": [
      "Accuracy of Test Data: 72.94671630859375\n"
     ]
    }
   ],
   "source": [
    "correct = 0\n",
    "total = 0\n",
    "\n",
    "for image,label in test_loader:\n",
    "    #x = Variable(image,volatile=True).cuda()\n",
    "    x = Variable(image).cuda()\n",
    "    y_= Variable(label).cuda()\n",
    "\n",
    "    output = model.forward(x)\n",
    "    _,output_index = torch.max(output,1)\n",
    "        \n",
    "    total += label.size(0)\n",
    "    correct += (output_index == y_).sum().float()\n",
    "    \n",
    "print(\"Accuracy of Test Data: {}\".format(100*correct/total))"
   ]
  },
  {
   "cell_type": "code",
   "execution_count": 0,
   "metadata": {
    "colab": {},
    "colab_type": "code",
    "id": "LAarqg_J0wOQ"
   },
   "outputs": [],
   "source": []
  }
 ],
 "metadata": {
  "accelerator": "GPU",
  "colab": {
   "collapsed_sections": [],
   "name": "CNN_CIFAR10.ipynb",
   "provenance": []
  },
  "kernelspec": {
   "display_name": "Python 3",
   "language": "python",
   "name": "python3"
  },
  "language_info": {
   "codemirror_mode": {
    "name": "ipython",
    "version": 3
   },
   "file_extension": ".py",
   "mimetype": "text/x-python",
   "name": "python",
   "nbconvert_exporter": "python",
   "pygments_lexer": "ipython3",
   "version": "3.7.3"
  }
 },
 "nbformat": 4,
 "nbformat_minor": 1
}
