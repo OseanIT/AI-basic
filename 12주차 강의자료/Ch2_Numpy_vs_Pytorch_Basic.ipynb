{
 "cells": [
  {
   "cell_type": "markdown",
   "metadata": {},
   "source": [
    "# numpy"
   ]
  },
  {
   "cell_type": "code",
   "execution_count": 7,
   "metadata": {},
   "outputs": [
    {
     "name": "stdout",
     "output_type": "stream",
     "text": [
      "a=  [[ 1.34251038  0.04868913  0.43442581  0.74772853]\n",
      " [ 2.79027931  0.20049663  0.297442    0.12927355]\n",
      " [ 0.26351668  0.26837482  0.12451648 -1.07931093]]\n",
      "b=  [[ 3.61226501 -1.40567654  0.48018432  0.56054468]\n",
      " [ 4.32305853  1.6698554   0.45238942  0.50743607]\n",
      " [-0.62426907 -1.71242165 -0.22339567 -0.92296196]]\n",
      "c=  6.717008537800067\n",
      "grad_x = [[ 0.76103773  0.12167502  0.44386323  0.33367433]\n",
      " [ 1.49407907 -0.20515826  0.3130677  -0.85409574]\n",
      " [-2.55298982  0.6536186   0.8644362  -0.74216502]]\n",
      "grad_y = [[ 1.76405235  0.40015721  0.97873798  2.2408932 ]\n",
      " [ 1.86755799 -0.97727788  0.95008842 -0.15135721]\n",
      " [-0.10321885  0.4105985   0.14404357  1.45427351]]\n",
      "grad_z = [[1. 1. 1. 1.]\n",
      " [1. 1. 1. 1.]\n",
      " [1. 1. 1. 1.]]\n",
      "0:00:00.012964\n"
     ]
    }
   ],
   "source": [
    "import numpy as np\n",
    "from datetime import datetime\n",
    "start = datetime.now()\n",
    "\n",
    "np.random.seed(0)\n",
    "N,D = 3,4\n",
    "x = np.random.randn(N,D)\n",
    "y = np.random.randn(N,D)\n",
    "z = np.random.randn(N,D)\n",
    "\n",
    "a = x*y\n",
    "b = a+z\n",
    "c = np.sum(b)\n",
    "\n",
    "print(\"a= \",a)\n",
    "print(\"b= \",b)\n",
    "print(\"c= \",c)\n",
    "\n",
    "grad_c = 1.0\n",
    "grad_b = grad_c * np.ones((N,D))\n",
    "grad_a = grad_b.copy()\n",
    "grad_z = grad_b.copy()\n",
    "grad_x = grad_a * y\n",
    "grad_y = grad_a * x\n",
    "\n",
    "print(\"grad_x =\", grad_x)\n",
    "print(\"grad_y =\", grad_y)\n",
    "print(\"grad_z =\", grad_z)\n",
    "print(datetime.now()-start)\n"
   ]
  },
  {
   "cell_type": "markdown",
   "metadata": {},
   "source": [
    "# pytorch"
   ]
  },
  {
   "cell_type": "code",
   "execution_count": 8,
   "metadata": {
    "scrolled": true
   },
   "outputs": [
    {
     "name": "stdout",
     "output_type": "stream",
     "text": [
      "a=  tensor([[ 0.0919, -0.4797, -1.2224, -0.3133],\n",
      "        [-0.4089, -0.0390,  1.6052,  1.2316],\n",
      "        [ 0.4981, -0.7964,  0.0960,  1.5216]], grad_fn=<MulBackward0>)\n",
      "b=  tensor([[-0.4097, -0.1490, -1.7462,  0.5244],\n",
      "        [-0.0930,  0.4548,  2.0031,  0.8779],\n",
      "        [-0.5724,  0.0925, -0.7900,  2.8938]], grad_fn=<AddBackward0>)\n",
      "c=  tensor(3.0864, grad_fn=<SumBackward0>)\n",
      "grad_x = tensor([[-0.5385,  0.7878,  0.7865,  1.6109],\n",
      "        [ 1.0173, -0.0499,  0.8144, -1.0111],\n",
      "        [ 0.6024,  1.0100,  1.4420, -0.7158]])\n",
      "grad_y = tensor([[-0.1707, -0.6089, -1.5542, -0.1945],\n",
      "        [-0.4019,  0.7814,  1.9709, -1.2181],\n",
      "        [ 0.8269, -0.7885,  0.0666, -2.1257]])\n",
      "grad_z = tensor([[1., 1., 1., 1.],\n",
      "        [1., 1., 1., 1.],\n",
      "        [1., 1., 1., 1.]])\n",
      "0:00:00.022939\n"
     ]
    }
   ],
   "source": [
    "import torch\n",
    "from torch.autograd import Variable\n",
    "from datetime import datetime\n",
    "start = datetime.now()\n",
    "\n",
    "N,D = 3,4\n",
    "x = Variable(torch.randn(N,D), requires_grad=True)\n",
    "y = Variable(torch.randn(N,D), requires_grad=True)\n",
    "z = Variable(torch.randn(N,D), requires_grad=True)\n",
    "\n",
    "a = x*y\n",
    "b = a+z\n",
    "c = torch.sum(b)\n",
    "\n",
    "print(\"a= \",a)\n",
    "print(\"b= \",b)\n",
    "print(\"c= \",c)\n",
    "\n",
    "c.backward()\n",
    "\n",
    "print(\"grad_x =\", x.grad)\n",
    "print(\"grad_y =\", y.grad)\n",
    "print(\"grad_z =\", z.grad)\n",
    "print(datetime.now()-start)"
   ]
  },
  {
   "cell_type": "code",
   "execution_count": null,
   "metadata": {},
   "outputs": [],
   "source": []
  }
 ],
 "metadata": {
  "kernelspec": {
   "display_name": "Python 3",
   "language": "python",
   "name": "python3"
  },
  "language_info": {
   "codemirror_mode": {
    "name": "ipython",
    "version": 3
   },
   "file_extension": ".py",
   "mimetype": "text/x-python",
   "name": "python",
   "nbconvert_exporter": "python",
   "pygments_lexer": "ipython3",
   "version": "3.7.3"
  }
 },
 "nbformat": 4,
 "nbformat_minor": 2
}
