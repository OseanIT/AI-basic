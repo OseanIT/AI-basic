{
 "cells": [
  {
   "cell_type": "markdown",
   "metadata": {},
   "source": [
    "# Neural Network with Quadratic Data\n",
    "- y = x^2+3\n",
    "- 3 hidden layers"
   ]
  },
  {
   "cell_type": "markdown",
   "metadata": {},
   "source": [
    "## 1.Import Required Libraries"
   ]
  },
  {
   "cell_type": "code",
   "execution_count": 1,
   "metadata": {},
   "outputs": [],
   "source": [
    "import torch\n",
    "import torch.nn as nn\n",
    "import torch.optim as optim\n",
    "import torch.nn.init as init\n",
    "#from torch.autograd import Variable"
   ]
  },
  {
   "cell_type": "code",
   "execution_count": 2,
   "metadata": {},
   "outputs": [
    {
     "name": "stderr",
     "output_type": "stream",
     "text": [
      "Setting up a new session...\n"
     ]
    }
   ],
   "source": [
    "from visdom import Visdom\n",
    "viz = Visdom()"
   ]
  },
  {
   "cell_type": "markdown",
   "metadata": {},
   "source": [
    "## 2. Data Generation"
   ]
  },
  {
   "cell_type": "code",
   "execution_count": 3,
   "metadata": {},
   "outputs": [],
   "source": [
    "num_data = 1000\n",
    "#num_epoch = 500\n",
    "num_epoch = 3000\n",
    "\n",
    "noise = init.normal_(torch.FloatTensor(num_data,1),std=1)\n",
    "\n",
    "x = init.uniform_(torch.Tensor(num_data,1),-15,15)\n",
    "y = (x**2) + 3 \n",
    "\n",
    "#y_noise = y + noise\n",
    "y_noise = (x+noise)**2 + 3 "
   ]
  },
  {
   "cell_type": "code",
   "execution_count": 4,
   "metadata": {},
   "outputs": [],
   "source": [
    "# visualize data\n",
    "\n",
    "import numpy as np\n",
    "\n",
    "input_data = torch.cat([x,y_noise],1)\n",
    "\n",
    "win=viz.scatter(\n",
    "    X = input_data,\n",
    "    opts=dict(\n",
    "        xtickmin=-15,\n",
    "        xtickmax=15,\n",
    "        xtickstep=1,\n",
    "        ytickmin=0,\n",
    "        ytickmax=500,\n",
    "        ytickstep=1,\n",
    "        markersymbol='dot',\n",
    "        markercolor=np.random.randint(0, 255, num_data),\n",
    "        markersize=5,\n",
    "    ),\n",
    ")\n",
    "'''\n",
    "viz.updateTrace(\n",
    "    X = x,\n",
    "    Y = y,\n",
    "    win=win,\n",
    ")\n",
    "'''\n",
    "line_data = torch.cat([x,y],1)\n",
    "win=viz.scatter(\n",
    "    X = line_data,\n",
    "    win=win,\n",
    "    update='append')"
   ]
  },
  {
   "cell_type": "markdown",
   "metadata": {},
   "source": [
    "## 3. Model & Optimizer"
   ]
  },
  {
   "cell_type": "code",
   "execution_count": 5,
   "metadata": {},
   "outputs": [],
   "source": [
    "# fully connected model with 3 hidden layer\n",
    "\n",
    "model = nn.Sequential(    # NN의 레이어를 nn.Sequential로 묶어서 NN 모델을 정의함.   클래스 라이브러리\n",
    "        nn.Linear(1,6),\n",
    "        nn.ReLU(),\n",
    "        nn.Linear(6,10),\n",
    "        nn.ReLU(),\n",
    "        nn.Linear(10,6),\n",
    "        nn.ReLU(),\n",
    "        nn.Linear(6,1),\n",
    "    )\n",
    "\n",
    "loss_func = nn.L1Loss()    # $ L1Loss(x,y) = \\frac{1}{n} \\sum | \\hat{y_i} - y_i | $\n",
    "optimizer = optim.SGD(model.parameters(),lr=0.0005)"
   ]
  },
  {
   "cell_type": "markdown",
   "metadata": {},
   "source": [
    "## 4. Train "
   ]
  },
  {
   "cell_type": "code",
   "execution_count": null,
   "metadata": {
    "scrolled": true
   },
   "outputs": [
    {
     "name": "stdout",
     "output_type": "stream",
     "text": [
      "tensor(77.4905)\n"
     ]
    }
   ],
   "source": [
    "loss_arr =[]\n",
    "\n",
    "for i in range(num_epoch):\n",
    "    optimizer.zero_grad()\n",
    "    output = model(x)\n",
    "\n",
    "    loss = loss_func(output,y_noise)\n",
    "    loss.backward()      # gradient calculation : $\\frac{\\partial loss}{\\partial w_i}$\n",
    "    optimizer.step()      # one step of SGD : $ w_{t+1} = w_t - gradient \\times learning \\, rate $\n",
    "    \n",
    "    if i % 100 ==0:\n",
    "        print(loss.data)\n",
    "    \n",
    "    loss_arr.append(loss.data)"
   ]
  },
  {
   "cell_type": "code",
   "execution_count": 74,
   "metadata": {
    "scrolled": true
   },
   "outputs": [
    {
     "name": "stdout",
     "output_type": "stream",
     "text": [
      "[Parameter containing:\n",
      "tensor([[-0.0645],\n",
      "        [ 0.0382],\n",
      "        [ 0.9000],\n",
      "        [-1.1699],\n",
      "        [-0.8225],\n",
      "        [ 1.1752]], requires_grad=True), Parameter containing:\n",
      "tensor([ 0.9754, -0.5735, -1.3473, -0.4199, -1.3856,  0.3086],\n",
      "       requires_grad=True), Parameter containing:\n",
      "tensor([[-0.4057, -0.3165, -0.3436, -0.2696,  0.2438, -0.4079],\n",
      "        [-0.4709, -0.2648,  0.4049,  0.5957,  0.7689,  0.6200],\n",
      "        [ 0.1766, -0.0365,  0.4995, -0.0241, -0.2415,  0.1652],\n",
      "        [ 0.2233,  0.1680,  0.5563,  0.1643, -0.2343,  0.3788],\n",
      "        [-0.2144, -0.2948,  0.1206, -0.3693,  0.3291,  0.2792],\n",
      "        [-0.8703, -0.2365,  1.0303,  0.4522,  1.0171,  0.2999],\n",
      "        [-0.4155,  0.2752, -0.1338,  0.4318,  0.5961, -0.2212],\n",
      "        [-0.1091, -0.2907,  0.2488,  0.6038,  0.3479,  0.5238],\n",
      "        [-0.1639,  0.2620,  0.0061,  0.0739, -0.0975,  0.0097],\n",
      "        [-0.1232, -0.0130, -0.4314, -0.2827,  0.3490,  0.3574]],\n",
      "       requires_grad=True), Parameter containing:\n",
      "tensor([ 0.3548, -0.4256,  0.1836, -0.4937,  0.2478, -0.5080, -0.1201, -0.6784,\n",
      "         0.3749,  0.3124], requires_grad=True), Parameter containing:\n",
      "tensor([[ 0.0909, -0.2016, -0.2703, -0.2769,  0.0598,  0.1156, -0.2614,  0.2286,\n",
      "          0.0427, -0.0128],\n",
      "        [-0.2042, -0.1728,  0.3798,  0.5088, -0.0757, -0.0890, -0.2640,  0.3408,\n",
      "          0.0419,  0.1111],\n",
      "        [ 0.1271,  0.1000,  0.2623, -0.0734, -0.3106, -0.3744,  0.1793,  0.1727,\n",
      "         -0.1997, -0.0977],\n",
      "        [ 0.0363,  0.2245,  0.3298,  0.2069,  0.1009,  0.7409,  0.0082,  0.3480,\n",
      "          0.1161, -0.3780],\n",
      "        [-0.0062,  1.1896,  0.3400,  0.2273,  0.1330,  1.5987,  0.7629,  0.8437,\n",
      "         -0.2422, -0.1855],\n",
      "        [-0.1766,  0.3598,  0.3217,  0.2891,  0.2018,  0.0712, -0.2046,  0.2485,\n",
      "         -0.2196, -0.0352]], requires_grad=True), Parameter containing:\n",
      "tensor([ 0.2625, -0.0028,  0.1081,  0.0498, -0.2021, -0.3544],\n",
      "       requires_grad=True), Parameter containing:\n",
      "tensor([[-0.2053,  0.4557, -0.1618,  0.8734,  2.3133,  0.4050]],\n",
      "       requires_grad=True), Parameter containing:\n",
      "tensor([0.3797], requires_grad=True)]\n"
     ]
    }
   ],
   "source": [
    "param_list = list(model.parameters())\n",
    "print(param_list)"
   ]
  },
  {
   "cell_type": "markdown",
   "metadata": {},
   "source": [
    "## 5. Visualize Trained Output"
   ]
  },
  {
   "cell_type": "code",
   "execution_count": 75,
   "metadata": {},
   "outputs": [],
   "source": [
    "win2=viz.scatter(\n",
    "    X = input_data,\n",
    "    opts=dict(\n",
    "        xtickmin=-15,\n",
    "        xtickmax=15,\n",
    "        xtickstep=1,\n",
    "        ytickmin=0,\n",
    "        ytickmax=500,\n",
    "        ytickstep=1,\n",
    "        markersymbol='dot',\n",
    "        markercolor=np.random.randint(0, 255, num_data),\n",
    "        markersize=5,\n",
    "    ),\n",
    ")\n",
    "\n",
    "'''\n",
    "viz.updateTrace(\n",
    "    X = x,\n",
    "    Y = output.cpu().data,\n",
    "    win = win2,\n",
    ")\n",
    "'''\n",
    "output_data = torch.cat([x,output.data],1)\n",
    "win2=viz.scatter(\n",
    "    X = output_data,\n",
    "    win = win2,\n",
    "    update='append')"
   ]
  },
  {
   "cell_type": "markdown",
   "metadata": {},
   "source": [
    "## 6. Visualize Loss Graph"
   ]
  },
  {
   "cell_type": "code",
   "execution_count": 76,
   "metadata": {},
   "outputs": [],
   "source": [
    "x = np.reshape([i for i in range(num_epoch)],newshape=[num_epoch,1])\n",
    "loss_data = np.reshape(loss_arr,newshape=[num_epoch,1])\n",
    "\n",
    "win3=viz.line(\n",
    "    X = x,\n",
    "    Y = loss_data,\n",
    ")"
   ]
  },
  {
   "cell_type": "code",
   "execution_count": 77,
   "metadata": {
    "scrolled": true
   },
   "outputs": [
    {
     "data": {
      "image/png": "[encoded data removed]",
      "text/plain": [
       "<Figure size 432x288 with 1 Axes>"
      ]
     },
     "metadata": {
      "needs_background": "light"
     },
     "output_type": "display_data"
    }
   ],
   "source": [
    "import matplotlib.pyplot as plt\n",
    "\n",
    "plt.plot(loss_arr)\n",
    "plt.show()"
   ]
  },
  {
   "cell_type": "code",
   "execution_count": null,
   "metadata": {},
   "outputs": [],
   "source": []
  }
 ],
 "metadata": {
  "kernelspec": {
   "display_name": "Python 3",
   "language": "python",
   "name": "python3"
  },
  "language_info": {
   "codemirror_mode": {
    "name": "ipython",
    "version": 3
   },
   "file_extension": ".py",
   "mimetype": "text/x-python",
   "name": "python",
   "nbconvert_exporter": "python",
   "pygments_lexer": "ipython3",
   "version": "3.7.3"
  }
 },
 "nbformat": 4,
 "nbformat_minor": 1
}
