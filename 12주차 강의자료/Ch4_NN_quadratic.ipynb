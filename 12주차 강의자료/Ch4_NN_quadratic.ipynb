{
 "cells": [
  {
   "cell_type": "markdown",
   "metadata": {},
   "source": [
    "# Neural Network with Quadratic Data\n",
    "- y = x^2+3\n",
    "- 3 hidden layers"
   ]
  },
  {
   "cell_type": "markdown",
   "metadata": {},
   "source": [
    "## 1.Import Required Libraries"
   ]
  },
  {
   "cell_type": "code",
   "execution_count": 1,
   "metadata": {},
   "outputs": [],
   "source": [
    "import torch\n",
    "import torch.nn as nn\n",
    "import torch.optim as optim\n",
    "import torch.nn.init as init\n",
    "#from torch.autograd import Variable"
   ]
  },
  {
   "cell_type": "code",
   "execution_count": 2,
   "metadata": {},
   "outputs": [
    {
     "name": "stderr",
     "output_type": "stream",
     "text": [
      "Setting up a new session...\n"
     ]
    }
   ],
   "source": [
    "from visdom import Visdom\n",
    "viz = Visdom()"
   ]
  },
  {
   "cell_type": "markdown",
   "metadata": {},
   "source": [
    "## 2. Data Generation"
   ]
  },
  {
   "cell_type": "code",
   "execution_count": 3,
   "metadata": {},
   "outputs": [],
   "source": [
    "num_data = 1000\n",
    "#num_epoch = 500\n",
    "num_epoch = 3000\n",
    "\n",
    "noise = init.normal_(torch.FloatTensor(num_data,1),std=1)\n",
    "\n",
    "x = init.uniform_(torch.Tensor(num_data,1),-15,15)\n",
    "y = (x**2) + 3 \n",
    "\n",
    "#y_noise = y + noise\n",
    "y_noise = (x+noise)**2 + 3 "
   ]
  },
  {
   "cell_type": "code",
   "execution_count": 4,
   "metadata": {},
   "outputs": [],
   "source": [
    "# visualize data\n",
    "\n",
    "import numpy as np\n",
    "\n",
    "input_data = torch.cat([x,y_noise],1)\n",
    "\n",
    "win=viz.scatter(\n",
    "    X = input_data,\n",
    "    opts=dict(\n",
    "        xtickmin=-15,\n",
    "        xtickmax=15,\n",
    "        xtickstep=1,\n",
    "        ytickmin=0,\n",
    "        ytickmax=500,\n",
    "        ytickstep=1,\n",
    "        markersymbol='dot',\n",
    "        markercolor=np.random.randint(0, 255, num_data),\n",
    "        markersize=5,\n",
    "    ),\n",
    ")\n",
    "'''\n",
    "viz.updateTrace(\n",
    "    X = x,\n",
    "    Y = y,\n",
    "    win=win,\n",
    ")\n",
    "'''\n",
    "line_data = torch.cat([x,y],1)\n",
    "win=viz.scatter(\n",
    "    X = line_data,\n",
    "    win=win,\n",
    "    update='append')"
   ]
  },
  {
   "cell_type": "markdown",
   "metadata": {},
   "source": [
    "## 3. Model & Optimizer"
   ]
  },
  {
   "cell_type": "code",
   "execution_count": 5,
   "metadata": {},
   "outputs": [],
   "source": [
    "# fully connected model with 3 hidden layer\n",
    "\n",
    "model = nn.Sequential(    # NN의 레이어를 nn.Sequential로 묶어서 NN 모델을 정의함.   클래스 라이브러리\n",
    "        nn.Linear(1,6),\n",
    "        nn.ReLU(),\n",
    "        nn.Linear(6,10),\n",
    "        nn.ReLU(),\n",
    "        nn.Linear(10,6),\n",
    "        nn.ReLU(),\n",
    "        nn.Linear(6,1),\n",
    "    )\n",
    "\n",
    "loss_func = nn.L1Loss()    # $ L1Loss(x,y) = \\frac{1}{n} \\sum | \\hat{y_i} - y_i | $\n",
    "optimizer = optim.SGD(model.parameters(),lr=0.0005)"
   ]
  },
  {
   "cell_type": "markdown",
   "metadata": {},
   "source": [
    "## 4. Train "
   ]
  },
  {
   "cell_type": "code",
   "execution_count": 14,
   "metadata": {
    "scrolled": true
   },
   "outputs": [
    {
     "name": "stdout",
     "output_type": "stream",
     "text": [
      "tensor(11.8161)\n",
      "tensor(11.8144)\n",
      "tensor(11.8134)\n",
      "tensor(11.8112)\n",
      "tensor(11.8086)\n",
      "tensor(11.8078)\n",
      "tensor(11.8063)\n",
      "tensor(11.8043)\n",
      "tensor(11.8030)\n",
      "tensor(11.8018)\n",
      "tensor(11.8010)\n",
      "tensor(11.8001)\n",
      "tensor(11.7991)\n",
      "tensor(11.7982)\n",
      "tensor(11.7974)\n",
      "tensor(11.7965)\n",
      "tensor(11.7955)\n",
      "tensor(11.7937)\n",
      "tensor(11.7901)\n",
      "tensor(11.7878)\n",
      "tensor(11.7863)\n",
      "tensor(11.7844)\n",
      "tensor(11.7830)\n",
      "tensor(11.7819)\n",
      "tensor(11.7810)\n",
      "tensor(11.7802)\n",
      "tensor(11.7795)\n",
      "tensor(11.7789)\n",
      "tensor(11.7782)\n",
      "tensor(11.7775)\n"
     ]
    },
    {
     "name": "stderr",
     "output_type": "stream",
     "text": [
      "Connection is already closed.\n",
      "[WinError 10061] 대상 컴퓨터에서 연결을 거부했으므로 연결하지 못했습니다\n",
      "Connection is already closed.\n",
      "[WinError 10061] 대상 컴퓨터에서 연결을 거부했으므로 연결하지 못했습니다\n",
      "[WinError 10061] 대상 컴퓨터에서 연결을 거부했으므로 연결하지 못했습니다\n",
      "[WinError 10061] 대상 컴퓨터에서 연결을 거부했으므로 연결하지 못했습니다\n",
      "[WinError 10061] 대상 컴퓨터에서 연결을 거부했으므로 연결하지 못했습니다\n",
      "[WinError 10061] 대상 컴퓨터에서 연결을 거부했으므로 연결하지 못했습니다\n",
      "[WinError 10061] 대상 컴퓨터에서 연결을 거부했으므로 연결하지 못했습니다\n",
      "[WinError 10061] 대상 컴퓨터에서 연결을 거부했으므로 연결하지 못했습니다\n",
      "[WinError 10061] 대상 컴퓨터에서 연결을 거부했으므로 연결하지 못했습니다\n",
      "[WinError 10061] 대상 컴퓨터에서 연결을 거부했으므로 연결하지 못했습니다\n",
      "[WinError 10061] 대상 컴퓨터에서 연결을 거부했으므로 연결하지 못했습니다\n",
      "[WinError 10061] 대상 컴퓨터에서 연결을 거부했으므로 연결하지 못했습니다\n",
      "[WinError 10061] 대상 컴퓨터에서 연결을 거부했으므로 연결하지 못했습니다\n",
      "[WinError 10061] 대상 컴퓨터에서 연결을 거부했으므로 연결하지 못했습니다\n",
      "[WinError 10061] 대상 컴퓨터에서 연결을 거부했으므로 연결하지 못했습니다\n",
      "[WinError 10061] 대상 컴퓨터에서 연결을 거부했으므로 연결하지 못했습니다\n",
      "[WinError 10061] 대상 컴퓨터에서 연결을 거부했으므로 연결하지 못했습니다\n",
      "[WinError 10061] 대상 컴퓨터에서 연결을 거부했으므로 연결하지 못했습니다\n"
     ]
    }
   ],
   "source": [
    "loss_arr =[]\n",
    "\n",
    "for i in range(num_epoch):\n",
    "    optimizer.zero_grad()\n",
    "    output = model(x)\n",
    "\n",
    "    loss = loss_func(output,y_noise)\n",
    "    loss.backward()      # gradient calculation : $\\frac{\\partial loss}{\\partial w_i}$\n",
    "    optimizer.step()      # one step of SGD : $ w_{t+1} = w_t - gradient \\times learning \\, rate $\n",
    "    \n",
    "    if i % 100 ==0:\n",
    "        print(loss.data)\n",
    "    \n",
    "    loss_arr.append(loss.data)"
   ]
  },
  {
   "cell_type": "code",
   "execution_count": 9,
   "metadata": {
    "scrolled": true
   },
   "outputs": [
    {
     "name": "stdout",
     "output_type": "stream",
     "text": [
      "[Parameter containing:\n",
      "tensor([[ 1.1328],\n",
      "        [-0.0592],\n",
      "        [ 0.2261],\n",
      "        [-1.1149],\n",
      "        [ 0.8837],\n",
      "        [-0.7084]], requires_grad=True), Parameter containing:\n",
      "tensor([-0.5028, -0.8859, -1.6219, -0.0196, -0.4200, -1.5939],\n",
      "       requires_grad=True), Parameter containing:\n",
      "tensor([[-0.3607,  0.3549, -0.0536, -0.0118, -0.1810,  0.4191],\n",
      "        [ 0.2821, -0.1469,  1.2512,  0.5238,  0.3419,  1.0025],\n",
      "        [-0.2147, -0.1420, -0.2450, -0.1839, -0.0820,  0.4443],\n",
      "        [ 0.0645, -0.2535,  0.0610, -0.1911, -0.1353,  0.2141],\n",
      "        [ 0.2043,  0.2472,  0.4279, -0.3475, -0.1916, -0.0653],\n",
      "        [ 0.0950,  0.0804, -0.2013,  0.3127, -0.1980,  0.0013],\n",
      "        [ 0.5559, -0.2006,  0.9727, -0.2809,  0.3053,  1.2146],\n",
      "        [ 0.0931, -0.1720, -0.4009, -0.3994, -0.3165,  0.0295],\n",
      "        [ 0.4879, -0.0322, -0.1388, -0.2452,  0.3817,  0.2008],\n",
      "        [ 0.2856, -0.0739,  0.1839,  0.0952, -0.3145, -0.1288]],\n",
      "       requires_grad=True), Parameter containing:\n",
      "tensor([-0.2032, -2.0760, -0.1925,  0.2172, -0.4121, -0.5114, -1.4035,  0.0472,\n",
      "        -0.1299, -0.3048], requires_grad=True), Parameter containing:\n",
      "tensor([[ 1.9505e-01,  1.5305e+00,  5.1016e-01, -2.4430e-02,  4.2297e-01,\n",
      "          4.4885e-01,  1.3548e+00,  2.7852e-01,  2.4481e-01,  3.2500e-01],\n",
      "        [ 4.2859e-01,  1.1042e+00, -9.6347e-02, -3.3699e-02,  2.2537e-01,\n",
      "          4.0449e-01,  5.7838e-01, -3.3622e-02,  1.2365e-01, -1.8658e-01],\n",
      "        [ 2.0470e-01,  1.6175e+00, -5.8936e-02,  1.7030e-01,  1.9251e-02,\n",
      "         -3.8451e-03,  1.3469e+00, -3.4341e-03,  4.0100e-01,  1.7698e-01],\n",
      "        [-1.0588e-01, -3.0197e-02, -2.2605e-01,  2.6323e-01, -4.3529e-02,\n",
      "         -1.4044e-01, -2.0803e-01,  7.3879e-02,  1.2964e-01,  1.4662e-01],\n",
      "        [ 2.3060e-01,  9.2218e-01, -1.0132e-03, -1.0370e-01,  4.3328e-01,\n",
      "         -1.9672e-01,  6.4343e-01, -5.9391e-02, -2.4570e-01, -6.8668e-02],\n",
      "        [ 2.3475e-01,  2.1095e-01,  3.1958e-01, -3.1029e-01, -6.0994e-02,\n",
      "         -2.7420e-02,  4.2515e-01,  2.2652e-01, -2.2823e-01,  8.7681e-02]],\n",
      "       requires_grad=True), Parameter containing:\n",
      "tensor([-0.8197, -0.2486, -0.2430,  0.2835, -0.1283, -0.1851],\n",
      "       requires_grad=True), Parameter containing:\n",
      "tensor([[2.3290, 1.3234, 2.0884, 0.2192, 1.1329, 0.5422]], requires_grad=True), Parameter containing:\n",
      "tensor([0.2389], requires_grad=True)]\n"
     ]
    }
   ],
   "source": [
    "param_list = list(model.parameters())\n",
    "print(param_list)"
   ]
  },
  {
   "cell_type": "markdown",
   "metadata": {},
   "source": [
    "## 5. Visualize Trained Output"
   ]
  },
  {
   "cell_type": "code",
   "execution_count": 7,
   "metadata": {},
   "outputs": [],
   "source": [
    "win2=viz.scatter(\n",
    "    X = input_data,\n",
    "    opts=dict(\n",
    "        xtickmin=-15,\n",
    "        xtickmax=15,\n",
    "        xtickstep=1,\n",
    "        ytickmin=0,\n",
    "        ytickmax=500,\n",
    "        ytickstep=1,\n",
    "        markersymbol='dot',\n",
    "        markercolor=np.random.randint(0, 255, num_data),\n",
    "        markersize=5,\n",
    "    ),\n",
    ")\n",
    "\n",
    "'''\n",
    "viz.updateTrace(\n",
    "    X = x,\n",
    "    Y = output.cpu().data,\n",
    "    win = win2,\n",
    ")\n",
    "'''\n",
    "output_data = torch.cat([x,output.data],1)\n",
    "win2=viz.scatter(\n",
    "    X = output_data,\n",
    "    win = win2,\n",
    "    update='append')"
   ]
  },
  {
   "cell_type": "markdown",
   "metadata": {},
   "source": [
    "## 6. Visualize Loss Graph"
   ]
  },
  {
   "cell_type": "code",
   "execution_count": 76,
   "metadata": {},
   "outputs": [],
   "source": [
    "x = np.reshape([i for i in range(num_epoch)],newshape=[num_epoch,1])\n",
    "loss_data = np.reshape(loss_arr,newshape=[num_epoch,1])\n",
    "\n",
    "win3=viz.line(\n",
    "    X = x,\n",
    "    Y = loss_data,\n",
    ")"
   ]
  },
  {
   "cell_type": "code",
   "execution_count": 77,
   "metadata": {
    "scrolled": true
   },
   "outputs": [
    {
     "data": {
      "image/png": "[encoded data removed]",
      "text/plain": [
       "<Figure size 432x288 with 1 Axes>"
      ]
     },
     "metadata": {
      "needs_background": "light"
     },
     "output_type": "display_data"
    }
   ],
   "source": [
    "import matplotlib.pyplot as plt\n",
    "\n",
    "plt.plot(loss_arr)\n",
    "plt.show()"
   ]
  },
  {
   "cell_type": "code",
   "execution_count": null,
   "metadata": {},
   "outputs": [],
   "source": []
  }
 ],
 "metadata": {
  "kernelspec": {
   "display_name": "Python 3",
   "language": "python",
   "name": "python3"
  },
  "language_info": {
   "codemirror_mode": {
    "name": "ipython",
    "version": 3
   },
   "file_extension": ".py",
   "mimetype": "text/x-python",
   "name": "python",
   "nbconvert_exporter": "python",
   "pygments_lexer": "ipython3",
   "version": "3.7.3"
  }
 },
 "nbformat": 4,
 "nbformat_minor": 1
}
